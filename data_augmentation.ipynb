{
 "cells": [
  {
   "cell_type": "code",
   "execution_count": 13,
   "id": "b03f38b5",
   "metadata": {},
   "outputs": [],
   "source": [
    "import numpy\n",
    "import pandas as pd\n",
    "import matplotlib.pyplot as plt\n",
    "from collections import Counter\n",
    "from sklearn.model_selection import train_test_split\n",
    "\n",
    "import torch\n",
    "import torch.nn as nn\n",
    "import torchvision\n",
    "from torchvision import datasets, transforms\n",
    "from torch.utils.data import Dataset, DataLoader, random_split, WeightedRandomSampler\n",
    "import torch.optim as optim\n",
    "from torch.utils.data import Subset\n",
    "from torchvision.datasets import ImageFolder"
   ]
  },
  {
   "cell_type": "code",
   "execution_count": 15,
   "id": "0f8b48c8",
   "metadata": {},
   "outputs": [
    {
     "name": "stdout",
     "output_type": "stream",
     "text": [
      "The number of images in a training set is: 861856\n",
      "The number of images in a test set is: 107744\n"
     ]
    }
   ],
   "source": [
    "transform = transforms.Compose([\n",
    "    transforms.ToTensor(),\n",
    "    transforms.RandomGrayscale(),\n",
    "    transforms.RandomHorizontalFlip(),\n",
    "    transforms.RandomInvert(),\n",
    "    transforms.RandomRotation(30),\n",
    "])\n",
    "\n",
    "data = datasets.ImageFolder('dataset', transform=transform)\n",
    "\n",
    "# Split into train/test sets:\n",
    "train_len = int(len(data)*0.8)\n",
    "train_set, test_set = random_split(data, [train_len, len(data) - train_len])\n",
    "\n",
    "# Extract classes:\n",
    "train_classes = [train_set.dataset.targets[i] for i in train_set.indices]\n",
    "# Calculate support:\n",
    "class_count = Counter(train_classes)\n",
    "# Calculate class weights:\n",
    "class_weights = torch.DoubleTensor([len(train_classes)/c for c in pd.Series(class_count).sort_index().values]) \n",
    "# Sampler needs the respective class weight supplied for each image in the dataset:\n",
    "sample_weights = [class_weights[train_set.dataset.targets[i]] for i in train_set.indices]\n",
    "\n",
    "sampler = WeightedRandomSampler(weights=sample_weights, num_samples=int(len(train_set)*2), replacement=True)\n",
    "\n",
    "batch_size=32\n",
    "\n",
    "# Create torch dataloaders:\n",
    "train_loader = DataLoader(train_set, batch_size=4, sampler=sampler, num_workers=12)\n",
    "print(\"The number of images in a training set is:\", len(train_loader)*batch_size)\n",
    "\n",
    "test_loader = DataLoader(test_set, batch_size=4, shuffle=False, num_workers=12)\n",
    "print(\"The number of images in a test set is:\", len(test_loader)*batch_size)"
   ]
  },
  {
   "cell_type": "code",
   "execution_count": null,
   "id": "ba13e3ff",
   "metadata": {},
   "outputs": [],
   "source": []
  },
  {
   "cell_type": "code",
   "execution_count": null,
   "id": "06dd8f20",
   "metadata": {},
   "outputs": [],
   "source": []
  }
 ],
 "metadata": {
  "kernelspec": {
   "display_name": "Python 3 (ipykernel)",
   "language": "python",
   "name": "python3"
  },
  "language_info": {
   "codemirror_mode": {
    "name": "ipython",
    "version": 3
   },
   "file_extension": ".py",
   "mimetype": "text/x-python",
   "name": "python",
   "nbconvert_exporter": "python",
   "pygments_lexer": "ipython3",
   "version": "3.10.5"
  }
 },
 "nbformat": 4,
 "nbformat_minor": 5
}
