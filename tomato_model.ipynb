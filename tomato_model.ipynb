{
 "cells": [
  {
   "cell_type": "code",
   "execution_count": 3,
   "id": "fe29e85e",
   "metadata": {},
   "outputs": [],
   "source": [
    "import numpy\n",
    "import matplotlib.pyplot as plt\n",
    "from sklearn.model_selection import train_test_split\n",
    "\n",
    "import torch\n",
    "import torch.nn as nn\n",
    "import torchvision\n",
    "from torchvision import datasets, transforms\n",
    "import torch.optim as optim\n",
    "from torch.utils.data import DataLoader\n",
    "from torch.utils.data import Subset\n",
    "from torchvision.datasets import ImageFolder\n",
    "import cv2\n",
    "\n",
    "\n",
    "torch.cuda.empty_cache()"
   ]
  },
  {
   "cell_type": "code",
   "execution_count": 7,
   "id": "0646ab3f",
   "metadata": {},
   "outputs": [],
   "source": [
    "cap = cv2.VideoCapture('http://192.168.0.107:8080/video')\n",
    "\n",
    "while True:\n",
    "    status, photo = cap.read()\n",
    "    cv2.imshow('hi', photo)\n",
    "    if cv2.waitKey(1) == 13:\n",
    "        break\n",
    "cv2.destroyAllWindows()\n",
    "cap.release()"
   ]
  },
  {
   "cell_type": "code",
   "execution_count": 12,
   "id": "cbc82168",
   "metadata": {},
   "outputs": [
    {
     "name": "stdout",
     "output_type": "stream",
     "text": [
      "tensor([[ -12.5842,   -3.3236,   39.2880,  -22.7289,    5.7179,   39.4954,\n",
      "           14.9348, -114.3501]], grad_fn=<AddmmBackward0>)\n",
      "5\n",
      "Target_Spot\n"
     ]
    }
   ],
   "source": [
    "import torch\n",
    "from torchvision.transforms import transforms\n",
    "from PIL import Image\n",
    "from pathlib import Path\n",
    "\n",
    "\n",
    "# # To get the weights from the .pth file!\n",
    "class NeuralNetwork(nn.Module):\n",
    "    def __init__(self):\n",
    "        super(NeuralNetwork, self).__init__()\n",
    "        self.cnn = nn.Conv2d(in_channels=3, out_channels=16, kernel_size=5, stride=1, padding=2)\n",
    "        self.relu = nn.LeakyReLU()\n",
    "        self.maxpool = nn.MaxPool2d(kernel_size=2)\n",
    "        self.cnn2 = nn.Conv2d(in_channels=16, out_channels=8, kernel_size=3, stride=1, padding=2)\n",
    "        self.relu2 = nn.LeakyReLU()\n",
    "        self.maxpool2 = nn.MaxPool2d(kernel_size=2)\n",
    "        self.fc1 = nn.Linear(8*65*65, 1000)\n",
    "        self.fc2 = nn.Linear(1000, 8)\n",
    "        \n",
    "        \n",
    "    def forward(self, x):\n",
    "        out = self.cnn(x)\n",
    "        out = self.relu(out)\n",
    "        out = self.maxpool(out)\n",
    "        out = self.cnn2(out)\n",
    "        out = self.relu2(out)\n",
    "        out = self.maxpool2(out)\n",
    "        out = out.view(out.size(0), -1)\n",
    "        out = self.fc1(out)\n",
    "        out = self.fc2(out)\n",
    "        return out\n",
    "\n",
    "model = NeuralNetwork()\n",
    "checkpoint = torch.load(Path('tomato.pk1'))\n",
    "model.load_state_dict(checkpoint)\n",
    "\n",
    "# # Preprocess any image before passing it to the model\n",
    "test_transform = transforms.Compose([\n",
    "    transforms.ToTensor(),\n",
    "    transforms.CenterCrop(256),\n",
    "    transforms.RandomGrayscale(),\n",
    "    transforms.RandomHorizontalFlip(),\n",
    "    transforms.RandomInvert(),\n",
    "    transforms.RandomRotation(30),\n",
    "])\n",
    "\n",
    "\n",
    "image = Image.open(Path('yellow.jpg'))\n",
    "\n",
    "input = test_transform(image)\n",
    "\n",
    "input = input.view(1, 3, 256,256)\n",
    "\n",
    "output = model(input)\n",
    "print(output)\n",
    "\n",
    "prediction = int(torch.max(output.data, 1)[1].numpy())\n",
    "print(prediction)\n",
    "\n",
    "if (prediction == 0):\n",
    "    print ('Bacterial_spot')\n",
    "if (prediction == 1):\n",
    "    print ('Early_blight')\n",
    "if (prediction == 2):\n",
    "    print ('Late_blight')\n",
    "if (prediction == 3):\n",
    "    print ('Septoria_leaf_spot')\n",
    "if (prediction == 4):\n",
    "    print ('Two-spotted_spider_mite')\n",
    "if (prediction == 5):\n",
    "    print ('Target_Spot')\n",
    "if (prediction == 6):\n",
    "    print ('Tomato_Yellow_Leaf_Curl_Virus')\n",
    "if (prediction == 7):\n",
    "    print ('Tomato___healthy')"
   ]
  },
  {
   "cell_type": "code",
   "execution_count": null,
   "id": "4a8b3496",
   "metadata": {},
   "outputs": [],
   "source": []
  },
  {
   "cell_type": "code",
   "execution_count": null,
   "id": "ef9ccace",
   "metadata": {},
   "outputs": [],
   "source": []
  }
 ],
 "metadata": {
  "kernelspec": {
   "display_name": "Python 3 (ipykernel)",
   "language": "python",
   "name": "python3"
  },
  "language_info": {
   "codemirror_mode": {
    "name": "ipython",
    "version": 3
   },
   "file_extension": ".py",
   "mimetype": "text/x-python",
   "name": "python",
   "nbconvert_exporter": "python",
   "pygments_lexer": "ipython3",
   "version": "3.10.5"
  }
 },
 "nbformat": 4,
 "nbformat_minor": 5
}
