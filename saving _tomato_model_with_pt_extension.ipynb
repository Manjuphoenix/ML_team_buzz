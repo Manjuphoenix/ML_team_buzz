{
  "cells": [
    {
      "cell_type": "code",
      "execution_count": 1,
      "id": "fe29e85e",
      "metadata": {
        "id": "fe29e85e"
      },
      "outputs": [],
      "source": [
        "import numpy\n",
        "import matplotlib.pyplot as plt\n",
        "from sklearn.model_selection import train_test_split\n",
        "\n",
        "import torch\n",
        "import torch.nn as nn\n",
        "import torchvision\n",
        "from torchvision import datasets, transforms\n",
        "import torch.optim as optim\n",
        "from torch.utils.data import DataLoader\n",
        "from torch.utils.data import Subset\n",
        "from torchvision.datasets import ImageFolder\n",
        "import cv2\n",
        "\n",
        "\n",
        "torch.cuda.empty_cache()"
      ]
    },
    {
      "cell_type": "code",
      "source": [
        "from google.colab import drive\n",
        "drive.mount('/content/drive')"
      ],
      "metadata": {
        "id": "WbD7UuGFVtht",
        "outputId": "48e32c25-0e40-4ea7-ee64-abf903525aad",
        "colab": {
          "base_uri": "https://localhost:8080/"
        }
      },
      "id": "WbD7UuGFVtht",
      "execution_count": 2,
      "outputs": [
        {
          "output_type": "stream",
          "name": "stdout",
          "text": [
            "Mounted at /gdrive\n"
          ]
        }
      ]
    },
    {
      "cell_type": "code",
      "execution_count": null,
      "id": "0646ab3f",
      "metadata": {
        "id": "0646ab3f"
      },
      "outputs": [],
      "source": [
        "cap = cv2.VideoCapture('http://192.168.0.107:8080/video')\n",
        "\n",
        "while True:\n",
        "    status, photo = cap.read()\n",
        "    cv2.imshow('hi', photo)\n",
        "    if cv2.waitKey(1) == 13:\n",
        "        break\n",
        "cv2.destroyAllWindows()\n",
        "cap.release()"
      ]
    },
    {
      "cell_type": "code",
      "execution_count": 5,
      "id": "cbc82168",
      "metadata": {
        "id": "cbc82168",
        "outputId": "cb7dda77-5a21-42e9-a35f-5192aa604f7b",
        "colab": {
          "base_uri": "https://localhost:8080/"
        }
      },
      "outputs": [
        {
          "output_type": "stream",
          "name": "stdout",
          "text": [
            "tensor([[ 3.4272, -4.5993, -5.2517,  2.7297, -2.5532, -1.2126, -3.9265, 11.3863]],\n",
            "       grad_fn=<AddmmBackward0>)\n",
            "7\n",
            "Tomato___healthy\n"
          ]
        }
      ],
      "source": [
        "import torch\n",
        "from torchvision.transforms import transforms\n",
        "from PIL import Image\n",
        "from pathlib import Path\n",
        "\n",
        "\n",
        "# # To get the weights from the .pth file!\n",
        "class NeuralNetwork(nn.Module):\n",
        "    def __init__(self):\n",
        "        super(NeuralNetwork, self).__init__()\n",
        "        self.cnn = nn.Conv2d(in_channels=3, out_channels=16, kernel_size=5, stride=1, padding=2)\n",
        "        self.relu = nn.LeakyReLU()\n",
        "        self.maxpool = nn.MaxPool2d(kernel_size=2)\n",
        "        self.cnn2 = nn.Conv2d(in_channels=16, out_channels=32, kernel_size=3, stride=1, padding=2)\n",
        "        self.relu2 = nn.LeakyReLU()\n",
        "        self.maxpool2 = nn.MaxPool2d(kernel_size=2)\n",
        "        self.fc1 = nn.Linear(32*65*65, 1000)\n",
        "        self.fc2 = nn.Linear(1000, 8)\n",
        "        \n",
        "        \n",
        "    def forward(self, x):\n",
        "        out = self.cnn(x)\n",
        "        out = self.relu(out)\n",
        "        out = self.maxpool(out)\n",
        "        out = self.cnn2(out)\n",
        "        out = self.relu2(out)\n",
        "        out = self.maxpool2(out)\n",
        "        out = out.view(out.size(0), -1)\n",
        "        out = self.fc1(out)\n",
        "        out = self.fc2(out)\n",
        "        return out\n",
        "\n",
        "model = NeuralNetwork()\n",
        "checkpoint = torch.load(Path('/content/drive/MyDrive/v3_tomato.pk1'))\n",
        "model.load_state_dict(checkpoint)\n",
        "\n",
        "# # Preprocess any image before passing it to the model\n",
        "test_transform = transforms.Compose([\n",
        "    transforms.ToTensor(),\n",
        "    transforms.CenterCrop(256),\n",
        "    transforms.RandomGrayscale(),\n",
        "    transforms.RandomHorizontalFlip(),\n",
        "    transforms.RandomInvert(),\n",
        "    transforms.RandomRotation(30),\n",
        "])\n",
        "\n",
        "\n",
        "image = Image.open(Path('/content/drive/MyDrive/Tomato_dataset/tHealthy.JPG'))\n",
        "\n",
        "input = test_transform(image)\n",
        "\n",
        "input = input.view(1, 3, 256,256)\n",
        "\n",
        "output = model(input)\n",
        "print(output)\n",
        "\n",
        "prediction = int(torch.max(output.data, 1)[1].numpy())\n",
        "print(prediction)\n",
        "\n",
        "if (prediction == 0):\n",
        "    print ('Bacterial_spot')\n",
        "if (prediction == 1):\n",
        "    print ('Early_blight')\n",
        "if (prediction == 2):\n",
        "    print ('Late_blight')\n",
        "if (prediction == 3):\n",
        "    print ('Septoria_leaf_spot')\n",
        "if (prediction == 4):\n",
        "    print ('Two-spotted_spider_mite')\n",
        "if (prediction == 5):\n",
        "    print ('Target_Spot')\n",
        "if (prediction == 6):\n",
        "    print ('Tomato_Yellow_Leaf_Curl_Virus')\n",
        "if (prediction == 7):\n",
        "    print ('Tomato___healthy')"
      ]
    },
    {
      "cell_type": "code",
      "source": [
        "model_scripted = torch.jit.script(model) # Export to TorchScript\n",
        "model_scripted.save('/content/drive/MyDrive/v3_tomato_nov_1_22.pt')"
      ],
      "metadata": {
        "id": "3VFnGkfwWHaN"
      },
      "id": "3VFnGkfwWHaN",
      "execution_count": 9,
      "outputs": []
    },
    {
      "cell_type": "code",
      "source": [],
      "metadata": {
        "id": "ElK4be9sWHIl"
      },
      "id": "ElK4be9sWHIl",
      "execution_count": null,
      "outputs": []
    },
    {
      "cell_type": "code",
      "source": [],
      "metadata": {
        "id": "L_UmG0fAV25_",
        "outputId": "5ad10ed2-113c-4092-d1ce-56e449ca70d1",
        "colab": {
          "base_uri": "https://localhost:8080/"
        }
      },
      "id": "L_UmG0fAV25_",
      "execution_count": 3,
      "outputs": [
        {
          "output_type": "stream",
          "name": "stdout",
          "text": [
            "Mounted at /content/drive\n"
          ]
        }
      ]
    },
    {
      "cell_type": "code",
      "execution_count": null,
      "id": "4a8b3496",
      "metadata": {
        "id": "4a8b3496"
      },
      "outputs": [],
      "source": []
    },
    {
      "cell_type": "code",
      "execution_count": null,
      "id": "ef9ccace",
      "metadata": {
        "id": "ef9ccace"
      },
      "outputs": [],
      "source": []
    }
  ],
  "metadata": {
    "kernelspec": {
      "display_name": "Python 3 (ipykernel)",
      "language": "python",
      "name": "python3"
    },
    "language_info": {
      "codemirror_mode": {
        "name": "ipython",
        "version": 3
      },
      "file_extension": ".py",
      "mimetype": "text/x-python",
      "name": "python",
      "nbconvert_exporter": "python",
      "pygments_lexer": "ipython3",
      "version": "3.10.5"
    },
    "colab": {
      "provenance": []
    },
    "accelerator": "GPU",
    "gpuClass": "standard"
  },
  "nbformat": 4,
  "nbformat_minor": 5
}