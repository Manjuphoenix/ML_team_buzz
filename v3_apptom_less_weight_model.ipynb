{
  "metadata": {
    "kernelspec": {
      "language": "python",
      "display_name": "Python 3",
      "name": "python3"
    },
    "language_info": {
      "name": "python",
      "version": "3.7.12",
      "mimetype": "text/x-python",
      "codemirror_mode": {
        "name": "ipython",
        "version": 3
      },
      "pygments_lexer": "ipython3",
      "nbconvert_exporter": "python",
      "file_extension": ".py"
    },
    "colab": {
      "provenance": [],
      "machine_shape": "hm",
      "include_colab_link": true
    },
    "accelerator": "GPU",
    "gpuClass": "standard"
  },
  "nbformat_minor": 0,
  "nbformat": 4,
  "cells": [
    {
      "cell_type": "markdown",
      "metadata": {
        "id": "view-in-github",
        "colab_type": "text"
      },
      "source": [
        "<a href=\"https://colab.research.google.com/github/Manjuphoenix/ML_team_buzz/blob/michelle/v3_apptom_less_weight_model.ipynb\" target=\"_parent\"><img src=\"https://colab.research.google.com/assets/colab-badge.svg\" alt=\"Open In Colab\"/></a>"
      ]
    },
    {
      "cell_type": "code",
      "source": [
        "import os\n",
        "import shutil\n",
        "import numpy as np\n",
        "import pandas as pd\n",
        "import matplotlib.pyplot as plt\n",
        "from matplotlib.image import imread\n",
        "from collections import Counter\n",
        "\n",
        "from PIL import Image\n",
        "\n",
        "import torch\n",
        "import torchvision\n",
        "from torch import utils\n",
        "import torch.nn as nn\n",
        "import torch.optim as optim\n",
        "from torch.optim import lr_scheduler\n",
        "from torchvision import datasets, transforms\n",
        "import torchvision.models as models\n",
        "import torch.nn.functional as F\n",
        "from torchvision.datasets import ImageFolder\n",
        "from torch.utils.data import Dataset, DataLoader, random_split, WeightedRandomSampler, ConcatDataset\n",
        "\n",
        "\n",
        "\n",
        "from sklearn.model_selection import train_test_split\n",
        "from tqdm import tqdm\n",
        "\n",
        "\n",
        "torch.cuda.empty_cache()"
      ],
      "metadata": {
        "_uuid": "8f2839f25d086af736a60e9eeb907d3b93b6e0e5",
        "_cell_guid": "b1076dfc-b9ad-4769-8c92-a6c4dae69d19",
        "execution": {
          "iopub.status.busy": "2022-06-08T09:57:22.352057Z",
          "iopub.execute_input": "2022-06-08T09:57:22.352785Z",
          "iopub.status.idle": "2022-06-08T09:57:26.046673Z",
          "shell.execute_reply.started": "2022-06-08T09:57:22.352651Z",
          "shell.execute_reply": "2022-06-08T09:57:26.045582Z"
        },
        "trusted": true,
        "id": "s0YaW2L5ZCAb"
      },
      "execution_count": 1,
      "outputs": []
    },
    {
      "cell_type": "code",
      "source": [
        "from google.colab import drive\n",
        "drive.mount('/content/gdrive')"
      ],
      "metadata": {
        "colab": {
          "base_uri": "https://localhost:8080/"
        },
        "id": "ots8x-sjGSO-",
        "outputId": "0030ae83-586c-4649-c26c-9819993baf1c"
      },
      "execution_count": 2,
      "outputs": [
        {
          "output_type": "stream",
          "name": "stdout",
          "text": [
            "Mounted at /content/gdrive\n"
          ]
        }
      ]
    },
    {
      "cell_type": "code",
      "source": [
        "#train_x_orig, train_y, test_x_orig, test_y, classes = load_data()\n",
        "\n",
        "!pip install kaggle\n",
        "\n",
        "from google.colab import files \n",
        "files.upload()\n",
        "\n",
        "#Make a directory named kaggle and copy the kaggle.json file there; and change its permissions\n",
        "!mkdir -p ~/.kaggle\n",
        "!cp kaggle.json ~/.kaggle/\n",
        "!chmod 600 ~/.kaggle/kaggle.json\n",
        "\n",
        "#imagenet_data = torchvision.datasets.ImageNet('https://kaggle.com/saroz014/plant-diseases')\n",
        "#data_loader = torch.utils.data.DataLoader(imagenet_data, batch_size=4, shuffle=True, num_workers=args.nThreads)\n"
      ],
      "metadata": {
        "id": "IWG1CPPsbri4",
        "outputId": "24c43d30-9bb8-4c31-9a7d-445d584aa0b2",
        "colab": {
          "base_uri": "https://localhost:8080/",
          "height": 282
        }
      },
      "execution_count": 3,
      "outputs": [
        {
          "output_type": "stream",
          "name": "stdout",
          "text": [
            "Looking in indexes: https://pypi.org/simple, https://us-python.pkg.dev/colab-wheels/public/simple/\n",
            "Requirement already satisfied: kaggle in /usr/local/lib/python3.7/dist-packages (1.5.12)\n",
            "Requirement already satisfied: tqdm in /usr/local/lib/python3.7/dist-packages (from kaggle) (4.64.1)\n",
            "Requirement already satisfied: python-dateutil in /usr/local/lib/python3.7/dist-packages (from kaggle) (2.8.2)\n",
            "Requirement already satisfied: requests in /usr/local/lib/python3.7/dist-packages (from kaggle) (2.23.0)\n",
            "Requirement already satisfied: python-slugify in /usr/local/lib/python3.7/dist-packages (from kaggle) (6.1.2)\n",
            "Requirement already satisfied: urllib3 in /usr/local/lib/python3.7/dist-packages (from kaggle) (1.24.3)\n",
            "Requirement already satisfied: certifi in /usr/local/lib/python3.7/dist-packages (from kaggle) (2022.9.24)\n",
            "Requirement already satisfied: six>=1.10 in /usr/local/lib/python3.7/dist-packages (from kaggle) (1.15.0)\n",
            "Requirement already satisfied: text-unidecode>=1.3 in /usr/local/lib/python3.7/dist-packages (from python-slugify->kaggle) (1.3)\n",
            "Requirement already satisfied: idna<3,>=2.5 in /usr/local/lib/python3.7/dist-packages (from requests->kaggle) (2.10)\n",
            "Requirement already satisfied: chardet<4,>=3.0.2 in /usr/local/lib/python3.7/dist-packages (from requests->kaggle) (3.0.4)\n"
          ]
        },
        {
          "output_type": "display_data",
          "data": {
            "text/plain": [
              "<IPython.core.display.HTML object>"
            ],
            "text/html": [
              "\n",
              "     <input type=\"file\" id=\"files-38b78878-c522-4eb5-bc2d-6eb69d5cb9a5\" name=\"files[]\" multiple disabled\n",
              "        style=\"border:none\" />\n",
              "     <output id=\"result-38b78878-c522-4eb5-bc2d-6eb69d5cb9a5\">\n",
              "      Upload widget is only available when the cell has been executed in the\n",
              "      current browser session. Please rerun this cell to enable.\n",
              "      </output>\n",
              "      <script>// Copyright 2017 Google LLC\n",
              "//\n",
              "// Licensed under the Apache License, Version 2.0 (the \"License\");\n",
              "// you may not use this file except in compliance with the License.\n",
              "// You may obtain a copy of the License at\n",
              "//\n",
              "//      http://www.apache.org/licenses/LICENSE-2.0\n",
              "//\n",
              "// Unless required by applicable law or agreed to in writing, software\n",
              "// distributed under the License is distributed on an \"AS IS\" BASIS,\n",
              "// WITHOUT WARRANTIES OR CONDITIONS OF ANY KIND, either express or implied.\n",
              "// See the License for the specific language governing permissions and\n",
              "// limitations under the License.\n",
              "\n",
              "/**\n",
              " * @fileoverview Helpers for google.colab Python module.\n",
              " */\n",
              "(function(scope) {\n",
              "function span(text, styleAttributes = {}) {\n",
              "  const element = document.createElement('span');\n",
              "  element.textContent = text;\n",
              "  for (const key of Object.keys(styleAttributes)) {\n",
              "    element.style[key] = styleAttributes[key];\n",
              "  }\n",
              "  return element;\n",
              "}\n",
              "\n",
              "// Max number of bytes which will be uploaded at a time.\n",
              "const MAX_PAYLOAD_SIZE = 100 * 1024;\n",
              "\n",
              "function _uploadFiles(inputId, outputId) {\n",
              "  const steps = uploadFilesStep(inputId, outputId);\n",
              "  const outputElement = document.getElementById(outputId);\n",
              "  // Cache steps on the outputElement to make it available for the next call\n",
              "  // to uploadFilesContinue from Python.\n",
              "  outputElement.steps = steps;\n",
              "\n",
              "  return _uploadFilesContinue(outputId);\n",
              "}\n",
              "\n",
              "// This is roughly an async generator (not supported in the browser yet),\n",
              "// where there are multiple asynchronous steps and the Python side is going\n",
              "// to poll for completion of each step.\n",
              "// This uses a Promise to block the python side on completion of each step,\n",
              "// then passes the result of the previous step as the input to the next step.\n",
              "function _uploadFilesContinue(outputId) {\n",
              "  const outputElement = document.getElementById(outputId);\n",
              "  const steps = outputElement.steps;\n",
              "\n",
              "  const next = steps.next(outputElement.lastPromiseValue);\n",
              "  return Promise.resolve(next.value.promise).then((value) => {\n",
              "    // Cache the last promise value to make it available to the next\n",
              "    // step of the generator.\n",
              "    outputElement.lastPromiseValue = value;\n",
              "    return next.value.response;\n",
              "  });\n",
              "}\n",
              "\n",
              "/**\n",
              " * Generator function which is called between each async step of the upload\n",
              " * process.\n",
              " * @param {string} inputId Element ID of the input file picker element.\n",
              " * @param {string} outputId Element ID of the output display.\n",
              " * @return {!Iterable<!Object>} Iterable of next steps.\n",
              " */\n",
              "function* uploadFilesStep(inputId, outputId) {\n",
              "  const inputElement = document.getElementById(inputId);\n",
              "  inputElement.disabled = false;\n",
              "\n",
              "  const outputElement = document.getElementById(outputId);\n",
              "  outputElement.innerHTML = '';\n",
              "\n",
              "  const pickedPromise = new Promise((resolve) => {\n",
              "    inputElement.addEventListener('change', (e) => {\n",
              "      resolve(e.target.files);\n",
              "    });\n",
              "  });\n",
              "\n",
              "  const cancel = document.createElement('button');\n",
              "  inputElement.parentElement.appendChild(cancel);\n",
              "  cancel.textContent = 'Cancel upload';\n",
              "  const cancelPromise = new Promise((resolve) => {\n",
              "    cancel.onclick = () => {\n",
              "      resolve(null);\n",
              "    };\n",
              "  });\n",
              "\n",
              "  // Wait for the user to pick the files.\n",
              "  const files = yield {\n",
              "    promise: Promise.race([pickedPromise, cancelPromise]),\n",
              "    response: {\n",
              "      action: 'starting',\n",
              "    }\n",
              "  };\n",
              "\n",
              "  cancel.remove();\n",
              "\n",
              "  // Disable the input element since further picks are not allowed.\n",
              "  inputElement.disabled = true;\n",
              "\n",
              "  if (!files) {\n",
              "    return {\n",
              "      response: {\n",
              "        action: 'complete',\n",
              "      }\n",
              "    };\n",
              "  }\n",
              "\n",
              "  for (const file of files) {\n",
              "    const li = document.createElement('li');\n",
              "    li.append(span(file.name, {fontWeight: 'bold'}));\n",
              "    li.append(span(\n",
              "        `(${file.type || 'n/a'}) - ${file.size} bytes, ` +\n",
              "        `last modified: ${\n",
              "            file.lastModifiedDate ? file.lastModifiedDate.toLocaleDateString() :\n",
              "                                    'n/a'} - `));\n",
              "    const percent = span('0% done');\n",
              "    li.appendChild(percent);\n",
              "\n",
              "    outputElement.appendChild(li);\n",
              "\n",
              "    const fileDataPromise = new Promise((resolve) => {\n",
              "      const reader = new FileReader();\n",
              "      reader.onload = (e) => {\n",
              "        resolve(e.target.result);\n",
              "      };\n",
              "      reader.readAsArrayBuffer(file);\n",
              "    });\n",
              "    // Wait for the data to be ready.\n",
              "    let fileData = yield {\n",
              "      promise: fileDataPromise,\n",
              "      response: {\n",
              "        action: 'continue',\n",
              "      }\n",
              "    };\n",
              "\n",
              "    // Use a chunked sending to avoid message size limits. See b/62115660.\n",
              "    let position = 0;\n",
              "    do {\n",
              "      const length = Math.min(fileData.byteLength - position, MAX_PAYLOAD_SIZE);\n",
              "      const chunk = new Uint8Array(fileData, position, length);\n",
              "      position += length;\n",
              "\n",
              "      const base64 = btoa(String.fromCharCode.apply(null, chunk));\n",
              "      yield {\n",
              "        response: {\n",
              "          action: 'append',\n",
              "          file: file.name,\n",
              "          data: base64,\n",
              "        },\n",
              "      };\n",
              "\n",
              "      let percentDone = fileData.byteLength === 0 ?\n",
              "          100 :\n",
              "          Math.round((position / fileData.byteLength) * 100);\n",
              "      percent.textContent = `${percentDone}% done`;\n",
              "\n",
              "    } while (position < fileData.byteLength);\n",
              "  }\n",
              "\n",
              "  // All done.\n",
              "  yield {\n",
              "    response: {\n",
              "      action: 'complete',\n",
              "    }\n",
              "  };\n",
              "}\n",
              "\n",
              "scope.google = scope.google || {};\n",
              "scope.google.colab = scope.google.colab || {};\n",
              "scope.google.colab._files = {\n",
              "  _uploadFiles,\n",
              "  _uploadFilesContinue,\n",
              "};\n",
              "})(self);\n",
              "</script> "
            ]
          },
          "metadata": {}
        },
        {
          "output_type": "stream",
          "name": "stdout",
          "text": [
            "Saving kaggle.json to kaggle.json\n"
          ]
        }
      ]
    },
    {
      "cell_type": "code",
      "source": [
        "!kaggle datasets download -d manjuphoenix/tomatodataset\n",
        "!kaggle datasets download -d manjuphoenix/appledataset"
      ],
      "metadata": {
        "id": "wie11ExiccN4",
        "outputId": "62166a79-aed3-4e20-e310-ded36a9d9ad0",
        "colab": {
          "base_uri": "https://localhost:8080/"
        }
      },
      "execution_count": 4,
      "outputs": [
        {
          "output_type": "stream",
          "name": "stdout",
          "text": [
            "Downloading tomatodataset.zip to /content\n",
            " 98% 906M/923M [00:06<00:00, 165MB/s]\n",
            "100% 923M/923M [00:06<00:00, 158MB/s]\n",
            "Downloading appledataset.zip to /content\n",
            " 96% 321M/333M [00:01<00:00, 166MB/s]\n",
            "100% 333M/333M [00:01<00:00, 183MB/s]\n"
          ]
        }
      ]
    },
    {
      "cell_type": "code",
      "source": [
        "from zipfile import ZipFile\n",
        "file_name = 'tomatodataset.zip' #the file is your dataset exact name\n",
        "with ZipFile(file_name, 'r') as zip:\n",
        "  #zip.printdir()\n",
        "  print(zip.extractall())\n",
        "  #zip.close()\n",
        "  print('Done')"
      ],
      "metadata": {
        "id": "9x_Q6_vxbtl_",
        "outputId": "abeaa56b-4eac-447a-e5ce-a63d2e316132",
        "colab": {
          "base_uri": "https://localhost:8080/"
        }
      },
      "execution_count": 5,
      "outputs": [
        {
          "output_type": "stream",
          "name": "stdout",
          "text": [
            "None\n",
            "Done\n"
          ]
        }
      ]
    },
    {
      "cell_type": "code",
      "source": [
        "from zipfile import ZipFile\n",
        "file_name = 'appledataset.zip' #the file is your dataset exact name\n",
        "with ZipFile(file_name, 'r') as zip:\n",
        "  #zip.printdir()\n",
        "  print(zip.extractall())\n",
        "  #zip.close()\n",
        "  print('Done')"
      ],
      "metadata": {
        "colab": {
          "base_uri": "https://localhost:8080/"
        },
        "id": "Mev-s2vcqO4d",
        "outputId": "b7205d4d-5ed1-4fd4-bd6f-fd6bfbe59d89"
      },
      "execution_count": 6,
      "outputs": [
        {
          "output_type": "stream",
          "name": "stdout",
          "text": [
            "None\n",
            "Done\n"
          ]
        }
      ]
    },
    {
      "cell_type": "code",
      "source": [
        "!sudo mkdir /content/dataset\n",
        "!sudo cp -rf /content/Tomato/* /content/dataset\n",
        "!sudo cp -rf /content/Apple/* /content/dataset"
      ],
      "metadata": {
        "id": "k5BInoU6qSNK"
      },
      "execution_count": 12,
      "outputs": []
    },
    {
      "cell_type": "code",
      "source": [
        "transform = transforms.Compose([\n",
        "    transforms.ToTensor(),\n",
        "    transforms.RandomGrayscale(),\n",
        "    transforms.RandomHorizontalFlip(),\n",
        "    transforms.RandomRotation(30),\n",
        "])\n",
        "\n",
        "\n",
        "device = torch.device(\"cuda:0\" if torch.cuda.is_available() else \"CPU\")\n",
        "print(device)\n",
        "# Uncomment the below line based on where you train the model----------------------------------------\n",
        "# !mkdir /kaggle/working/Tomato\n",
        "\n",
        "# device = torch.device(\"cuda:0\" if torch.cuda.is_available() else \"cpu\")\n",
        "\n",
        "# !cp -r /kaggle/input/plant-diseases/dataset_itr2/dataset_itr2/test/Tomato* /kaggle/working/Tomato\n",
        "# !cp -r /kaggle/input/plant-diseases/dataset_itr2/dataset_itr2/train/Tomato* /kaggle/working/Tomato\n",
        "\n",
        "# !rm -rf /kaggle/working/Tomato/Tomato___Leaf_Mold\n",
        "# !rm -rf /kaggle/working/Tomato/Tomato___Tomato_mosaic_virus \n",
        "\n",
        "# Uncomment this for training on kaggle\n",
        "# data = datasets.ImageFolder('/kaggle/working/Tomato', transform=transform)----------------------------\n",
        "\n",
        "\n",
        "# This is for training on Local Machine\n",
        "data = datasets.ImageFolder('/content/dataset', transform=transform)\n",
        "\n",
        "\n",
        "# Split into train/test sets:\n",
        "train_len = int(len(data)*0.7)\n",
        "train_set, valid_set = random_split(data, [train_len, len(data) - train_len])\n",
        "\n",
        "val_len = int(len(valid_set)*0.8)\n",
        "validation_set, test_set = random_split(valid_set, [val_len, len(valid_set) - val_len])\n",
        "\n",
        "\n",
        "# Extract classes:\n",
        "train_classes = [train_set.dataset.targets[i] for i in train_set.indices]\n",
        "# Calculate support:\n",
        "class_count = Counter(train_classes)\n",
        "# Calculate class weights:\n",
        "class_weights = torch.DoubleTensor([len(train_classes)/c for c in pd.Series(class_count).sort_index().values]) \n",
        "# Sampler needs the respective class weight supplied for each image in the dataset:\n",
        "sample_weights = [class_weights[train_set.dataset.targets[i]] for i in train_set.indices]\n",
        "\n",
        "sampler = WeightedRandomSampler(weights=sample_weights, num_samples=int(len(train_set)*2), replacement=True)\n",
        "\n",
        "batch_size=32\n",
        "\n",
        "# Create torch dataloaders:\n",
        "\n",
        "dataloaders = DataLoader(data, batch_size=batch_size, sampler=sampler, num_workers=min([os.cpu_count(), batch_size if batch_size > 1 else 0, 8]))\n",
        "print(\"The total number of images is:\", len(dataloaders))\n",
        "\n",
        "train_loader = DataLoader(train_set, batch_size=batch_size, sampler=sampler, num_workers=min([os.cpu_count(), batch_size if batch_size > 1 else 0, 8]))\n",
        "print(\"The number of images in a training set is:\", len(train_loader)*batch_size)\n",
        "\n",
        "val_loader = DataLoader(valid_set, batch_size=batch_size, shuffle=False, num_workers=min([os.cpu_count(), batch_size if batch_size > 1 else 0, 8]))\n",
        "print(\"The number of images in a validation set is:\", len(val_loader)*batch_size)\n",
        "\n",
        "test_loader = DataLoader(test_set, batch_size =batch_size, shuffle=True, num_workers=min([os.cpu_count(), batch_size if batch_size > 1 else 0, 8]))\n",
        "print(\"The number of images in a test set is:\", len(test_loader)*batch_size)\n",
        "print(dataloaders.dataset)\n",
        "\n",
        "print(data.classes)\n",
        "# x, y = next(iter(dataloaders[0]))"
      ],
      "metadata": {
        "id": "jW4Qom0WbtUq",
        "outputId": "38695e39-f4a2-4752-898e-585f83bfdf08",
        "colab": {
          "base_uri": "https://localhost:8080/"
        }
      },
      "execution_count": 38,
      "outputs": [
        {
          "output_type": "stream",
          "name": "stdout",
          "text": [
            "cuda:0\n",
            "The total number of images is: 3993\n",
            "The number of images in a training set is: 127776\n",
            "The number of images in a validation set is: 27392\n",
            "The number of images in a test set is: 5504\n",
            "Dataset ImageFolder\n",
            "    Number of datapoints: 91256\n",
            "    Root location: /content/dataset\n",
            "    StandardTransform\n",
            "Transform: Compose(\n",
            "               ToTensor()\n",
            "               RandomGrayscale(p=0.1)\n",
            "               RandomHorizontalFlip(p=0.5)\n",
            "               RandomRotation(degrees=[-30.0, 30.0], interpolation=nearest, expand=False, fill=0)\n",
            "           )\n",
            "['Apple___healthy', 'Apple_scab', 'Black_rot', 'Cedar_apple_rust', 'Tomato_Target_spot', 'Tomato__Late_blight', 'Tomato__Septoria_leaf_spot', 'Tomato__Spider_mites', 'Tomato___Bacterial_spot', 'Tomato___Tomato_Yellow_Leaf_Curl_Virus', 'Tomato__early_blight', 'Tomato__healthy']\n"
          ]
        }
      ]
    },
    {
      "cell_type": "code",
      "source": [
        "from PIL import Image\n",
        "from pathlib import Path\n",
        "from torch.autograd import Variable\n",
        "\n",
        "class NeuralNetwork(nn.Module):\n",
        "    def __init__(self):\n",
        "        super(NeuralNetwork, self).__init__()\n",
        "        self.cnn = nn.Conv2d(in_channels=3, out_channels=16, kernel_size=5, stride=1, padding=2)\n",
        "        self.relu = nn.LeakyReLU()\n",
        "        self.maxpool = nn.MaxPool2d(kernel_size=2)\n",
        "        self.cnn2 = nn.Conv2d(in_channels=16, out_channels=32, kernel_size=3, stride=1, padding=2)\n",
        "        self.relu2 = nn.LeakyReLU()\n",
        "        self.maxpool2 = nn.MaxPool2d(kernel_size=2)\n",
        "        self.fc1 = nn.Linear(32*65*65, 100)\n",
        "        self.fc2 = nn.Linear(100, 8)\n",
        "        \n",
        "        \n",
        "    def forward(self, x):\n",
        "        out = self.cnn(x)\n",
        "        out = self.relu(out)\n",
        "        out = self.maxpool(out)\n",
        "        out = self.cnn2(out)\n",
        "        out = self.relu2(out)\n",
        "        out = self.maxpool2(out)\n",
        "        out = out.view(out.size(0), -1)\n",
        "        out = self.fc1(out)\n",
        "        out = self.fc2(out)\n",
        "        return out\n",
        "\n",
        "model = NeuralNetwork()\n",
        "\n",
        "model = model.to(device)\n",
        "checkpoint = torch.load(Path('/content/gdrive/MyDrive/v4_tomato.pk1'))\n",
        "model.load_state_dict(checkpoint)\n",
        "model = model.to(device)"
      ],
      "metadata": {
        "execution": {
          "iopub.status.busy": "2022-06-08T10:01:07.036804Z",
          "iopub.execute_input": "2022-06-08T10:01:07.037309Z",
          "iopub.status.idle": "2022-06-08T10:01:07.314456Z",
          "shell.execute_reply.started": "2022-06-08T10:01:07.037275Z",
          "shell.execute_reply": "2022-06-08T10:01:07.313345Z"
        },
        "trusted": true,
        "id": "BXyGLeUmZCAf"
      },
      "execution_count": 9,
      "outputs": []
    },
    {
      "cell_type": "code",
      "source": [
        "# !pip install torch-summary\n",
        "from torchsummary import summary\n",
        "\n",
        "summary(model, (3, 256, 256))"
      ],
      "metadata": {
        "colab": {
          "base_uri": "https://localhost:8080/"
        },
        "id": "N377nsqrq3eK",
        "outputId": "6e37ddb5-b608-4481-bb85-cae3d2a40d75"
      },
      "execution_count": 10,
      "outputs": [
        {
          "output_type": "stream",
          "name": "stdout",
          "text": [
            "----------------------------------------------------------------\n",
            "        Layer (type)               Output Shape         Param #\n",
            "================================================================\n",
            "            Conv2d-1         [-1, 16, 256, 256]           1,216\n",
            "         LeakyReLU-2         [-1, 16, 256, 256]               0\n",
            "         MaxPool2d-3         [-1, 16, 128, 128]               0\n",
            "            Conv2d-4         [-1, 32, 130, 130]           4,640\n",
            "         LeakyReLU-5         [-1, 32, 130, 130]               0\n",
            "         MaxPool2d-6           [-1, 32, 65, 65]               0\n",
            "            Linear-7                  [-1, 100]      13,520,100\n",
            "            Linear-8                    [-1, 8]             808\n",
            "================================================================\n",
            "Total params: 13,526,764\n",
            "Trainable params: 13,526,764\n",
            "Non-trainable params: 0\n",
            "----------------------------------------------------------------\n",
            "Input size (MB): 0.75\n",
            "Forward/backward pass size (MB): 27.28\n",
            "Params size (MB): 51.60\n",
            "Estimated Total Size (MB): 79.63\n",
            "----------------------------------------------------------------\n"
          ]
        }
      ]
    },
    {
      "cell_type": "code",
      "source": [
        "from sklearn.metrics import confusion_matrix\n",
        "\n",
        "nb_classes = 8\n",
        "\n",
        "# Initialize the prediction and label lists(tensors)\n",
        "predlist=torch.zeros(0,dtype=torch.long, device='cpu')\n",
        "lbllist=torch.zeros(0,dtype=torch.long, device='cpu')\n",
        "\n",
        "with torch.no_grad():\n",
        "    for i, (inputs, classes) in enumerate(test_loader):\n",
        "        inputs = inputs.to(device)\n",
        "        classes = classes.to(device)\n",
        "        outputs = model(inputs)\n",
        "        _, preds = torch.max(outputs, 1)\n",
        "\n",
        "        # Append batch prediction results\n",
        "        predlist=torch.cat([predlist,preds.view(-1).cpu()])\n",
        "        lbllist=torch.cat([lbllist,classes.view(-1).cpu()])\n",
        "\n",
        "# Confusion matrix\n",
        "conf_mat=confusion_matrix(lbllist.numpy(), predlist.numpy())\n",
        "print(conf_mat)\n",
        "\n",
        "# Per-class accuracy\n",
        "class_accuracy=100*conf_mat.diagonal()/conf_mat.sum(1)\n",
        "print(class_accuracy)\n",
        "\n",
        "from sklearn.metrics import confusion_matrix\n",
        "import seaborn as sns\n",
        "\n",
        "matrix_confusion = confusion_matrix(predlist, lbllist)\n",
        "sns.heatmap(matrix_confusion, square=True, annot=True, cmap='Blues', fmt='d', cbar=False)"
      ],
      "metadata": {
        "colab": {
          "base_uri": "https://localhost:8080/",
          "height": 456
        },
        "id": "9Hhu0b2CxjRH",
        "outputId": "af693c63-c465-4542-96b6-5fd8773dc946"
      },
      "execution_count": 14,
      "outputs": [
        {
          "output_type": "stream",
          "name": "stdout",
          "text": [
            "[[345   2  12  82   5   0  26   9]\n",
            " [  4 375   9  16   8   7  58   3]\n",
            " [ 15  38 392  25   2   6  20  11]\n",
            " [ 24   5   8 405   0   3  27   3]\n",
            " [  2   4   2   1 457  19   4   0]\n",
            " [  0  11   0   9  23 463   2   0]\n",
            " [ 22  59  10  33  11   5 334   1]\n",
            " [ 11  11   1  10   0   0   0 447]]\n",
            "[71.72557173 78.125      77.01375246 85.26315789 93.45603272 91.14173228\n",
            " 70.31578947 93.125     ]\n"
          ]
        },
        {
          "output_type": "execute_result",
          "data": {
            "text/plain": [
              "<matplotlib.axes._subplots.AxesSubplot at 0x7f6d2ea22750>"
            ]
          },
          "metadata": {},
          "execution_count": 14
        },
        {
          "output_type": "display_data",
          "data": {
            "text/plain": [
              "<Figure size 432x288 with 1 Axes>"
            ],
            "image/png": "[encoded data removed]"
          },
          "metadata": {
            "needs_background": "light"
          }
        }
      ]
    },
    {
      "cell_type": "code",
      "source": [
        "# model.cnn2 = nn.Conv2d(in_channels=16, out_channels=32, kernel_size=5, stride=1, padding=2)\n",
        "model.fc2 = nn.Linear(100, 12)"
      ],
      "metadata": {
        "id": "U2vp3LmBvm8m"
      },
      "execution_count": 16,
      "outputs": []
    },
    {
      "cell_type": "code",
      "source": [
        "model.eval()"
      ],
      "metadata": {
        "colab": {
          "base_uri": "https://localhost:8080/"
        },
        "id": "yJKKbZeivm0W",
        "outputId": "61491e76-e2df-45b0-cd8e-5d628aef1845"
      },
      "execution_count": 17,
      "outputs": [
        {
          "output_type": "execute_result",
          "data": {
            "text/plain": [
              "NeuralNetwork(\n",
              "  (cnn): Conv2d(3, 16, kernel_size=(5, 5), stride=(1, 1), padding=(2, 2))\n",
              "  (relu): LeakyReLU(negative_slope=0.01)\n",
              "  (maxpool): MaxPool2d(kernel_size=2, stride=2, padding=0, dilation=1, ceil_mode=False)\n",
              "  (cnn2): Conv2d(16, 32, kernel_size=(3, 3), stride=(1, 1), padding=(2, 2))\n",
              "  (relu2): LeakyReLU(negative_slope=0.01)\n",
              "  (maxpool2): MaxPool2d(kernel_size=2, stride=2, padding=0, dilation=1, ceil_mode=False)\n",
              "  (fc1): Linear(in_features=135200, out_features=100, bias=True)\n",
              "  (fc2): Linear(in_features=100, out_features=12, bias=True)\n",
              ")"
            ]
          },
          "metadata": {},
          "execution_count": 17
        }
      ]
    },
    {
      "cell_type": "code",
      "source": [
        "def train(model,loss_fn,dataloader,optimizer,epoch):\n",
        "  print('\\nEpoch : %d'%epoch)\n",
        "  \n",
        "  total_loss=0    \n",
        "  correct=0\n",
        "  total=0\n",
        "\n",
        "  model.train()\n",
        "\n",
        "  for data in tqdm(dataloader):\n",
        "    \n",
        "    inputs,labels=data[0].to(device),data[1].to(device)\n",
        "    \n",
        "    outputs=model(inputs)\n",
        "    \n",
        "    loss=loss_fn(outputs,labels)\n",
        "    \n",
        "    optimizer.zero_grad()\n",
        "    loss.backward()\n",
        "    optimizer.step()\n",
        "\n",
        "    total_loss += loss.item()\n",
        "    \n",
        "    _, predicted = outputs.max(1)\n",
        "    total += labels.size(0)\n",
        "    correct += predicted.eq(labels).sum().item()\n",
        "      \n",
        "  loss=total_loss/len(dataloader)\n",
        "  accuracy=100.*correct/total\n",
        "  \n",
        "  if accuracy >= 95.:\n",
        "    print('Model trained to 95% accuracy!')\n",
        "  else:\n",
        "    accuracies['train'].append(accuracy)\n",
        "    losses['train'].append(loss)\n",
        "    print('Train Loss: %.3f | Accuracy: %.3f'%(loss,accuracy))"
      ],
      "metadata": {
        "execution": {
          "iopub.status.busy": "2022-06-08T10:01:07.382471Z",
          "iopub.execute_input": "2022-06-08T10:01:07.383473Z",
          "iopub.status.idle": "2022-06-08T10:01:07.393315Z",
          "shell.execute_reply.started": "2022-06-08T10:01:07.383436Z",
          "shell.execute_reply": "2022-06-08T10:01:07.391976Z"
        },
        "trusted": true,
        "id": "EP9VUkNXZCAg"
      },
      "execution_count": 18,
      "outputs": []
    },
    {
      "cell_type": "code",
      "source": [
        "def test(model,loss_fn,dataloader,epoch):\n",
        "#   model.eval()\n",
        "\n",
        "  total_loss=0\n",
        "  correct=0\n",
        "  total=0\n",
        "\n",
        "  with torch.no_grad():\n",
        "    for data in tqdm(dataloader):\n",
        "      images,labels=data[0].to(device),data[1].to(device)\n",
        "      \n",
        "      outputs=model(images)\n",
        "\n",
        "      loss= loss_fn(outputs,labels)\n",
        "      total_loss+=loss.item()\n",
        "      \n",
        "      _, predicted = outputs.max(1)\n",
        "      total += labels.size(0)\n",
        "      correct += predicted.eq(labels).sum().item()\n",
        "  \n",
        "  loss=total_loss/len(dataloader)\n",
        "  accuracy=100.*correct/total\n",
        "\n",
        "  losses['val'].append(loss)\n",
        "  accuracies['val'].append(accuracy)\n",
        "\n",
        "  print('Test Loss: %.3f | Accuracy: %.3f'%(loss,accuracy)) "
      ],
      "metadata": {
        "execution": {
          "iopub.status.busy": "2022-06-08T10:01:07.690264Z",
          "iopub.execute_input": "2022-06-08T10:01:07.690692Z",
          "iopub.status.idle": "2022-06-08T10:01:07.70076Z",
          "shell.execute_reply.started": "2022-06-08T10:01:07.690659Z",
          "shell.execute_reply": "2022-06-08T10:01:07.699564Z"
        },
        "trusted": true,
        "id": "WKaiTr8gZCAh"
      },
      "execution_count": 19,
      "outputs": []
    },
    {
      "cell_type": "code",
      "source": [
        "model = model.to(device)\n",
        "\n",
        "loss_fn = nn.CrossEntropyLoss()\n",
        "learning_rate = 0.00001\n",
        "optimizer_ft = torch.optim.SGD(model.parameters(), lr=learning_rate, weight_decay=1e-5, momentum=0.6)"
      ],
      "metadata": {
        "execution": {
          "iopub.status.busy": "2022-06-08T10:01:07.963067Z",
          "iopub.execute_input": "2022-06-08T10:01:07.963513Z",
          "iopub.status.idle": "2022-06-08T10:01:07.972723Z",
          "shell.execute_reply.started": "2022-06-08T10:01:07.96348Z",
          "shell.execute_reply": "2022-06-08T10:01:07.971502Z"
        },
        "trusted": true,
        "id": "t_JWq20JZCAh"
      },
      "execution_count": 20,
      "outputs": []
    },
    {
      "cell_type": "code",
      "source": [
        "losses = {'train':[], 'val':[]}\n",
        "accuracies = {'train':[], 'val':[]}\n",
        "epochs=10\n",
        "for epoch in range(1,int(epochs)+1):\n",
        "  train(model,loss_fn,train_loader,optimizer_ft,epoch)\n",
        "  test(model,loss_fn,val_loader,epoch)\n",
        "  "
      ],
      "metadata": {
        "execution": {
          "iopub.status.busy": "2022-06-08T10:01:08.188961Z",
          "iopub.execute_input": "2022-06-08T10:01:08.189746Z"
        },
        "trusted": true,
        "id": "OkEJd8UWZCAh",
        "colab": {
          "base_uri": "https://localhost:8080/"
        },
        "outputId": "0ba92bf6-b206-49b2-966e-b641a7bd4684"
      },
      "execution_count": 21,
      "outputs": [
        {
          "output_type": "stream",
          "name": "stdout",
          "text": [
            "\n",
            "Epoch : 1\n"
          ]
        },
        {
          "output_type": "stream",
          "name": "stderr",
          "text": [
            "100%|██████████| 3993/3993 [06:12<00:00, 10.73it/s]\n"
          ]
        },
        {
          "output_type": "stream",
          "name": "stdout",
          "text": [
            "Train Loss: 2.122 | Accuracy: 27.897\n"
          ]
        },
        {
          "output_type": "stream",
          "name": "stderr",
          "text": [
            "100%|██████████| 856/856 [01:14<00:00, 11.45it/s]\n"
          ]
        },
        {
          "output_type": "stream",
          "name": "stdout",
          "text": [
            "Test Loss: 1.755 | Accuracy: 43.361\n",
            "\n",
            "Epoch : 2\n"
          ]
        },
        {
          "output_type": "stream",
          "name": "stderr",
          "text": [
            "100%|██████████| 3993/3993 [06:07<00:00, 10.87it/s]\n"
          ]
        },
        {
          "output_type": "stream",
          "name": "stdout",
          "text": [
            "Train Loss: 1.595 | Accuracy: 50.139\n"
          ]
        },
        {
          "output_type": "stream",
          "name": "stderr",
          "text": [
            "100%|██████████| 856/856 [01:16<00:00, 11.23it/s]\n"
          ]
        },
        {
          "output_type": "stream",
          "name": "stdout",
          "text": [
            "Test Loss: 1.463 | Accuracy: 54.728\n",
            "\n",
            "Epoch : 3\n"
          ]
        },
        {
          "output_type": "stream",
          "name": "stderr",
          "text": [
            "100%|██████████| 3993/3993 [06:07<00:00, 10.86it/s]\n"
          ]
        },
        {
          "output_type": "stream",
          "name": "stdout",
          "text": [
            "Train Loss: 1.391 | Accuracy: 56.990\n"
          ]
        },
        {
          "output_type": "stream",
          "name": "stderr",
          "text": [
            "100%|██████████| 856/856 [01:16<00:00, 11.26it/s]\n"
          ]
        },
        {
          "output_type": "stream",
          "name": "stdout",
          "text": [
            "Test Loss: 1.310 | Accuracy: 59.499\n",
            "\n",
            "Epoch : 4\n"
          ]
        },
        {
          "output_type": "stream",
          "name": "stderr",
          "text": [
            "100%|██████████| 3993/3993 [06:13<00:00, 10.69it/s]\n"
          ]
        },
        {
          "output_type": "stream",
          "name": "stdout",
          "text": [
            "Train Loss: 1.262 | Accuracy: 61.045\n"
          ]
        },
        {
          "output_type": "stream",
          "name": "stderr",
          "text": [
            "100%|██████████| 856/856 [01:15<00:00, 11.37it/s]\n"
          ]
        },
        {
          "output_type": "stream",
          "name": "stdout",
          "text": [
            "Test Loss: 1.206 | Accuracy: 62.366\n",
            "\n",
            "Epoch : 5\n"
          ]
        },
        {
          "output_type": "stream",
          "name": "stderr",
          "text": [
            "100%|██████████| 3993/3993 [06:13<00:00, 10.68it/s]\n"
          ]
        },
        {
          "output_type": "stream",
          "name": "stdout",
          "text": [
            "Train Loss: 1.174 | Accuracy: 63.324\n"
          ]
        },
        {
          "output_type": "stream",
          "name": "stderr",
          "text": [
            "100%|██████████| 856/856 [01:17<00:00, 11.04it/s]\n"
          ]
        },
        {
          "output_type": "stream",
          "name": "stdout",
          "text": [
            "Test Loss: 1.138 | Accuracy: 64.036\n",
            "\n",
            "Epoch : 6\n"
          ]
        },
        {
          "output_type": "stream",
          "name": "stderr",
          "text": [
            "100%|██████████| 3993/3993 [06:11<00:00, 10.74it/s]\n"
          ]
        },
        {
          "output_type": "stream",
          "name": "stdout",
          "text": [
            "Train Loss: 1.112 | Accuracy: 64.725\n"
          ]
        },
        {
          "output_type": "stream",
          "name": "stderr",
          "text": [
            "100%|██████████| 856/856 [01:17<00:00, 11.02it/s]\n"
          ]
        },
        {
          "output_type": "stream",
          "name": "stdout",
          "text": [
            "Test Loss: 1.082 | Accuracy: 65.296\n",
            "\n",
            "Epoch : 7\n"
          ]
        },
        {
          "output_type": "stream",
          "name": "stderr",
          "text": [
            "100%|██████████| 3993/3993 [06:12<00:00, 10.71it/s]\n"
          ]
        },
        {
          "output_type": "stream",
          "name": "stdout",
          "text": [
            "Train Loss: 1.062 | Accuracy: 66.313\n"
          ]
        },
        {
          "output_type": "stream",
          "name": "stderr",
          "text": [
            "100%|██████████| 856/856 [01:17<00:00, 11.11it/s]\n"
          ]
        },
        {
          "output_type": "stream",
          "name": "stdout",
          "text": [
            "Test Loss: 1.036 | Accuracy: 66.910\n",
            "\n",
            "Epoch : 8\n"
          ]
        },
        {
          "output_type": "stream",
          "name": "stderr",
          "text": [
            "100%|██████████| 3993/3993 [06:14<00:00, 10.65it/s]\n"
          ]
        },
        {
          "output_type": "stream",
          "name": "stdout",
          "text": [
            "Train Loss: 1.024 | Accuracy: 67.233\n"
          ]
        },
        {
          "output_type": "stream",
          "name": "stderr",
          "text": [
            "100%|██████████| 856/856 [01:15<00:00, 11.27it/s]\n"
          ]
        },
        {
          "output_type": "stream",
          "name": "stdout",
          "text": [
            "Test Loss: 1.000 | Accuracy: 67.882\n",
            "\n",
            "Epoch : 9\n"
          ]
        },
        {
          "output_type": "stream",
          "name": "stderr",
          "text": [
            "100%|██████████| 3993/3993 [06:15<00:00, 10.62it/s]\n"
          ]
        },
        {
          "output_type": "stream",
          "name": "stdout",
          "text": [
            "Train Loss: 0.990 | Accuracy: 68.073\n"
          ]
        },
        {
          "output_type": "stream",
          "name": "stderr",
          "text": [
            "100%|██████████| 856/856 [01:16<00:00, 11.21it/s]\n"
          ]
        },
        {
          "output_type": "stream",
          "name": "stdout",
          "text": [
            "Test Loss: 0.971 | Accuracy: 68.419\n",
            "\n",
            "Epoch : 10\n"
          ]
        },
        {
          "output_type": "stream",
          "name": "stderr",
          "text": [
            "100%|██████████| 3993/3993 [06:14<00:00, 10.65it/s]\n"
          ]
        },
        {
          "output_type": "stream",
          "name": "stdout",
          "text": [
            "Train Loss: 0.968 | Accuracy: 68.739\n"
          ]
        },
        {
          "output_type": "stream",
          "name": "stderr",
          "text": [
            "100%|██████████| 856/856 [01:17<00:00, 11.05it/s]"
          ]
        },
        {
          "output_type": "stream",
          "name": "stdout",
          "text": [
            "Test Loss: 0.943 | Accuracy: 69.197\n"
          ]
        },
        {
          "output_type": "stream",
          "name": "stderr",
          "text": [
            "\n"
          ]
        }
      ]
    },
    {
      "cell_type": "code",
      "source": [
        "\n",
        "plt.figure(figsize=(8, 8))\n",
        "plt.subplot(2, 1, 1)\n",
        "plt.plot(accuracies['train'], label='Training Accuracy')\n",
        "plt.plot(accuracies['val'], label='Validation Accuracy')\n",
        "plt.legend(loc='lower right')\n",
        "plt.ylabel('Accuracy')\n",
        "# plt.ylim([min(plt.ylim()),1])\n",
        "plt.title('Training and Validation Accuracy')\n",
        "\n",
        "plt.subplot(2, 1, 2)\n",
        "plt.plot(losses['train'], label='Training Loss')\n",
        "plt.plot(losses['val'], label='Validation Loss')\n",
        "plt.legend(loc='upper right')\n",
        "plt.ylabel('Cross Entropy')\n",
        "plt.ylim([0,1.0])\n",
        "plt.title('Training and Validation Loss')\n",
        "plt.xlabel('epoch')\n",
        "plt.show()"
      ],
      "metadata": {
        "trusted": true,
        "id": "_xMRjGO7ZCAi",
        "colab": {
          "base_uri": "https://localhost:8080/",
          "height": 513
        },
        "outputId": "90ec5e51-4e2e-46bb-eff2-fb1b40341cd1"
      },
      "execution_count": 22,
      "outputs": [
        {
          "output_type": "display_data",
          "data": {
            "text/plain": [
              "<Figure size 576x576 with 2 Axes>"
            ],
            "image/png": "[encoded data removed]"
          },
          "metadata": {
            "needs_background": "light"
          }
        }
      ]
    },
    {
      "cell_type": "code",
      "source": [
        "#Testing classification accuracy for individual classes.\n",
        "classes = ['Apple___healthy', 'Apple_scab', 'Black_rot', 'Cedar_apple_rust', 'Tomato_Target_spot', 'Tomato__Late_blight', 'Tomato__Septoria_leaf_spot', 'Tomato__Spider_mites', 'Tomato___Bacterial_spot', 'Tomato___Tomato_Yellow_Leaf_Curl_Virus', 'Tomato__early_blight', 'Tomato__healthy']\n",
        "class_correct = list(0. for i in range(12))\n",
        "class_total = list(0. for i in range(12))\n",
        "c = []\n",
        "with torch.no_grad():\n",
        "    for data in test_loader:\n",
        "        images, labels = data[0].to(device), data[1].to(device)\n",
        "        outputs = model(images)\n",
        "        _, predicted = torch.max(outputs, 1)\n",
        "        c = (predicted==labels).squeeze()\n",
        "        # print(c)\n",
        "        for i in range(12):\n",
        "            label = labels[i]\n",
        "            class_correct[label] += c[i].item()\n",
        "            class_total[label] += 1\n",
        "print(c.type())\n",
        "for i in range(12):\n",
        "    print('Accuracy of %5s : %2d %%' % (\n",
        "        classes[i], 100 * class_correct[i] / class_total[i]))"
      ],
      "metadata": {
        "id": "yKjwAcl7ZCAj"
      },
      "execution_count": null,
      "outputs": []
    },
    {
      "cell_type": "code",
      "source": [
        "classes = ['Apple___healthy', 'Apple_scab', 'Black_rot', 'Cedar_apple_rust', 'Tomato_Target_spot', 'Tomato__Late_blight', 'Tomato__Septoria_leaf_spot', 'Tomato__Spider_mites', 'Tomato___Bacterial_spot', 'Tomato___Tomato_Yellow_Leaf_Curl_Virus', 'Tomato__early_blight', 'Tomato__healthy']\n",
        "class_correct = list(0. for i in range(12))\n",
        "class_total = list(0. for i in range(12))\n",
        "c = []\n",
        "with torch.no_grad():\n",
        "    for data in val_loader:\n",
        "        images, labels = data[0].to(device), data[1].to(device)\n",
        "        outputs = model(images)\n",
        "        _, predicted = torch.max(outputs, 1)\n",
        "        c = (predicted==labels).squeeze()\n",
        "        # print(c)\n",
        "        for i in range(12):\n",
        "            label = labels[i]\n",
        "            class_correct[label] += c[i].item()\n",
        "            class_total[label] += 1\n",
        "print(c.type())\n",
        "for i in range(12):\n",
        "    print('Accuracy of %5s : %2d %%' % (\n",
        "        classes[i], 100 * class_correct[i] / class_total[i]))"
      ],
      "metadata": {
        "colab": {
          "base_uri": "https://localhost:8080/"
        },
        "id": "78Nar_k1Gqs9",
        "outputId": "acd12331-65a6-4834-ee1b-939662b359d1"
      },
      "execution_count": 41,
      "outputs": [
        {
          "output_type": "stream",
          "name": "stdout",
          "text": [
            "torch.cuda.BoolTensor\n",
            "Accuracy of Apple___healthy : 77 %\n",
            "Accuracy of Apple_scab : 64 %\n",
            "Accuracy of Black_rot : 65 %\n",
            "Accuracy of Cedar_apple_rust : 72 %\n",
            "Accuracy of Tomato_Target_spot : 68 %\n",
            "Accuracy of Tomato__Late_blight : 58 %\n",
            "Accuracy of Tomato__Septoria_leaf_spot : 52 %\n",
            "Accuracy of Tomato__Spider_mites : 70 %\n",
            "Accuracy of Tomato___Bacterial_spot : 85 %\n",
            "Accuracy of Tomato___Tomato_Yellow_Leaf_Curl_Virus : 83 %\n",
            "Accuracy of Tomato__early_blight : 49 %\n",
            "Accuracy of Tomato__healthy : 85 %\n"
          ]
        }
      ]
    },
    {
      "cell_type": "code",
      "source": [
        "avg = 0\n",
        "for i in range(12):\n",
        "  temp = (100 * class_correct[i] / class_total[i])\n",
        "  avg = avg + temp\n",
        "avg = avg/12\n",
        "print('Average accuracy = ', avg)"
      ],
      "metadata": {
        "colab": {
          "base_uri": "https://localhost:8080/"
        },
        "id": "Y5v6QHLEFY7B",
        "outputId": "0ce50208-9249-4709-9aa3-00a8092a5025"
      },
      "execution_count": 24,
      "outputs": [
        {
          "output_type": "stream",
          "name": "stdout",
          "text": [
            "Average accuracy =  67.33795981535387\n"
          ]
        }
      ]
    },
    {
      "cell_type": "code",
      "source": [
        "torch.save(model.state_dict(), '/content/gdrive/MyDrive/v3_apptomato.pk1')\n",
        "model_scripted = torch.jit.script(model) # Export to TorchScript\n",
        "model_scripted.save('/content/gdrive/MyDrive/v3_apptomato_scripted.pt') # Save"
      ],
      "metadata": {
        "id": "-N_-bbCLFZLi"
      },
      "execution_count": 26,
      "outputs": []
    },
    {
      "cell_type": "code",
      "source": [
        "from sklearn.metrics import confusion_matrix\n",
        "\n",
        "nb_classes = 12\n",
        "\n",
        "# Initialize the prediction and label lists(tensors)\n",
        "predlist=torch.zeros(0,dtype=torch.long, device='cpu')\n",
        "lbllist=torch.zeros(0,dtype=torch.long, device='cpu')\n",
        "\n",
        "with torch.no_grad():\n",
        "    for i, (inputs, classes) in enumerate(test_loader):\n",
        "        inputs = inputs.to(device)\n",
        "        classes = classes.to(device)\n",
        "        outputs = model(inputs)\n",
        "        _, preds = torch.max(outputs, 1)\n",
        "\n",
        "        # Append batch prediction results\n",
        "        predlist=torch.cat([predlist,preds.view(-1).cpu()])\n",
        "        lbllist=torch.cat([lbllist,classes.view(-1).cpu()])\n",
        "\n",
        "# Confusion matrix\n",
        "conf_mat=confusion_matrix(lbllist.numpy(), predlist.numpy())\n",
        "print(conf_mat)\n",
        "\n",
        "# Per-class accuracy\n",
        "class_accuracy=100*conf_mat.diagonal()/conf_mat.sum(1)\n",
        "print(class_accuracy)\n",
        "\n",
        "from sklearn.metrics import confusion_matrix\n",
        "import seaborn as sns\n",
        "\n",
        "matrix_confusion = confusion_matrix(predlist, lbllist)\n",
        "sns.heatmap(matrix_confusion, square=True, annot=True, xticklabels=data.classes, yticklabels=data.classes, cmap='Blues', fmt='d', cbar=False)"
      ],
      "metadata": {
        "colab": {
          "base_uri": "https://localhost:8080/",
          "height": 720
        },
        "id": "ziJnDlBcguf2",
        "outputId": "5044e6ea-6518-45ff-dd6c-5d522ff8a7f9"
      },
      "execution_count": 40,
      "outputs": [
        {
          "output_type": "stream",
          "name": "stdout",
          "text": [
            "[[310   7   2   0   5   5   9   6  30  12   3   1]\n",
            " [ 14 252  37  14   6  15  23   3   9   0  15   9]\n",
            " [  8  20 273   0  24   1  21   6   2   1  19  16]\n",
            " [ 17  18   1 264   1  15   5   0  42  16   5   1]\n",
            " [ 19   6  19   0 311   6   1  50   2   1  17  51]\n",
            " [ 13  13  10  52   4 289   9  16   1   2  48  10]\n",
            " [ 17  41 100  19  19  20 241  22   3   4  14   5]\n",
            " [ 24   5  10   0  60   6  11 369   0   6  24  11]\n",
            " [ 12   1   1  36   0  17   0   0 426  12   1   0]\n",
            " [ 19   0   3  27   0   6   1   2  22 403   4   0]\n",
            " [ 44  10  13   4  43  73  15  31  17   3 202   2]\n",
            " [  0  32   1   3  16   1   0  10   0   0   0 419]]\n",
            "[79.48717949 63.47607053 69.82097187 68.57142857 64.38923395 61.88436831\n",
            " 47.72277228 70.15209125 84.18972332 82.75154004 44.20131291 86.92946058]\n"
          ]
        },
        {
          "output_type": "execute_result",
          "data": {
            "text/plain": [
              "<matplotlib.axes._subplots.AxesSubplot at 0x7f6ca74cca90>"
            ]
          },
          "metadata": {},
          "execution_count": 40
        },
        {
          "output_type": "display_data",
          "data": {
            "text/plain": [
              "<Figure size 432x288 with 1 Axes>"
            ],
            "image/png": "[encoded data removed]"
          },
          "metadata": {
            "needs_background": "light"
          }
        }
      ]
    }
  ]
}