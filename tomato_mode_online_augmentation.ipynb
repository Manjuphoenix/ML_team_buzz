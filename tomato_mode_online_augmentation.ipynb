{
 "cells": [
  {
   "cell_type": "code",
   "execution_count": null,
   "id": "df717120",
   "metadata": {},
   "outputs": [],
   "source": [
    "import numpy\n",
    "import pandas as pd\n",
    "import matplotlib.pyplot as plt\n",
    "from collections import Counter\n",
    "from sklearn.model_selection import train_test_split\n",
    "\n",
    "import torch\n",
    "import torch.nn as nn\n",
    "import torchvision\n",
    "from torchvision import datasets, transforms\n",
    "from torch.utils.data import Dataset, DataLoader, random_split, WeightedRandomSampler\n",
    "import torch.optim as optim\n",
    "from torch.utils.data import Subset\n",
    "from torchvision.datasets import ImageFolder"
   ]
  },
  {
   "cell_type": "code",
   "execution_count": null,
   "id": "bbb9a0cf",
   "metadata": {},
   "outputs": [],
   "source": [
    "def image_show(img, transform):\n",
    "    plt.imshow(img.permute(1, 2, 0)  )\n",
    "#     image = transform(img)\n",
    "#     plt.imshow(image.permute(1, 2, 3))"
   ]
  },
  {
   "cell_type": "code",
   "execution_count": null,
   "id": "3fdbf7b3",
   "metadata": {},
   "outputs": [],
   "source": [
    "transform = transforms.Compose([\n",
    "    transforms.ToTensor(),\n",
    "    transforms.RandomGrayscale(),\n",
    "    transforms.RandomHorizontalFlip(),\n",
    "    transforms.RandomInvert(),\n",
    "    transforms.RandomRotation(30),\n",
    "])\n",
    "\n",
    "data = datasets.ImageFolder('dataset', transform=transform)\n",
    "\n",
    "# Split into train/test sets:\n",
    "train_len = int(len(data)*0.65)\n",
    "train_set, test_set = random_split(data, [train_len, len(data) - train_len])\n",
    "\n",
    "# Extract classes:\n",
    "train_classes = [train_set.dataset.targets[i] for i in train_set.indices]\n",
    "# Calculate support:\n",
    "class_count = Counter(train_classes)\n",
    "# Calculate class weights:\n",
    "class_weights = torch.DoubleTensor([len(train_classes)/c for c in pd.Series(class_count).sort_index().values]) \n",
    "# Sampler needs the respective class weight supplied for each image in the dataset:\n",
    "sample_weights = [class_weights[train_set.dataset.targets[i]] for i in train_set.indices]\n",
    "\n",
    "sampler = WeightedRandomSampler(weights=sample_weights, num_samples=int(len(train_set)*2), replacement=True)\n",
    "\n",
    "batch_size=4\n",
    "\n",
    "# Create torch dataloaders:\n",
    "\n",
    "dataloaders = DataLoader(data, batch_size=4, sampler=sampler, num_workers=6)\n",
    "print(\"The total number of images is:\", len(dataloaders))\n",
    "\n",
    "train_loader = DataLoader(train_set, batch_size=4, sampler=sampler, num_workers=6)\n",
    "print(\"The number of images in a training set is:\", len(train_loader)*batch_size)\n",
    "\n",
    "test_loader = DataLoader(test_set, batch_size=4, shuffle=False, num_workers=6)\n",
    "print(\"The number of images in a test set is:\", len(test_loader)*batch_size)\n",
    "print(dataloaders.dataset)\n",
    "\n",
    "# x, y = next(iter(dataloaders[0]))"
   ]
  },
  {
   "cell_type": "code",
   "execution_count": null,
   "id": "bb3a4e08",
   "metadata": {},
   "outputs": [],
   "source": [
    "device = torch.device(\"cuda:0\" if torch.cuda.is_available() else \"CPU\")\n",
    "print(device)"
   ]
  },
  {
   "cell_type": "code",
   "execution_count": null,
   "id": "efc1dba8",
   "metadata": {},
   "outputs": [],
   "source": [
    "batch_size = 4\n",
    "n_iters = 20000"
   ]
  },
  {
   "cell_type": "code",
   "execution_count": null,
   "id": "49b68f16",
   "metadata": {},
   "outputs": [],
   "source": [
    "class NeuralNetwork(nn.Module):\n",
    "    def __init__(self):\n",
    "        super(NeuralNetwork, self).__init__()\n",
    "        self.cnn = nn.Conv2d(in_channels=3, out_channels=8, kernel_size=5, stride=1, padding=2)\n",
    "        self.relu = nn.ReLU()\n",
    "        self.maxpool = nn.MaxPool2d(kernel_size=2)\n",
    "#         self.cnn2 = nn.Conv2d(in_channels=16, out_channels=8, kernel_size=5, stride=1, padding=2)\n",
    "#         self.relu2 = nn.ReLU()\n",
    "#         self.maxpool2 = nn.MaxPool2d(kernel_size=2)\n",
    "        self.fc = nn.Linear(8*64*64, 512)\n",
    "        self.dropout = nn.Dropout(0.25)\n",
    "        self.fc2 = nn.Linear(512, 8)\n",
    "        \n",
    "    def forward(self, x):\n",
    "        out = self.cnn(x)\n",
    "        out = self.relu(out)\n",
    "        out = self.maxpool(out)\n",
    "#         out = self.cnn2(out)\n",
    "#         out = self.relu2(out)\n",
    "#         out = self.maxpool2(out)\n",
    "        out = out.view(out.size(0), -1)\n",
    "        out = self.fc(out)\n",
    "        out = self.dropout(out)\n",
    "        out = self.fc2(out)\n",
    "        return out\n",
    "    \n",
    "model = NeuralNetwork()\n",
    "\n",
    "model = model.to(device)\n",
    "criterion = nn.CrossEntropyLoss()\n",
    "learning_rate = 0.001\n",
    "optimizer = torch.optim.Adam(model.parameters(), lr=learning_rate)"
   ]
  },
  {
   "cell_type": "code",
   "execution_count": null,
   "id": "74c97e69",
   "metadata": {},
   "outputs": [],
   "source": [
    "print(model)"
   ]
  },
  {
   "cell_type": "code",
   "execution_count": null,
   "id": "71571fba",
   "metadata": {},
   "outputs": [],
   "source": [
    "from tqdm import tqdm\n",
    "\n",
    "def train(model,loss_fn,dataloader,optimizer,epoch):\n",
    "  print('\\nEpoch : %d'%epoch)\n",
    "  total_loss=0    \n",
    "  correct=0\n",
    "  total=0\n",
    "\n",
    "  model.train()\n",
    "\n",
    "  for data in tqdm(dataloader):\n",
    "    \n",
    "    inputs,labels=data[0].to(device),data[1].to(device)\n",
    "    \n",
    "    outputs=model(inputs)\n",
    "    \n",
    "    loss=loss_fn(outputs,labels)\n",
    "    \n",
    "    optimizer.zero_grad()\n",
    "    loss.backward()\n",
    "    optimizer.step()\n",
    "\n",
    "    total_loss += loss.item()\n",
    "    \n",
    "    _, predicted = outputs.max(1)\n",
    "    total += labels.size(0)\n",
    "    correct += predicted.eq(labels).sum().item()\n",
    "      \n",
    "  loss=total_loss/len(dataloader)\n",
    "  accuracy=100.*correct/total\n",
    "  \n",
    "  accuracies['train'].append(accuracy)\n",
    "  losses['train'].append(loss)\n",
    "  print('Train Loss: %.3f | Accuracy: %.3f'%(loss,accuracy))"
   ]
  },
  {
   "cell_type": "code",
   "execution_count": null,
   "id": "3f09abf0",
   "metadata": {},
   "outputs": [],
   "source": [
    "def test(model,loss_fn,dataloader,epoch):\n",
    "#   model.eval()\n",
    "\n",
    "  total_loss=0\n",
    "  correct=0\n",
    "  total=0\n",
    "\n",
    "  with torch.no_grad():\n",
    "    for data in tqdm(dataloader):\n",
    "      images,labels=data[0].to(device),data[1].to(device)\n",
    "      \n",
    "      outputs=model(images)\n",
    "\n",
    "      loss= loss_fn(outputs,labels)\n",
    "      total_loss+=loss.item()\n",
    "      \n",
    "      _, predicted = outputs.max(1)\n",
    "      total += labels.size(0)\n",
    "      correct += predicted.eq(labels).sum().item()\n",
    "  \n",
    "  loss=total_loss/len(dataloader)\n",
    "  accuracy=100.*correct/total\n",
    "\n",
    "  losses['val'].append(loss)\n",
    "  accuracies['val'].append(accuracy)\n",
    "\n",
    "  print('Test Loss: %.3f | Accuracy: %.3f'%(loss,accuracy)) "
   ]
  },
  {
   "cell_type": "code",
   "execution_count": null,
   "id": "daaa22d3",
   "metadata": {},
   "outputs": [],
   "source": [
    "model = model.to(device)\n",
    "\n",
    "loss_fn = nn.CrossEntropyLoss()\n",
    "\n",
    "optimizer_ft = torch.optim.SGD(model.parameters(), lr=learning_rate)"
   ]
  },
  {
   "cell_type": "code",
   "execution_count": null,
   "id": "39b24701",
   "metadata": {},
   "outputs": [],
   "source": [
    "losses = {'train':[], 'val':[]}\n",
    "accuracies = {'train':[], 'val':[]}\n",
    "epochs=30\n",
    "for epoch in range(1,epochs+1): \n",
    "  train(model,loss_fn,train_loader,optimizer_ft,epoch)\n",
    "  test(model,loss_fn,val_loader,epoch)"
   ]
  },
  {
   "cell_type": "code",
   "execution_count": null,
   "id": "818f44c8",
   "metadata": {},
   "outputs": [],
   "source": []
  },
  {
   "cell_type": "code",
   "execution_count": null,
   "id": "5c0bcf73",
   "metadata": {},
   "outputs": [],
   "source": []
  }
 ],
 "metadata": {
  "kernelspec": {
   "display_name": "Python 3 (ipykernel)",
   "language": "python",
   "name": "python3"
  },
  "language_info": {
   "codemirror_mode": {
    "name": "ipython",
    "version": 3
   },
   "file_extension": ".py",
   "mimetype": "text/x-python",
   "name": "python",
   "nbconvert_exporter": "python",
   "pygments_lexer": "ipython3",
   "version": "3.10.5"
  }
 },
 "nbformat": 4,
 "nbformat_minor": 5
}
