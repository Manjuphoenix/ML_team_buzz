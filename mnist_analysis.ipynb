{
    "cells": [
        {
            "cell_type": "markdown",
            "source": [
                "\n",
                "MNIST - computer vision dataset\n",
                "28x28 pixel images (28x28 array of each image)\n",
                "    we can flatten each array into a 28∗28=784 dimensional vector\n",
                "        So MNIST can be thought of as a collection of 784-dimensional vectors.\n",
                "\n",
                "What does it mean to capture the global geometry of the data?\n",
                "If the distances between points in our visualization d(i,j) = distances between the points in original space d(∗i,j)\n",
                "\n",
                "Multidimentional Scaling(MDS) - Pick a random point, start applying gradient decent\n",
                "\n",
                "Sammon's Mapping : preserve the distances between nearby points than between those which are far apart\n"
            ],
            "metadata": {}
        },
        {
            "cell_type": "code",
            "execution_count": 23,
            "source": [
                "import torch\n",
                "import torchvision\n",
                "import torch.nn as nn #Module to train NN\n",
                "import torchvision.transforms as transforms"
            ],
            "outputs": [],
            "metadata": {}
        },
        {
            "cell_type": "markdown",
            "source": [
                "#PRE PROCESSING \n",
                "\n",
                "torchvision.transforms - editing the image properties\n",
                "\n",
                "transforms.ToTensor -> convert image to tensor(numbers)\n",
                "\n",
                "   seperating the RGB channels\n",
                "   convert pixels of each image to brightness of color b/w 0 n 255\n",
                "   scale all values down to fit b/w the range of 0 n 1\n",
                "\n",
                "transforms.Normalize(mean, stdDev, inplace) -> change the range of pixel intensity values (apply contrast)\n",
                "\n",
                "inplace - apply changes to current tensor\n",
                "\n",
                "MNIST was apparently binary, but the resizing resulted in it having additional greyscale values.\n",
                "\n",
                "normalize by dividing all values by 255 (not the sum of all pixel values) to bring it to the 0-1 range\n"
            ],
            "metadata": {}
        },
        {
            "cell_type": "code",
            "execution_count": 24,
            "source": [
                "#Importing MNIST (test and train)\n",
                "train_ds = torchvision.datasets.MNIST(root='/home/sweedy/Desktop/DiagnosisOfPathologicalPlants/MNIST', \n",
                "        train=True,\n",
                "        transform = transforms.ToTensor(),\n",
                "        download=True)\n",
                "\n",
                "test_ds = torchvision.datasets.MNIST(root='/home/sweedy/Desktop/DiagnosisOfPathologicalPlants/MNIST', \n",
                "        train=False,\n",
                "        transform = transforms.ToTensor())\n",
                "\n",
                "#print(len(train_ds))\n",
                "#print(len(test_ds))\n",
                "        "
            ],
            "outputs": [],
            "metadata": {}
        },
        {
            "cell_type": "code",
            "execution_count": 25,
            "source": [
                "#Defining Hyper parameters for The neural Network\n",
                "\n",
                "#output size is what we are trying to predict. (Output dimensions 0, 1, 2, 3, 4, 5, 6, 7, 8, 9 = 10)\n",
                "#input size is determined by the size of the image - 784\n",
                "#hidden layers - no. of non linear activation functions, so we'll try with a 100 since this isn't a very large dataset\n",
                "input_size = 784 # 28x28\n",
                "hidden_size = 100\n",
                "output_size = 10\n",
                "\n",
                "#Trying to implement 5 epochs with 600 itterations each : batch size per itteration is 100\n",
                "batch_size = 100\n",
                "num_of_itterations = 3000 #3000 / 6000 / 100 ~ 5 epochs\n",
                "epochs = int(num_of_itterations / (len(train_ds) / batch_size))\n",
                "\n",
                "#Learning Rate -Too high - too unstable, too low, too slow.\n",
                "#We could try a high learning rate? if we subsequently reduce it.\n",
                "learning_rate = 0.1"
            ],
            "outputs": [],
            "metadata": {}
        },
        {
            "cell_type": "markdown",
            "source": [
                "#Techniques for training NEURAL NETWORKS:\n",
                "\n",
                "Neural networks are trained using the stochastic gradient descent optimization algorithm.\n",
                "\n",
                "BATCH : Optimization algorithms that use the entire training set are called batch or deterministic gradient methods, because they process all of the training examples simultaneously in a large batch.\n",
                "ONLINE : Optimization algorithms that use only a single example at a time are sometimes called stochastic or sometimes online methods.\n",
                "\n",
                "BATCH V.S ONLINE\n",
                "\n",
                "        BATCH -> Implementable for feedforward networks\n",
                "        \n",
                "        ONLINE -> Good for back propogation Algorithms always   "
            ],
            "metadata": {}
        },
        {
            "cell_type": "markdown",
            "source": [
                "#Attempting to design a Simple Feed forward NN by using Batch/Deterministic Training methods:\n",
                "\n",
                "Terminology related to Batch Gradient Decent:\n",
                "\n",
                "Batch Size - number of training examples used in error estimation\n",
                "    -> Batch Gradient Descent - Batch size is set to the total number of examples in the training dataset.\n",
                "    -> Stochastic Gradient Descent - Batch size is set to one.\n",
                "    -> Minibatch Gradient Descent - Batch size is set to more than one and less than the total number of examples in the training dataset.\n",
                "\n",
                "Smaller Batch Sizes are prefered\n",
                "(Reasoning behind it: regularization effect on the generalization error becuase of all the noise + fitting training data in limited GPU memory)\n",
                "\n",
                "HOW AM I LOADING THE DATASET? Early Loading or Lazy Loading\n",
                "DataLoader class - arrange dataset class into small batches using a few randomization techniques\n"
            ],
            "metadata": {}
        },
        {
            "cell_type": "code",
            "execution_count": 26,
            "source": [
                "#Load Train and Test MNIST Datasets\n",
                "load_trainData = torch.utils.data.DataLoader(dataset=train_ds, batch_size=batch_size, shuffle=True) #Will randomly load a shuffled batch of train data of size ~ 100\n",
                "load_testData = torch.utils.data.DataLoader(dataset=test_ds, batch_size=batch_size, shuffle=False) #No need to shuffle the Test data"
            ],
            "outputs": [],
            "metadata": {}
        },
        {
            "cell_type": "code",
            "execution_count": 27,
            "source": [
                "#Visualization\n",
                "import matplotlib.pyplot as plt\n",
                "\n",
                "examples = iter(load_trainData) #or load_testData\n",
                "example_data, example_target = examples.next()\n",
                "\n",
                "#Set the range to 6, else you end up with the below error\n",
                "#ValueError: num must be 1 <= num <= 6\n",
                "for i in range(6):\n",
                "    plt.subplot(2, 3, i+1)\n",
                "    plt.imshow(example_data[i][0], cmap='gray')\n",
                "    plt.show()\n"
            ],
            "outputs": [
                {
                    "output_type": "display_data",
                    "data": {
                        "text/plain": [
                            "<Figure size 432x288 with 1 Axes>"
                        ],
                        "image/svg+xml": "<?xml version=\"1.0\" encoding=\"utf-8\" standalone=\"no\"?>\n<!DOCTYPE svg PUBLIC \"-//W3C//DTD SVG 1.1//EN\"\n  \"http://www.w3.org/Graphics/SVG/1.1/DTD/svg11.dtd\">\n<!-- Created with matplotlib (https://matplotlib.org/) -->\n<svg height=\"131.589529pt\" version=\"1.1\" viewBox=\"0 0 132.595588 131.589529\" width=\"132.595588pt\" xmlns=\"http://www.w3.org/2000/svg\" xmlns:xlink=\"http://www.w3.org/1999/xlink\">\n <defs>\n  <style type=\"text/css\">\n*{stroke-linecap:butt;stroke-linejoin:round;}\n  </style>\n </defs>\n <g id=\"figure_1\">\n  <g id=\"patch_1\">\n   <path d=\"M -0 131.589529 \nL 132.595588 131.589529 \nL 132.595588 0 \nL -0 0 \nz\n\" style=\"fill:none;\"/>\n  </g>\n  <g id=\"axes_1\">\n   <g id=\"patch_2\">\n    <path d=\"M 26.925 107.711404 \nL 125.395588 107.711404 \nL 125.395588 9.240815 \nL 26.925 9.240815 \nz\n\" style=\"fill:#ffffff;\"/>\n   </g>\n   <g clip-path=\"url(#pda2fd97bd9)\">\n    <image height=\"99\" id=\"image1404f434e7\" transform=\"scale(1 -1)translate(0 -99)\" width=\"99\" x=\"26.925\" xlink:href=\"data:image/png;base64,\niVBORw0KGgoAAAANSUhEUgAAAGMAAABjCAYAAACPO76VAAAABHNCSVQICAgIfAhkiAAAAy1JREFUeJztnD9r8lAUh6/6rsXBSZRCwX+IdHcRXCtUUMHByV0QP4Cb4ODmIvgVXERxFjc3F6fiIi4iiCKCTtrtNjcQiSHRX/v+nukcTmIuPD33huSmLiHEVRAI3M8eAPmBMoCgDCD+PXsAZimVSkqey+Vk3G63ldpkMnnImOyGnQEEZQDhEsC3tj6fT8b9fl+pJZNJGR+PR6UWi8WUfL1eOzA6+2FnAEEZQFAGENC3tn6/X8bRaNTwuJeXFyX3eDyOjclJ2BlAUAYQ0NPUfD6X8Xg8Vmr5fP7Rw3EcdgYQlAEEZQABvWZoGQ6HSl4oFGTsdqt/U5+fn0re6XScG5iNsDOAoAwgfs00pX9hdL3+PGy+XC5KLZVKKTmnKXI3lAEEZQDxa9aMewgGg0qufWO43W4fPRzTsDOAoAwg/uQ0pd2sIIQQoVBIxpymiCkoAwjKAIIygKAMICgDCOhb22q1KuPFYqHUXC6XjPUvl/RPcbXHIsPOAIIygKAMIKC+z1gul0oeCARMnadfE7RvAfXs93slbzQaMp7NZkrt0Z+jsTOAoAwgoKapwWCg5B8fH6bOu2eauoX+c7Tdbmd4bLfblXGz2bR0PT3sDCAoAwjKAAJqzdBuHBBCiHA4bHhsNpuVcbFYVGqvr6+Wrn/P2rNarWT89vZm6Xp62BlAUAYQlAEE1CN0/c6NWzs5ptOpjDebjVJrtVqmr1GpVGR8z5pxOp0Ma1ZhZwBBGUBATVN2cevN3vl8VvJer+f0cEzDzgCCMoCgDCD+5Jpx65ZUv3MECXYGEJQBhCPTlP7pazqdduIykvf3d0d//1GwM4CgDCAoAwjb1oxyuSxj7YZlIYRIJBKG52kfXVjd1WHX7pBnw84AgjKAsG2aqtVqMo7H43b9rO0cDodnD8EQdgYQlAEEZQBh2ya2SCQi40wmo9S0/8BRv7lZS71eV3Kv1yvjW99V3MNoNFLyr68vS7/jBOwMICgDCKi9tv877AwgKAMIygCCMoCgDCAoAwjKAIIygKAMICgDCMoAgjKAoAwgKAMIygCCMoCgDCAoAwjKAIIygKAMICgDCMoAgjKA+AZyX6JMRAruZQAAAABJRU5ErkJggg==\" y=\"-8.711404\"/>\n   </g>\n   <g id=\"matplotlib.axis_1\">\n    <g id=\"xtick_1\">\n     <g id=\"line2d_1\">\n      <defs>\n       <path d=\"M 0 0 \nL 0 3.5 \n\" id=\"m6fdca43a83\" style=\"stroke:#000000;stroke-width:0.8;\"/>\n      </defs>\n      <g>\n       <use style=\"stroke:#000000;stroke-width:0.8;\" x=\"28.683403\" xlink:href=\"#m6fdca43a83\" y=\"107.711404\"/>\n      </g>\n     </g>\n     <g id=\"text_1\">\n      <!-- 0 -->\n      <defs>\n       <path d=\"M 31.78125 66.40625 \nQ 24.171875 66.40625 20.328125 58.90625 \nQ 16.5 51.421875 16.5 36.375 \nQ 16.5 21.390625 20.328125 13.890625 \nQ 24.171875 6.390625 31.78125 6.390625 \nQ 39.453125 6.390625 43.28125 13.890625 \nQ 47.125 21.390625 47.125 36.375 \nQ 47.125 51.421875 43.28125 58.90625 \nQ 39.453125 66.40625 31.78125 66.40625 \nz\nM 31.78125 74.21875 \nQ 44.046875 74.21875 50.515625 64.515625 \nQ 56.984375 54.828125 56.984375 36.375 \nQ 56.984375 17.96875 50.515625 8.265625 \nQ 44.046875 -1.421875 31.78125 -1.421875 \nQ 19.53125 -1.421875 13.0625 8.265625 \nQ 6.59375 17.96875 6.59375 36.375 \nQ 6.59375 54.828125 13.0625 64.515625 \nQ 19.53125 74.21875 31.78125 74.21875 \nz\n\" id=\"DejaVuSans-48\"/>\n      </defs>\n      <g transform=\"translate(25.502153 122.309841)scale(0.1 -0.1)\">\n       <use xlink:href=\"#DejaVuSans-48\"/>\n      </g>\n     </g>\n    </g>\n    <g id=\"xtick_2\">\n     <g id=\"line2d_2\">\n      <g>\n       <use style=\"stroke:#000000;stroke-width:0.8;\" x=\"63.851471\" xlink:href=\"#m6fdca43a83\" y=\"107.711404\"/>\n      </g>\n     </g>\n     <g id=\"text_2\">\n      <!-- 10 -->\n      <defs>\n       <path d=\"M 12.40625 8.296875 \nL 28.515625 8.296875 \nL 28.515625 63.921875 \nL 10.984375 60.40625 \nL 10.984375 69.390625 \nL 28.421875 72.90625 \nL 38.28125 72.90625 \nL 38.28125 8.296875 \nL 54.390625 8.296875 \nL 54.390625 0 \nL 12.40625 0 \nz\n\" id=\"DejaVuSans-49\"/>\n      </defs>\n      <g transform=\"translate(57.488971 122.309841)scale(0.1 -0.1)\">\n       <use xlink:href=\"#DejaVuSans-49\"/>\n       <use x=\"63.623047\" xlink:href=\"#DejaVuSans-48\"/>\n      </g>\n     </g>\n    </g>\n    <g id=\"xtick_3\">\n     <g id=\"line2d_3\">\n      <g>\n       <use style=\"stroke:#000000;stroke-width:0.8;\" x=\"99.019538\" xlink:href=\"#m6fdca43a83\" y=\"107.711404\"/>\n      </g>\n     </g>\n     <g id=\"text_3\">\n      <!-- 20 -->\n      <defs>\n       <path d=\"M 19.1875 8.296875 \nL 53.609375 8.296875 \nL 53.609375 0 \nL 7.328125 0 \nL 7.328125 8.296875 \nQ 12.9375 14.109375 22.625 23.890625 \nQ 32.328125 33.6875 34.8125 36.53125 \nQ 39.546875 41.84375 41.421875 45.53125 \nQ 43.3125 49.21875 43.3125 52.78125 \nQ 43.3125 58.59375 39.234375 62.25 \nQ 35.15625 65.921875 28.609375 65.921875 \nQ 23.96875 65.921875 18.8125 64.3125 \nQ 13.671875 62.703125 7.8125 59.421875 \nL 7.8125 69.390625 \nQ 13.765625 71.78125 18.9375 73 \nQ 24.125 74.21875 28.421875 74.21875 \nQ 39.75 74.21875 46.484375 68.546875 \nQ 53.21875 62.890625 53.21875 53.421875 \nQ 53.21875 48.921875 51.53125 44.890625 \nQ 49.859375 40.875 45.40625 35.40625 \nQ 44.1875 33.984375 37.640625 27.21875 \nQ 31.109375 20.453125 19.1875 8.296875 \nz\n\" id=\"DejaVuSans-50\"/>\n      </defs>\n      <g transform=\"translate(92.657038 122.309841)scale(0.1 -0.1)\">\n       <use xlink:href=\"#DejaVuSans-50\"/>\n       <use x=\"63.623047\" xlink:href=\"#DejaVuSans-48\"/>\n      </g>\n     </g>\n    </g>\n   </g>\n   <g id=\"matplotlib.axis_2\">\n    <g id=\"ytick_1\">\n     <g id=\"line2d_4\">\n      <defs>\n       <path d=\"M 0 0 \nL -3.5 0 \n\" id=\"m87a5b8b43d\" style=\"stroke:#000000;stroke-width:0.8;\"/>\n      </defs>\n      <g>\n       <use style=\"stroke:#000000;stroke-width:0.8;\" x=\"26.925\" xlink:href=\"#m87a5b8b43d\" y=\"10.999219\"/>\n      </g>\n     </g>\n     <g id=\"text_4\">\n      <!-- 0 -->\n      <g transform=\"translate(13.5625 14.798437)scale(0.1 -0.1)\">\n       <use xlink:href=\"#DejaVuSans-48\"/>\n      </g>\n     </g>\n    </g>\n    <g id=\"ytick_2\">\n     <g id=\"line2d_5\">\n      <g>\n       <use style=\"stroke:#000000;stroke-width:0.8;\" x=\"26.925\" xlink:href=\"#m87a5b8b43d\" y=\"46.167286\"/>\n      </g>\n     </g>\n     <g id=\"text_5\">\n      <!-- 10 -->\n      <g transform=\"translate(7.2 49.966505)scale(0.1 -0.1)\">\n       <use xlink:href=\"#DejaVuSans-49\"/>\n       <use x=\"63.623047\" xlink:href=\"#DejaVuSans-48\"/>\n      </g>\n     </g>\n    </g>\n    <g id=\"ytick_3\">\n     <g id=\"line2d_6\">\n      <g>\n       <use style=\"stroke:#000000;stroke-width:0.8;\" x=\"26.925\" xlink:href=\"#m87a5b8b43d\" y=\"81.335353\"/>\n      </g>\n     </g>\n     <g id=\"text_6\">\n      <!-- 20 -->\n      <g transform=\"translate(7.2 85.134572)scale(0.1 -0.1)\">\n       <use xlink:href=\"#DejaVuSans-50\"/>\n       <use x=\"63.623047\" xlink:href=\"#DejaVuSans-48\"/>\n      </g>\n     </g>\n    </g>\n   </g>\n   <g id=\"patch_3\">\n    <path d=\"M 26.925 107.711404 \nL 26.925 9.240815 \n\" style=\"fill:none;stroke:#000000;stroke-linecap:square;stroke-linejoin:miter;stroke-width:0.8;\"/>\n   </g>\n   <g id=\"patch_4\">\n    <path d=\"M 125.395588 107.711404 \nL 125.395588 9.240815 \n\" style=\"fill:none;stroke:#000000;stroke-linecap:square;stroke-linejoin:miter;stroke-width:0.8;\"/>\n   </g>\n   <g id=\"patch_5\">\n    <path d=\"M 26.925 107.711404 \nL 125.395588 107.711404 \n\" style=\"fill:none;stroke:#000000;stroke-linecap:square;stroke-linejoin:miter;stroke-width:0.8;\"/>\n   </g>\n   <g id=\"patch_6\">\n    <path d=\"M 26.925 9.240815 \nL 125.395588 9.240815 \n\" style=\"fill:none;stroke:#000000;stroke-linecap:square;stroke-linejoin:miter;stroke-width:0.8;\"/>\n   </g>\n  </g>\n </g>\n <defs>\n  <clipPath id=\"pda2fd97bd9\">\n   <rect height=\"98.470588\" width=\"98.470588\" x=\"26.925\" y=\"9.240815\"/>\n  </clipPath>\n </defs>\n</svg>\n",
                        "image/png": "[encoded data removed]"
                    },
                    "metadata": {
                        "needs_background": "light"
                    }
                },
                {
                    "output_type": "display_data",
                    "data": {
                        "text/plain": [
                            "<Figure size 432x288 with 1 Axes>"
                        ],
                        "image/svg+xml": "<?xml version=\"1.0\" encoding=\"utf-8\" standalone=\"no\"?>\n<!DOCTYPE svg PUBLIC \"-//W3C//DTD SVG 1.1//EN\"\n  \"http://www.w3.org/Graphics/SVG/1.1/DTD/svg11.dtd\">\n<!-- Created with matplotlib (https://matplotlib.org/) -->\n<svg height=\"131.589529pt\" version=\"1.1\" viewBox=\"0 0 132.595588 131.589529\" width=\"132.595588pt\" xmlns=\"http://www.w3.org/2000/svg\" xmlns:xlink=\"http://www.w3.org/1999/xlink\">\n <defs>\n  <style type=\"text/css\">\n*{stroke-linecap:butt;stroke-linejoin:round;}\n  </style>\n </defs>\n <g id=\"figure_1\">\n  <g id=\"patch_1\">\n   <path d=\"M 0 131.589529 \nL 132.595588 131.589529 \nL 132.595588 0 \nL 0 0 \nz\n\" style=\"fill:none;\"/>\n  </g>\n  <g id=\"axes_1\">\n   <g id=\"patch_2\">\n    <path d=\"M 26.925 107.711404 \nL 125.395588 107.711404 \nL 125.395588 9.240815 \nL 26.925 9.240815 \nz\n\" style=\"fill:#ffffff;\"/>\n   </g>\n   <g clip-path=\"url(#pc61f10053a)\">\n    <image height=\"99\" id=\"image27ae41554a\" transform=\"scale(1 -1)translate(0 -99)\" width=\"99\" x=\"26.925\" xlink:href=\"data:image/png;base64,\niVBORw0KGgoAAAANSUhEUgAAAGMAAABjCAYAAACPO76VAAAABHNCSVQICAgIfAhkiAAAA8RJREFUeJztnc0rdGEYxp/htfCRWCoNpdlRahYsFBslm0mkRPgHMBuTrFhJKcrOHs3CRxaWmgYbm5maoWal2U00I6mhFO/u9tyn3vF1ZlzjvX6r6+4WT/3c5xxnznl4jDGvhkBQ8dMLIG9QBhCUAQRlAEEZQFAGEJQBBGUAQRlAUAYQf0r9A2tra1W9vb0teWBgQPWqqqokv7y8qN7W1pbk/f191Ts5OVH162t53PHhZABBGUB4DNBd2+7ublUvLS1J7u/v//D3OT4+VvXq6qrks7Ozry2uBHAygKAMICgDCKhzhpPKykrJXV1dqre7uyu5ubm54PdJpVKSFxcXVe/w8PA7S3QVTgYQlAEE9GGqEPX19ZKnpqZUb2ZmRtVtbW2Sb29vVa+zs1NyJpNxc4mfhpMBBGUAQRlAlO05oxBer1fVkUhEcktLi+qNjo5K3tvbK+q63oOTAQRlAFHyD5dKQS6XU/XDw8M/v7a3t1cyD1NEoAwgKAOIX3FpW1dXp+pwOKxq+0GH6+tr1evo6JD8+PhYhNV9HE4GEJQBRNle2vb09Eh2fkDU2NioavtO7cjIiOr99KHJhpMBBGUAQRlAQJ8zKireflcmJiZUb319XXJDQ4PqRaNRVc/Pz0uOx+NuLtFVOBlAUAYQUH+BNzU1qToUCkmenZ1VvXw+L/ng4ED17GdrjTHm8vLSrSUWFU4GEJQBBGUAAXXOuLi4ULXf75ecTCZVb2xsTPLV1VVxF1YiOBlAUAYQlAEE1O0Q+1VjJ8/Pz6q2X0Wurq5WPaTb4p+BkwEEZQABdWkbCARUvbGxIdn5/KxNLBZT9fj4uKrt18iQ4WQAQRlAUAYQUOcMJ/YOPJOTk6pn3yZ37tTz9PSk6pWVFcmbm5uqd39//+11ugUnAwjKAAL6MFWI9vZ2ycFgUPWmp6dV7fF4JJ+enqpeX1+f62v7KpwMICgDCMoAomzPGYWwXyc2xpjl5WXJ9tYVxuhddtbW1oq7sHfgZABBGUD8ysOU8y/yhYUFyc7Nv46OjiQPDQ0Vd2HvwMkAgjKAoAwgoB5IcNLa2irZ5/Op3vn5ueTh4WHVc17aDg4OSnbui76zs/PdZboGJwMIygAC6tK2pqZG1YlEQrJ9yPos2WxW8tzcnOrZ++P+NJwMICgDCMoAAvrS1n6e1n4N2Rhjbm5uJDt3ULu7u1O1/S+B0um0m0t0FU4GEJQBBNSl7f8OJwMIygCCMoCgDCAoAwjKAIIygKAMICgDCMoAgjKAoAwgKAMIygCCMoCgDCAoA4i/U3rLppUCzTgAAAAASUVORK5CYII=\" y=\"-8.711404\"/>\n   </g>\n   <g id=\"matplotlib.axis_1\">\n    <g id=\"xtick_1\">\n     <g id=\"line2d_1\">\n      <defs>\n       <path d=\"M 0 0 \nL 0 3.5 \n\" id=\"m1c69bf121d\" style=\"stroke:#000000;stroke-width:0.8;\"/>\n      </defs>\n      <g>\n       <use style=\"stroke:#000000;stroke-width:0.8;\" x=\"28.683403\" xlink:href=\"#m1c69bf121d\" y=\"107.711404\"/>\n      </g>\n     </g>\n     <g id=\"text_1\">\n      <!-- 0 -->\n      <defs>\n       <path d=\"M 31.78125 66.40625 \nQ 24.171875 66.40625 20.328125 58.90625 \nQ 16.5 51.421875 16.5 36.375 \nQ 16.5 21.390625 20.328125 13.890625 \nQ 24.171875 6.390625 31.78125 6.390625 \nQ 39.453125 6.390625 43.28125 13.890625 \nQ 47.125 21.390625 47.125 36.375 \nQ 47.125 51.421875 43.28125 58.90625 \nQ 39.453125 66.40625 31.78125 66.40625 \nz\nM 31.78125 74.21875 \nQ 44.046875 74.21875 50.515625 64.515625 \nQ 56.984375 54.828125 56.984375 36.375 \nQ 56.984375 17.96875 50.515625 8.265625 \nQ 44.046875 -1.421875 31.78125 -1.421875 \nQ 19.53125 -1.421875 13.0625 8.265625 \nQ 6.59375 17.96875 6.59375 36.375 \nQ 6.59375 54.828125 13.0625 64.515625 \nQ 19.53125 74.21875 31.78125 74.21875 \nz\n\" id=\"DejaVuSans-48\"/>\n      </defs>\n      <g transform=\"translate(25.502153 122.309841)scale(0.1 -0.1)\">\n       <use xlink:href=\"#DejaVuSans-48\"/>\n      </g>\n     </g>\n    </g>\n    <g id=\"xtick_2\">\n     <g id=\"line2d_2\">\n      <g>\n       <use style=\"stroke:#000000;stroke-width:0.8;\" x=\"63.851471\" xlink:href=\"#m1c69bf121d\" y=\"107.711404\"/>\n      </g>\n     </g>\n     <g id=\"text_2\">\n      <!-- 10 -->\n      <defs>\n       <path d=\"M 12.40625 8.296875 \nL 28.515625 8.296875 \nL 28.515625 63.921875 \nL 10.984375 60.40625 \nL 10.984375 69.390625 \nL 28.421875 72.90625 \nL 38.28125 72.90625 \nL 38.28125 8.296875 \nL 54.390625 8.296875 \nL 54.390625 0 \nL 12.40625 0 \nz\n\" id=\"DejaVuSans-49\"/>\n      </defs>\n      <g transform=\"translate(57.488971 122.309841)scale(0.1 -0.1)\">\n       <use xlink:href=\"#DejaVuSans-49\"/>\n       <use x=\"63.623047\" xlink:href=\"#DejaVuSans-48\"/>\n      </g>\n     </g>\n    </g>\n    <g id=\"xtick_3\">\n     <g id=\"line2d_3\">\n      <g>\n       <use style=\"stroke:#000000;stroke-width:0.8;\" x=\"99.019538\" xlink:href=\"#m1c69bf121d\" y=\"107.711404\"/>\n      </g>\n     </g>\n     <g id=\"text_3\">\n      <!-- 20 -->\n      <defs>\n       <path d=\"M 19.1875 8.296875 \nL 53.609375 8.296875 \nL 53.609375 0 \nL 7.328125 0 \nL 7.328125 8.296875 \nQ 12.9375 14.109375 22.625 23.890625 \nQ 32.328125 33.6875 34.8125 36.53125 \nQ 39.546875 41.84375 41.421875 45.53125 \nQ 43.3125 49.21875 43.3125 52.78125 \nQ 43.3125 58.59375 39.234375 62.25 \nQ 35.15625 65.921875 28.609375 65.921875 \nQ 23.96875 65.921875 18.8125 64.3125 \nQ 13.671875 62.703125 7.8125 59.421875 \nL 7.8125 69.390625 \nQ 13.765625 71.78125 18.9375 73 \nQ 24.125 74.21875 28.421875 74.21875 \nQ 39.75 74.21875 46.484375 68.546875 \nQ 53.21875 62.890625 53.21875 53.421875 \nQ 53.21875 48.921875 51.53125 44.890625 \nQ 49.859375 40.875 45.40625 35.40625 \nQ 44.1875 33.984375 37.640625 27.21875 \nQ 31.109375 20.453125 19.1875 8.296875 \nz\n\" id=\"DejaVuSans-50\"/>\n      </defs>\n      <g transform=\"translate(92.657038 122.309841)scale(0.1 -0.1)\">\n       <use xlink:href=\"#DejaVuSans-50\"/>\n       <use x=\"63.623047\" xlink:href=\"#DejaVuSans-48\"/>\n      </g>\n     </g>\n    </g>\n   </g>\n   <g id=\"matplotlib.axis_2\">\n    <g id=\"ytick_1\">\n     <g id=\"line2d_4\">\n      <defs>\n       <path d=\"M 0 0 \nL -3.5 0 \n\" id=\"m37153cd6c8\" style=\"stroke:#000000;stroke-width:0.8;\"/>\n      </defs>\n      <g>\n       <use style=\"stroke:#000000;stroke-width:0.8;\" x=\"26.925\" xlink:href=\"#m37153cd6c8\" y=\"10.999219\"/>\n      </g>\n     </g>\n     <g id=\"text_4\">\n      <!-- 0 -->\n      <g transform=\"translate(13.5625 14.798437)scale(0.1 -0.1)\">\n       <use xlink:href=\"#DejaVuSans-48\"/>\n      </g>\n     </g>\n    </g>\n    <g id=\"ytick_2\">\n     <g id=\"line2d_5\">\n      <g>\n       <use style=\"stroke:#000000;stroke-width:0.8;\" x=\"26.925\" xlink:href=\"#m37153cd6c8\" y=\"46.167286\"/>\n      </g>\n     </g>\n     <g id=\"text_5\">\n      <!-- 10 -->\n      <g transform=\"translate(7.2 49.966505)scale(0.1 -0.1)\">\n       <use xlink:href=\"#DejaVuSans-49\"/>\n       <use x=\"63.623047\" xlink:href=\"#DejaVuSans-48\"/>\n      </g>\n     </g>\n    </g>\n    <g id=\"ytick_3\">\n     <g id=\"line2d_6\">\n      <g>\n       <use style=\"stroke:#000000;stroke-width:0.8;\" x=\"26.925\" xlink:href=\"#m37153cd6c8\" y=\"81.335353\"/>\n      </g>\n     </g>\n     <g id=\"text_6\">\n      <!-- 20 -->\n      <g transform=\"translate(7.2 85.134572)scale(0.1 -0.1)\">\n       <use xlink:href=\"#DejaVuSans-50\"/>\n       <use x=\"63.623047\" xlink:href=\"#DejaVuSans-48\"/>\n      </g>\n     </g>\n    </g>\n   </g>\n   <g id=\"patch_3\">\n    <path d=\"M 26.925 107.711404 \nL 26.925 9.240815 \n\" style=\"fill:none;stroke:#000000;stroke-linecap:square;stroke-linejoin:miter;stroke-width:0.8;\"/>\n   </g>\n   <g id=\"patch_4\">\n    <path d=\"M 125.395588 107.711404 \nL 125.395588 9.240815 \n\" style=\"fill:none;stroke:#000000;stroke-linecap:square;stroke-linejoin:miter;stroke-width:0.8;\"/>\n   </g>\n   <g id=\"patch_5\">\n    <path d=\"M 26.925 107.711404 \nL 125.395588 107.711404 \n\" style=\"fill:none;stroke:#000000;stroke-linecap:square;stroke-linejoin:miter;stroke-width:0.8;\"/>\n   </g>\n   <g id=\"patch_6\">\n    <path d=\"M 26.925 9.240815 \nL 125.395588 9.240815 \n\" style=\"fill:none;stroke:#000000;stroke-linecap:square;stroke-linejoin:miter;stroke-width:0.8;\"/>\n   </g>\n  </g>\n </g>\n <defs>\n  <clipPath id=\"pc61f10053a\">\n   <rect height=\"98.470588\" width=\"98.470588\" x=\"26.925\" y=\"9.240815\"/>\n  </clipPath>\n </defs>\n</svg>\n",
                        "image/png": "[encoded data removed]"
                    },
                    "metadata": {
                        "needs_background": "light"
                    }
                },
                {
                    "output_type": "display_data",
                    "data": {
                        "text/plain": [
                            "<Figure size 432x288 with 1 Axes>"
                        ],
                        "image/svg+xml": "<?xml version=\"1.0\" encoding=\"utf-8\" standalone=\"no\"?>\n<!DOCTYPE svg PUBLIC \"-//W3C//DTD SVG 1.1//EN\"\n  \"http://www.w3.org/Graphics/SVG/1.1/DTD/svg11.dtd\">\n<!-- Created with matplotlib (https://matplotlib.org/) -->\n<svg height=\"131.589529pt\" version=\"1.1\" viewBox=\"0 0 132.595588 131.589529\" width=\"132.595588pt\" xmlns=\"http://www.w3.org/2000/svg\" xmlns:xlink=\"http://www.w3.org/1999/xlink\">\n <defs>\n  <style type=\"text/css\">\n*{stroke-linecap:butt;stroke-linejoin:round;}\n  </style>\n </defs>\n <g id=\"figure_1\">\n  <g id=\"patch_1\">\n   <path d=\"M 0 131.589529 \nL 132.595588 131.589529 \nL 132.595588 0 \nL 0 0 \nz\n\" style=\"fill:none;\"/>\n  </g>\n  <g id=\"axes_1\">\n   <g id=\"patch_2\">\n    <path d=\"M 26.925 107.711404 \nL 125.395588 107.711404 \nL 125.395588 9.240815 \nL 26.925 9.240815 \nz\n\" style=\"fill:#ffffff;\"/>\n   </g>\n   <g clip-path=\"url(#pd702221d90)\">\n    <image height=\"99\" id=\"image06fe62bef7\" transform=\"scale(1 -1)translate(0 -99)\" width=\"99\" x=\"26.925\" xlink:href=\"data:image/png;base64,\niVBORw0KGgoAAAANSUhEUgAAAGMAAABjCAYAAACPO76VAAAABHNCSVQICAgIfAhkiAAAAnJJREFUeJzt3OuN4jAUhuHMatuANrj0AbTBpQ6gDi5tIOgDqGP3X9Y5EhEzS8xL8j6/jDxoLH06tjEOX0VR/CmE8OvdA9A/hgFiGCCGAWIYIIYBYhgghgFiGCCGAWIYIIYBYhggv3P8k/V6XbaXy2Wl73A4lO3pdJpjOFhWBohhgBgGSJY1o9frPeybTCZle7/fV/q6toZYGSCGAfJVZLiQkE43u93u6fdtNpuyvVqtXjomIisDxDBADAMky9Y23bIOBoNKXzweSY1Go8bGRGRlgBgGSJatbZ10Cks/jUdxyrpcLo2N6V2sDBDDADEMkCxb2zrH47Fs160Zsc81Q40yDJC3b21T8culZ7e6bZmyrAwQwwAxDBDUmjEcDiuvz+fzw79N+8bjcWNjysnKADEMENQ0FT17opve1y2Kz71vZWWAGAaIYYCg14z0ju7pdHrYF6WX34ricy7AWRkghgFiGCDoNSP1naOS6FMuUFsZIIYB8jHTVPTTZz7i3d7tdvuyMf0vKwPEMEAMA+Rj14zUYrGovI7HIXVms1nZjrdTcrMyQAwDpBXTVPTTaavf71deX6/Xl43pGVYGiGGAGAbI25/PaEI84kgvSX/nuUHXjA4zDJBWTlNRurWtm6birzfk/kRuZYAYBohhgLTyOKRO+oPHRVH95i9uZePxSNOsDBDDAGnl1jbesUq3s7fb7eH74v3d9NJDjm2ulQFiGCCGAdLKNeN+vz/si98C1vE4pMMMA6Rzn8DjY8nz+bxsx21v7keYrQwQwwAxDJDOrRlkVgaIYYAYBohhgBgGiGGAGAaIYYAYBohhgBgGiGGAGAbIX7r8hbCGynA1AAAAAElFTkSuQmCC\" y=\"-8.711404\"/>\n   </g>\n   <g id=\"matplotlib.axis_1\">\n    <g id=\"xtick_1\">\n     <g id=\"line2d_1\">\n      <defs>\n       <path d=\"M 0 0 \nL 0 3.5 \n\" id=\"m94c5501a33\" style=\"stroke:#000000;stroke-width:0.8;\"/>\n      </defs>\n      <g>\n       <use style=\"stroke:#000000;stroke-width:0.8;\" x=\"28.683403\" xlink:href=\"#m94c5501a33\" y=\"107.711404\"/>\n      </g>\n     </g>\n     <g id=\"text_1\">\n      <!-- 0 -->\n      <defs>\n       <path d=\"M 31.78125 66.40625 \nQ 24.171875 66.40625 20.328125 58.90625 \nQ 16.5 51.421875 16.5 36.375 \nQ 16.5 21.390625 20.328125 13.890625 \nQ 24.171875 6.390625 31.78125 6.390625 \nQ 39.453125 6.390625 43.28125 13.890625 \nQ 47.125 21.390625 47.125 36.375 \nQ 47.125 51.421875 43.28125 58.90625 \nQ 39.453125 66.40625 31.78125 66.40625 \nz\nM 31.78125 74.21875 \nQ 44.046875 74.21875 50.515625 64.515625 \nQ 56.984375 54.828125 56.984375 36.375 \nQ 56.984375 17.96875 50.515625 8.265625 \nQ 44.046875 -1.421875 31.78125 -1.421875 \nQ 19.53125 -1.421875 13.0625 8.265625 \nQ 6.59375 17.96875 6.59375 36.375 \nQ 6.59375 54.828125 13.0625 64.515625 \nQ 19.53125 74.21875 31.78125 74.21875 \nz\n\" id=\"DejaVuSans-48\"/>\n      </defs>\n      <g transform=\"translate(25.502153 122.309841)scale(0.1 -0.1)\">\n       <use xlink:href=\"#DejaVuSans-48\"/>\n      </g>\n     </g>\n    </g>\n    <g id=\"xtick_2\">\n     <g id=\"line2d_2\">\n      <g>\n       <use style=\"stroke:#000000;stroke-width:0.8;\" x=\"63.851471\" xlink:href=\"#m94c5501a33\" y=\"107.711404\"/>\n      </g>\n     </g>\n     <g id=\"text_2\">\n      <!-- 10 -->\n      <defs>\n       <path d=\"M 12.40625 8.296875 \nL 28.515625 8.296875 \nL 28.515625 63.921875 \nL 10.984375 60.40625 \nL 10.984375 69.390625 \nL 28.421875 72.90625 \nL 38.28125 72.90625 \nL 38.28125 8.296875 \nL 54.390625 8.296875 \nL 54.390625 0 \nL 12.40625 0 \nz\n\" id=\"DejaVuSans-49\"/>\n      </defs>\n      <g transform=\"translate(57.488971 122.309841)scale(0.1 -0.1)\">\n       <use xlink:href=\"#DejaVuSans-49\"/>\n       <use x=\"63.623047\" xlink:href=\"#DejaVuSans-48\"/>\n      </g>\n     </g>\n    </g>\n    <g id=\"xtick_3\">\n     <g id=\"line2d_3\">\n      <g>\n       <use style=\"stroke:#000000;stroke-width:0.8;\" x=\"99.019538\" xlink:href=\"#m94c5501a33\" y=\"107.711404\"/>\n      </g>\n     </g>\n     <g id=\"text_3\">\n      <!-- 20 -->\n      <defs>\n       <path d=\"M 19.1875 8.296875 \nL 53.609375 8.296875 \nL 53.609375 0 \nL 7.328125 0 \nL 7.328125 8.296875 \nQ 12.9375 14.109375 22.625 23.890625 \nQ 32.328125 33.6875 34.8125 36.53125 \nQ 39.546875 41.84375 41.421875 45.53125 \nQ 43.3125 49.21875 43.3125 52.78125 \nQ 43.3125 58.59375 39.234375 62.25 \nQ 35.15625 65.921875 28.609375 65.921875 \nQ 23.96875 65.921875 18.8125 64.3125 \nQ 13.671875 62.703125 7.8125 59.421875 \nL 7.8125 69.390625 \nQ 13.765625 71.78125 18.9375 73 \nQ 24.125 74.21875 28.421875 74.21875 \nQ 39.75 74.21875 46.484375 68.546875 \nQ 53.21875 62.890625 53.21875 53.421875 \nQ 53.21875 48.921875 51.53125 44.890625 \nQ 49.859375 40.875 45.40625 35.40625 \nQ 44.1875 33.984375 37.640625 27.21875 \nQ 31.109375 20.453125 19.1875 8.296875 \nz\n\" id=\"DejaVuSans-50\"/>\n      </defs>\n      <g transform=\"translate(92.657038 122.309841)scale(0.1 -0.1)\">\n       <use xlink:href=\"#DejaVuSans-50\"/>\n       <use x=\"63.623047\" xlink:href=\"#DejaVuSans-48\"/>\n      </g>\n     </g>\n    </g>\n   </g>\n   <g id=\"matplotlib.axis_2\">\n    <g id=\"ytick_1\">\n     <g id=\"line2d_4\">\n      <defs>\n       <path d=\"M 0 0 \nL -3.5 0 \n\" id=\"m092818fc32\" style=\"stroke:#000000;stroke-width:0.8;\"/>\n      </defs>\n      <g>\n       <use style=\"stroke:#000000;stroke-width:0.8;\" x=\"26.925\" xlink:href=\"#m092818fc32\" y=\"10.999219\"/>\n      </g>\n     </g>\n     <g id=\"text_4\">\n      <!-- 0 -->\n      <g transform=\"translate(13.5625 14.798437)scale(0.1 -0.1)\">\n       <use xlink:href=\"#DejaVuSans-48\"/>\n      </g>\n     </g>\n    </g>\n    <g id=\"ytick_2\">\n     <g id=\"line2d_5\">\n      <g>\n       <use style=\"stroke:#000000;stroke-width:0.8;\" x=\"26.925\" xlink:href=\"#m092818fc32\" y=\"46.167286\"/>\n      </g>\n     </g>\n     <g id=\"text_5\">\n      <!-- 10 -->\n      <g transform=\"translate(7.2 49.966505)scale(0.1 -0.1)\">\n       <use xlink:href=\"#DejaVuSans-49\"/>\n       <use x=\"63.623047\" xlink:href=\"#DejaVuSans-48\"/>\n      </g>\n     </g>\n    </g>\n    <g id=\"ytick_3\">\n     <g id=\"line2d_6\">\n      <g>\n       <use style=\"stroke:#000000;stroke-width:0.8;\" x=\"26.925\" xlink:href=\"#m092818fc32\" y=\"81.335353\"/>\n      </g>\n     </g>\n     <g id=\"text_6\">\n      <!-- 20 -->\n      <g transform=\"translate(7.2 85.134572)scale(0.1 -0.1)\">\n       <use xlink:href=\"#DejaVuSans-50\"/>\n       <use x=\"63.623047\" xlink:href=\"#DejaVuSans-48\"/>\n      </g>\n     </g>\n    </g>\n   </g>\n   <g id=\"patch_3\">\n    <path d=\"M 26.925 107.711404 \nL 26.925 9.240815 \n\" style=\"fill:none;stroke:#000000;stroke-linecap:square;stroke-linejoin:miter;stroke-width:0.8;\"/>\n   </g>\n   <g id=\"patch_4\">\n    <path d=\"M 125.395588 107.711404 \nL 125.395588 9.240815 \n\" style=\"fill:none;stroke:#000000;stroke-linecap:square;stroke-linejoin:miter;stroke-width:0.8;\"/>\n   </g>\n   <g id=\"patch_5\">\n    <path d=\"M 26.925 107.711404 \nL 125.395588 107.711404 \n\" style=\"fill:none;stroke:#000000;stroke-linecap:square;stroke-linejoin:miter;stroke-width:0.8;\"/>\n   </g>\n   <g id=\"patch_6\">\n    <path d=\"M 26.925 9.240815 \nL 125.395588 9.240815 \n\" style=\"fill:none;stroke:#000000;stroke-linecap:square;stroke-linejoin:miter;stroke-width:0.8;\"/>\n   </g>\n  </g>\n </g>\n <defs>\n  <clipPath id=\"pd702221d90\">\n   <rect height=\"98.470588\" width=\"98.470588\" x=\"26.925\" y=\"9.240815\"/>\n  </clipPath>\n </defs>\n</svg>\n",
                        "image/png": "[encoded data removed]"
                    },
                    "metadata": {
                        "needs_background": "light"
                    }
                },
                {
                    "output_type": "display_data",
                    "data": {
                        "text/plain": [
                            "<Figure size 432x288 with 1 Axes>"
                        ],
                        "image/svg+xml": "<?xml version=\"1.0\" encoding=\"utf-8\" standalone=\"no\"?>\n<!DOCTYPE svg PUBLIC \"-//W3C//DTD SVG 1.1//EN\"\n  \"http://www.w3.org/Graphics/SVG/1.1/DTD/svg11.dtd\">\n<!-- Created with matplotlib (https://matplotlib.org/) -->\n<svg height=\"131.589529pt\" version=\"1.1\" viewBox=\"0 0 132.595588 131.589529\" width=\"132.595588pt\" xmlns=\"http://www.w3.org/2000/svg\" xmlns:xlink=\"http://www.w3.org/1999/xlink\">\n <defs>\n  <style type=\"text/css\">\n*{stroke-linecap:butt;stroke-linejoin:round;}\n  </style>\n </defs>\n <g id=\"figure_1\">\n  <g id=\"patch_1\">\n   <path d=\"M -0 131.589529 \nL 132.595588 131.589529 \nL 132.595588 0 \nL -0 0 \nz\n\" style=\"fill:none;\"/>\n  </g>\n  <g id=\"axes_1\">\n   <g id=\"patch_2\">\n    <path d=\"M 26.925 107.711404 \nL 125.395588 107.711404 \nL 125.395588 9.240815 \nL 26.925 9.240815 \nz\n\" style=\"fill:#ffffff;\"/>\n   </g>\n   <g clip-path=\"url(#p8f09c3a679)\">\n    <image height=\"99\" id=\"imagef44365402c\" transform=\"scale(1 -1)translate(0 -99)\" width=\"99\" x=\"26.925\" xlink:href=\"data:image/png;base64,\niVBORw0KGgoAAAANSUhEUgAAAGMAAABjCAYAAACPO76VAAAABHNCSVQICAgIfAhkiAAAAmNJREFUeJzt3duN4jAYhuFktWUAbSCog0MbSNAGUAeHNjjUwaGO3bus7Rmi0exgv1Le58pWUGLp0++YJIS6qqo/lRB+lR6A/jEMEMMA+V16ALnNZrOof7lcmvb9fs89nIiVAWIYIHXVsaXtfr9/uS2dwnKzMkAMA8QwQDq3tO31elH/8XgUGslHVgaIYYB0bpoajUZRP/wGXpqVAWIYIIYB0rlzRipd6pZkZYAYBkjnp6nr9Vp6CA0rA8QwQAwDxDBADAPEMEAMA8QwQAwDxDBAOn85xDt9+pRhgHR+mno+n6WH0LAyQAwDxDBADAPEMEAMA6T40jb86dZkMnn5uePxGPVvt1vT/p+HCobDYdNu+4lZDlYGiGGAGAZIlnNGv99v2uFcn2q7grrb7V5uS99ssN1uW/uvxlaalQFiGCCGAZLlnHE6nV5um8/nTfu76/z0NROLxSLqbzabb+03NysDxDBAsrxVJ1zOpm8kGI/H7z58NI2lS+TD4fDp50qwMkAMA8QwQLKcM9brddOeTqfRtsFg8O7DR87nc9QPX19R13XWsaSsDBDDAMkyTbVdtX3H0jL9Jh/uNz1GuNR1mlLDMEAMAyTLVdvwTlx4lbaq4jk7neuXy+WX9plKl8/hfktf8mhjZYAYBkj2h9jabiClN4XCZXA6La1Wq6YdPoj2k+PJzcoAMQwQwwBB/39GOJ+ny9U26cNwOe4m/gQrA8QwQNDTVNdYGSCGAWIYIIYBYhgghgFiGCCGAWIYIIYBYhgghgFiGCCGAWIYIIYBYhgghgFiGCCGAWIYIIYBYhgghgHyF/EggV01wwqHAAAAAElFTkSuQmCC\" y=\"-8.711404\"/>\n   </g>\n   <g id=\"matplotlib.axis_1\">\n    <g id=\"xtick_1\">\n     <g id=\"line2d_1\">\n      <defs>\n       <path d=\"M 0 0 \nL 0 3.5 \n\" id=\"mcad63eefc1\" style=\"stroke:#000000;stroke-width:0.8;\"/>\n      </defs>\n      <g>\n       <use style=\"stroke:#000000;stroke-width:0.8;\" x=\"28.683403\" xlink:href=\"#mcad63eefc1\" y=\"107.711404\"/>\n      </g>\n     </g>\n     <g id=\"text_1\">\n      <!-- 0 -->\n      <defs>\n       <path d=\"M 31.78125 66.40625 \nQ 24.171875 66.40625 20.328125 58.90625 \nQ 16.5 51.421875 16.5 36.375 \nQ 16.5 21.390625 20.328125 13.890625 \nQ 24.171875 6.390625 31.78125 6.390625 \nQ 39.453125 6.390625 43.28125 13.890625 \nQ 47.125 21.390625 47.125 36.375 \nQ 47.125 51.421875 43.28125 58.90625 \nQ 39.453125 66.40625 31.78125 66.40625 \nz\nM 31.78125 74.21875 \nQ 44.046875 74.21875 50.515625 64.515625 \nQ 56.984375 54.828125 56.984375 36.375 \nQ 56.984375 17.96875 50.515625 8.265625 \nQ 44.046875 -1.421875 31.78125 -1.421875 \nQ 19.53125 -1.421875 13.0625 8.265625 \nQ 6.59375 17.96875 6.59375 36.375 \nQ 6.59375 54.828125 13.0625 64.515625 \nQ 19.53125 74.21875 31.78125 74.21875 \nz\n\" id=\"DejaVuSans-48\"/>\n      </defs>\n      <g transform=\"translate(25.502153 122.309841)scale(0.1 -0.1)\">\n       <use xlink:href=\"#DejaVuSans-48\"/>\n      </g>\n     </g>\n    </g>\n    <g id=\"xtick_2\">\n     <g id=\"line2d_2\">\n      <g>\n       <use style=\"stroke:#000000;stroke-width:0.8;\" x=\"63.851471\" xlink:href=\"#mcad63eefc1\" y=\"107.711404\"/>\n      </g>\n     </g>\n     <g id=\"text_2\">\n      <!-- 10 -->\n      <defs>\n       <path d=\"M 12.40625 8.296875 \nL 28.515625 8.296875 \nL 28.515625 63.921875 \nL 10.984375 60.40625 \nL 10.984375 69.390625 \nL 28.421875 72.90625 \nL 38.28125 72.90625 \nL 38.28125 8.296875 \nL 54.390625 8.296875 \nL 54.390625 0 \nL 12.40625 0 \nz\n\" id=\"DejaVuSans-49\"/>\n      </defs>\n      <g transform=\"translate(57.488971 122.309841)scale(0.1 -0.1)\">\n       <use xlink:href=\"#DejaVuSans-49\"/>\n       <use x=\"63.623047\" xlink:href=\"#DejaVuSans-48\"/>\n      </g>\n     </g>\n    </g>\n    <g id=\"xtick_3\">\n     <g id=\"line2d_3\">\n      <g>\n       <use style=\"stroke:#000000;stroke-width:0.8;\" x=\"99.019538\" xlink:href=\"#mcad63eefc1\" y=\"107.711404\"/>\n      </g>\n     </g>\n     <g id=\"text_3\">\n      <!-- 20 -->\n      <defs>\n       <path d=\"M 19.1875 8.296875 \nL 53.609375 8.296875 \nL 53.609375 0 \nL 7.328125 0 \nL 7.328125 8.296875 \nQ 12.9375 14.109375 22.625 23.890625 \nQ 32.328125 33.6875 34.8125 36.53125 \nQ 39.546875 41.84375 41.421875 45.53125 \nQ 43.3125 49.21875 43.3125 52.78125 \nQ 43.3125 58.59375 39.234375 62.25 \nQ 35.15625 65.921875 28.609375 65.921875 \nQ 23.96875 65.921875 18.8125 64.3125 \nQ 13.671875 62.703125 7.8125 59.421875 \nL 7.8125 69.390625 \nQ 13.765625 71.78125 18.9375 73 \nQ 24.125 74.21875 28.421875 74.21875 \nQ 39.75 74.21875 46.484375 68.546875 \nQ 53.21875 62.890625 53.21875 53.421875 \nQ 53.21875 48.921875 51.53125 44.890625 \nQ 49.859375 40.875 45.40625 35.40625 \nQ 44.1875 33.984375 37.640625 27.21875 \nQ 31.109375 20.453125 19.1875 8.296875 \nz\n\" id=\"DejaVuSans-50\"/>\n      </defs>\n      <g transform=\"translate(92.657038 122.309841)scale(0.1 -0.1)\">\n       <use xlink:href=\"#DejaVuSans-50\"/>\n       <use x=\"63.623047\" xlink:href=\"#DejaVuSans-48\"/>\n      </g>\n     </g>\n    </g>\n   </g>\n   <g id=\"matplotlib.axis_2\">\n    <g id=\"ytick_1\">\n     <g id=\"line2d_4\">\n      <defs>\n       <path d=\"M 0 0 \nL -3.5 0 \n\" id=\"md1be76358c\" style=\"stroke:#000000;stroke-width:0.8;\"/>\n      </defs>\n      <g>\n       <use style=\"stroke:#000000;stroke-width:0.8;\" x=\"26.925\" xlink:href=\"#md1be76358c\" y=\"10.999219\"/>\n      </g>\n     </g>\n     <g id=\"text_4\">\n      <!-- 0 -->\n      <g transform=\"translate(13.5625 14.798437)scale(0.1 -0.1)\">\n       <use xlink:href=\"#DejaVuSans-48\"/>\n      </g>\n     </g>\n    </g>\n    <g id=\"ytick_2\">\n     <g id=\"line2d_5\">\n      <g>\n       <use style=\"stroke:#000000;stroke-width:0.8;\" x=\"26.925\" xlink:href=\"#md1be76358c\" y=\"46.167286\"/>\n      </g>\n     </g>\n     <g id=\"text_5\">\n      <!-- 10 -->\n      <g transform=\"translate(7.2 49.966505)scale(0.1 -0.1)\">\n       <use xlink:href=\"#DejaVuSans-49\"/>\n       <use x=\"63.623047\" xlink:href=\"#DejaVuSans-48\"/>\n      </g>\n     </g>\n    </g>\n    <g id=\"ytick_3\">\n     <g id=\"line2d_6\">\n      <g>\n       <use style=\"stroke:#000000;stroke-width:0.8;\" x=\"26.925\" xlink:href=\"#md1be76358c\" y=\"81.335353\"/>\n      </g>\n     </g>\n     <g id=\"text_6\">\n      <!-- 20 -->\n      <g transform=\"translate(7.2 85.134572)scale(0.1 -0.1)\">\n       <use xlink:href=\"#DejaVuSans-50\"/>\n       <use x=\"63.623047\" xlink:href=\"#DejaVuSans-48\"/>\n      </g>\n     </g>\n    </g>\n   </g>\n   <g id=\"patch_3\">\n    <path d=\"M 26.925 107.711404 \nL 26.925 9.240815 \n\" style=\"fill:none;stroke:#000000;stroke-linecap:square;stroke-linejoin:miter;stroke-width:0.8;\"/>\n   </g>\n   <g id=\"patch_4\">\n    <path d=\"M 125.395588 107.711404 \nL 125.395588 9.240815 \n\" style=\"fill:none;stroke:#000000;stroke-linecap:square;stroke-linejoin:miter;stroke-width:0.8;\"/>\n   </g>\n   <g id=\"patch_5\">\n    <path d=\"M 26.925 107.711404 \nL 125.395588 107.711404 \n\" style=\"fill:none;stroke:#000000;stroke-linecap:square;stroke-linejoin:miter;stroke-width:0.8;\"/>\n   </g>\n   <g id=\"patch_6\">\n    <path d=\"M 26.925 9.240815 \nL 125.395588 9.240815 \n\" style=\"fill:none;stroke:#000000;stroke-linecap:square;stroke-linejoin:miter;stroke-width:0.8;\"/>\n   </g>\n  </g>\n </g>\n <defs>\n  <clipPath id=\"p8f09c3a679\">\n   <rect height=\"98.470588\" width=\"98.470588\" x=\"26.925\" y=\"9.240815\"/>\n  </clipPath>\n </defs>\n</svg>\n",
                        "image/png": "[encoded data removed]"
                    },
                    "metadata": {
                        "needs_background": "light"
                    }
                },
                {
                    "output_type": "display_data",
                    "data": {
                        "text/plain": [
                            "<Figure size 432x288 with 1 Axes>"
                        ],
                        "image/svg+xml": "<?xml version=\"1.0\" encoding=\"utf-8\" standalone=\"no\"?>\n<!DOCTYPE svg PUBLIC \"-//W3C//DTD SVG 1.1//EN\"\n  \"http://www.w3.org/Graphics/SVG/1.1/DTD/svg11.dtd\">\n<!-- Created with matplotlib (https://matplotlib.org/) -->\n<svg height=\"131.589529pt\" version=\"1.1\" viewBox=\"0 0 132.595588 131.589529\" width=\"132.595588pt\" xmlns=\"http://www.w3.org/2000/svg\" xmlns:xlink=\"http://www.w3.org/1999/xlink\">\n <defs>\n  <style type=\"text/css\">\n*{stroke-linecap:butt;stroke-linejoin:round;}\n  </style>\n </defs>\n <g id=\"figure_1\">\n  <g id=\"patch_1\">\n   <path d=\"M 0 131.589529 \nL 132.595588 131.589529 \nL 132.595588 0 \nL 0 0 \nz\n\" style=\"fill:none;\"/>\n  </g>\n  <g id=\"axes_1\">\n   <g id=\"patch_2\">\n    <path d=\"M 26.925 107.711404 \nL 125.395588 107.711404 \nL 125.395588 9.240815 \nL 26.925 9.240815 \nz\n\" style=\"fill:#ffffff;\"/>\n   </g>\n   <g clip-path=\"url(#p12d06e23d0)\">\n    <image height=\"99\" id=\"imageaae33a2a0b\" transform=\"scale(1 -1)translate(0 -99)\" width=\"99\" x=\"26.925\" xlink:href=\"data:image/png;base64,\niVBORw0KGgoAAAANSUhEUgAAAGMAAABjCAYAAACPO76VAAAABHNCSVQICAgIfAhkiAAAAs9JREFUeJzt27+rsWEYB/Db25tyGMggo80ki8VI/gLFwGKW/AV2m1Ux2PwDVoPRREpZjEpKFlES73a/9/X0Onnz/Pg+p+9nuu7uczpXfbvu++ARUEo9FUH45XUD9BfDAMIwgDAMIAwDCMMAwjCAMAwgDAMIwwDy2+sGvrPdbnWdSqXE3nQ61XWpVHKtJydxMoAwDCDQx9R3JpOJ1y3YjpMBhGEAYRhAfHNnBAIBsQ6FQh514hxOBhCGAQT6mLpcLrp+PuVzE8ViUdfdbte1npzEyQDCMIAwDCDQd8ZwONR1r9fzsBN3cDKAMAwgAQX8rG0ymdT1brcTe/xwiRzFMIAwDCDQd4bp8XiI9e1203U2mxV7m83GlZ7sxskAwjCAQL8CN5n/yiqlVKFQ0HUikRB7PKboYwwDCMMA4ps7Y71ei7V5Z9RqNbE3m81c6clunAwgDAOIb44pK/M5qmq1Kvba7bZYX69XV3r6FCcDCMMAwjCA+ObOsP672mq1dB2JRMReNBoVa94Z9N8YBhCGAcQ3n/SFw2GxNt9Sz+VyYq/f74t1s9l0rjEbcTKAMAwgvjmmrCqViq7H47HYOxwOYm0+DIeMkwGEYQBhGEB883aI1fF4fLlnfXskk8noerVaOdbTpzgZQBgGEN8eU9bna01fX19i3el0dN1oNMTe+Xy2t7EPcDKAMAwgDAOIb++M5XL59s/m83ldx+Nxscc7g/6JYQDx7bu2wWBQ14PBQOzV6/WXv2ceWUopNZ/P7W3sA5wMIAwDCMMA4ts7w5ROp8V6sViItXm/8M6gtzAMII68Ao/FYi/3TqeT7X/P+lXj+/0u1uYxhYyTAYRhAGEYQBy5M7z+PsRoNBLrcrms6/1+73I37+NkAGEYQH7EK/CfgpMBhGEAYRhAGAYQhgGEYQBhGEAYBhCGAYRhAGEYQBgGEIYBhGEAYRhAGAYQhgHkD8gaf3TdLXGgAAAAAElFTkSuQmCC\" y=\"-8.711404\"/>\n   </g>\n   <g id=\"matplotlib.axis_1\">\n    <g id=\"xtick_1\">\n     <g id=\"line2d_1\">\n      <defs>\n       <path d=\"M 0 0 \nL 0 3.5 \n\" id=\"m46a54cdfeb\" style=\"stroke:#000000;stroke-width:0.8;\"/>\n      </defs>\n      <g>\n       <use style=\"stroke:#000000;stroke-width:0.8;\" x=\"28.683403\" xlink:href=\"#m46a54cdfeb\" y=\"107.711404\"/>\n      </g>\n     </g>\n     <g id=\"text_1\">\n      <!-- 0 -->\n      <defs>\n       <path d=\"M 31.78125 66.40625 \nQ 24.171875 66.40625 20.328125 58.90625 \nQ 16.5 51.421875 16.5 36.375 \nQ 16.5 21.390625 20.328125 13.890625 \nQ 24.171875 6.390625 31.78125 6.390625 \nQ 39.453125 6.390625 43.28125 13.890625 \nQ 47.125 21.390625 47.125 36.375 \nQ 47.125 51.421875 43.28125 58.90625 \nQ 39.453125 66.40625 31.78125 66.40625 \nz\nM 31.78125 74.21875 \nQ 44.046875 74.21875 50.515625 64.515625 \nQ 56.984375 54.828125 56.984375 36.375 \nQ 56.984375 17.96875 50.515625 8.265625 \nQ 44.046875 -1.421875 31.78125 -1.421875 \nQ 19.53125 -1.421875 13.0625 8.265625 \nQ 6.59375 17.96875 6.59375 36.375 \nQ 6.59375 54.828125 13.0625 64.515625 \nQ 19.53125 74.21875 31.78125 74.21875 \nz\n\" id=\"DejaVuSans-48\"/>\n      </defs>\n      <g transform=\"translate(25.502153 122.309841)scale(0.1 -0.1)\">\n       <use xlink:href=\"#DejaVuSans-48\"/>\n      </g>\n     </g>\n    </g>\n    <g id=\"xtick_2\">\n     <g id=\"line2d_2\">\n      <g>\n       <use style=\"stroke:#000000;stroke-width:0.8;\" x=\"63.851471\" xlink:href=\"#m46a54cdfeb\" y=\"107.711404\"/>\n      </g>\n     </g>\n     <g id=\"text_2\">\n      <!-- 10 -->\n      <defs>\n       <path d=\"M 12.40625 8.296875 \nL 28.515625 8.296875 \nL 28.515625 63.921875 \nL 10.984375 60.40625 \nL 10.984375 69.390625 \nL 28.421875 72.90625 \nL 38.28125 72.90625 \nL 38.28125 8.296875 \nL 54.390625 8.296875 \nL 54.390625 0 \nL 12.40625 0 \nz\n\" id=\"DejaVuSans-49\"/>\n      </defs>\n      <g transform=\"translate(57.488971 122.309841)scale(0.1 -0.1)\">\n       <use xlink:href=\"#DejaVuSans-49\"/>\n       <use x=\"63.623047\" xlink:href=\"#DejaVuSans-48\"/>\n      </g>\n     </g>\n    </g>\n    <g id=\"xtick_3\">\n     <g id=\"line2d_3\">\n      <g>\n       <use style=\"stroke:#000000;stroke-width:0.8;\" x=\"99.019538\" xlink:href=\"#m46a54cdfeb\" y=\"107.711404\"/>\n      </g>\n     </g>\n     <g id=\"text_3\">\n      <!-- 20 -->\n      <defs>\n       <path d=\"M 19.1875 8.296875 \nL 53.609375 8.296875 \nL 53.609375 0 \nL 7.328125 0 \nL 7.328125 8.296875 \nQ 12.9375 14.109375 22.625 23.890625 \nQ 32.328125 33.6875 34.8125 36.53125 \nQ 39.546875 41.84375 41.421875 45.53125 \nQ 43.3125 49.21875 43.3125 52.78125 \nQ 43.3125 58.59375 39.234375 62.25 \nQ 35.15625 65.921875 28.609375 65.921875 \nQ 23.96875 65.921875 18.8125 64.3125 \nQ 13.671875 62.703125 7.8125 59.421875 \nL 7.8125 69.390625 \nQ 13.765625 71.78125 18.9375 73 \nQ 24.125 74.21875 28.421875 74.21875 \nQ 39.75 74.21875 46.484375 68.546875 \nQ 53.21875 62.890625 53.21875 53.421875 \nQ 53.21875 48.921875 51.53125 44.890625 \nQ 49.859375 40.875 45.40625 35.40625 \nQ 44.1875 33.984375 37.640625 27.21875 \nQ 31.109375 20.453125 19.1875 8.296875 \nz\n\" id=\"DejaVuSans-50\"/>\n      </defs>\n      <g transform=\"translate(92.657038 122.309841)scale(0.1 -0.1)\">\n       <use xlink:href=\"#DejaVuSans-50\"/>\n       <use x=\"63.623047\" xlink:href=\"#DejaVuSans-48\"/>\n      </g>\n     </g>\n    </g>\n   </g>\n   <g id=\"matplotlib.axis_2\">\n    <g id=\"ytick_1\">\n     <g id=\"line2d_4\">\n      <defs>\n       <path d=\"M 0 0 \nL -3.5 0 \n\" id=\"m0bd3511b7c\" style=\"stroke:#000000;stroke-width:0.8;\"/>\n      </defs>\n      <g>\n       <use style=\"stroke:#000000;stroke-width:0.8;\" x=\"26.925\" xlink:href=\"#m0bd3511b7c\" y=\"10.999219\"/>\n      </g>\n     </g>\n     <g id=\"text_4\">\n      <!-- 0 -->\n      <g transform=\"translate(13.5625 14.798437)scale(0.1 -0.1)\">\n       <use xlink:href=\"#DejaVuSans-48\"/>\n      </g>\n     </g>\n    </g>\n    <g id=\"ytick_2\">\n     <g id=\"line2d_5\">\n      <g>\n       <use style=\"stroke:#000000;stroke-width:0.8;\" x=\"26.925\" xlink:href=\"#m0bd3511b7c\" y=\"46.167286\"/>\n      </g>\n     </g>\n     <g id=\"text_5\">\n      <!-- 10 -->\n      <g transform=\"translate(7.2 49.966505)scale(0.1 -0.1)\">\n       <use xlink:href=\"#DejaVuSans-49\"/>\n       <use x=\"63.623047\" xlink:href=\"#DejaVuSans-48\"/>\n      </g>\n     </g>\n    </g>\n    <g id=\"ytick_3\">\n     <g id=\"line2d_6\">\n      <g>\n       <use style=\"stroke:#000000;stroke-width:0.8;\" x=\"26.925\" xlink:href=\"#m0bd3511b7c\" y=\"81.335353\"/>\n      </g>\n     </g>\n     <g id=\"text_6\">\n      <!-- 20 -->\n      <g transform=\"translate(7.2 85.134572)scale(0.1 -0.1)\">\n       <use xlink:href=\"#DejaVuSans-50\"/>\n       <use x=\"63.623047\" xlink:href=\"#DejaVuSans-48\"/>\n      </g>\n     </g>\n    </g>\n   </g>\n   <g id=\"patch_3\">\n    <path d=\"M 26.925 107.711404 \nL 26.925 9.240815 \n\" style=\"fill:none;stroke:#000000;stroke-linecap:square;stroke-linejoin:miter;stroke-width:0.8;\"/>\n   </g>\n   <g id=\"patch_4\">\n    <path d=\"M 125.395588 107.711404 \nL 125.395588 9.240815 \n\" style=\"fill:none;stroke:#000000;stroke-linecap:square;stroke-linejoin:miter;stroke-width:0.8;\"/>\n   </g>\n   <g id=\"patch_5\">\n    <path d=\"M 26.925 107.711404 \nL 125.395588 107.711404 \n\" style=\"fill:none;stroke:#000000;stroke-linecap:square;stroke-linejoin:miter;stroke-width:0.8;\"/>\n   </g>\n   <g id=\"patch_6\">\n    <path d=\"M 26.925 9.240815 \nL 125.395588 9.240815 \n\" style=\"fill:none;stroke:#000000;stroke-linecap:square;stroke-linejoin:miter;stroke-width:0.8;\"/>\n   </g>\n  </g>\n </g>\n <defs>\n  <clipPath id=\"p12d06e23d0\">\n   <rect height=\"98.470588\" width=\"98.470588\" x=\"26.925\" y=\"9.240815\"/>\n  </clipPath>\n </defs>\n</svg>\n",
                        "image/png": "[encoded data removed]"
                    },
                    "metadata": {
                        "needs_background": "light"
                    }
                },
                {
                    "output_type": "display_data",
                    "data": {
                        "text/plain": [
                            "<Figure size 432x288 with 1 Axes>"
                        ],
                        "image/svg+xml": "<?xml version=\"1.0\" encoding=\"utf-8\" standalone=\"no\"?>\n<!DOCTYPE svg PUBLIC \"-//W3C//DTD SVG 1.1//EN\"\n  \"http://www.w3.org/Graphics/SVG/1.1/DTD/svg11.dtd\">\n<!-- Created with matplotlib (https://matplotlib.org/) -->\n<svg height=\"131.589529pt\" version=\"1.1\" viewBox=\"0 0 132.595588 131.589529\" width=\"132.595588pt\" xmlns=\"http://www.w3.org/2000/svg\" xmlns:xlink=\"http://www.w3.org/1999/xlink\">\n <defs>\n  <style type=\"text/css\">\n*{stroke-linecap:butt;stroke-linejoin:round;}\n  </style>\n </defs>\n <g id=\"figure_1\">\n  <g id=\"patch_1\">\n   <path d=\"M 0 131.589529 \nL 132.595588 131.589529 \nL 132.595588 0 \nL 0 0 \nz\n\" style=\"fill:none;\"/>\n  </g>\n  <g id=\"axes_1\">\n   <g id=\"patch_2\">\n    <path d=\"M 26.925 107.711404 \nL 125.395588 107.711404 \nL 125.395588 9.240815 \nL 26.925 9.240815 \nz\n\" style=\"fill:#ffffff;\"/>\n   </g>\n   <g clip-path=\"url(#p2b67c26111)\">\n    <image height=\"99\" id=\"image412d406653\" transform=\"scale(1 -1)translate(0 -99)\" width=\"99\" x=\"26.925\" xlink:href=\"data:image/png;base64,\niVBORw0KGgoAAAANSUhEUgAAAGMAAABjCAYAAACPO76VAAAABHNCSVQICAgIfAhkiAAAA5VJREFUeJztmz1PckEQhRc1IdGSUKqt/gB6SqiQaGmsbKxoFdQCQm1CRalErPzorbXAwlLoLbWVUu3WmUlYkZfLHt6cp5rNeO9ucpzZ2WFvyjn35QgEC7EXQH6gGEBQDCAoBhAUAwiKAQTFAIJiAEExgKAYQCzFXkCI9fV1b/d6PeXLZrPe/vrSHZ18Pq/GDw8P019cAjAygKAYQECnKUkqlVLjhYWf/6PPz0/lOzs7U+Nisejt9/f3BFY3HRgZQFAMICgGECk3J7/01Wo1Na7X6962pa3dX+SecX9/n8DqpgMjAwiKAcTcpCmLTE22tJVlr3POtdttbx8cHCS7sH+AkQEExQCCYgAxt3vG7u6ut8/Pz5XPlrZyf0Hu6DIygKAYQMxtmlpZWfH209OT8m1ubqqxTFP2BC5P57FhZABBMYCgGEDMzS99lo+PD29fXV0pn+zoOqf3jLW1NeVbXl729nA4nOYS/wwjAwiKAQRUmtrY2FDj7e1tb29tbY39HnsCl9iy9+joyNsnJydjz5EEjAwgKAYQFAOI6O2QSe/Tyn3htwsJ0h/yLS3F3UIZGUBQDCCil7b7+/velmnJuXCJmoTPltaDwWDk3yYBIwMIigEExQAi+p4RKl8lk/r+8uzNzY3y5XI5b8+io8vIAIJiAEExgIi+Z0jsGUCO7+7ulO/x8dHbh4eHymfPK6E5JLa9Ls8dz8/PI5+bFowMICgGEFBpypagsh2xt7enfLLUtJ8a2xK1VCqNNae94DaL1CRhZABBMYCgGEBA7Rm27JSlZrlcVr5utzvyPXZ/6XQ6I98Tem7WMDKAoBhARE9Tb29v3g51V+0pO5Sm5D1c55y7vLz0tr0MJ+eUa4kBIwMIigEExQAi+iW2cb/Ns/vJ6empt5vNZnAO2X19eXlRPvnexcXFMVacHIwMICgGENFLW1mGHh8fK9/19bW3bZqSn4ql02nla7VaaixP3fY9v11mmCWMDCAoBhAUA4jopW2IRqPh7Wq1qnyh7zNeX1/VOJPJeFuW0s45d3t76+2dnZ3JFzsFGBlAUAwgope2IWSJatNLpVLxtk1Tq6uraiz9tqMb6v7OGkYGEBQDCIoBBHRpG6JQKHj74uJC+exd236/723bcrF3eGPCyACCYgAxt2nqf4SRAQTFAIJiAEExgKAYQFAMICgGEBQDCIoBBMUAgmIAQTGAoBhAUAwgKAYQFAMIigHEN8kZ/KgI/hdBAAAAAElFTkSuQmCC\" y=\"-8.711404\"/>\n   </g>\n   <g id=\"matplotlib.axis_1\">\n    <g id=\"xtick_1\">\n     <g id=\"line2d_1\">\n      <defs>\n       <path d=\"M 0 0 \nL 0 3.5 \n\" id=\"mfb597d73ea\" style=\"stroke:#000000;stroke-width:0.8;\"/>\n      </defs>\n      <g>\n       <use style=\"stroke:#000000;stroke-width:0.8;\" x=\"28.683403\" xlink:href=\"#mfb597d73ea\" y=\"107.711404\"/>\n      </g>\n     </g>\n     <g id=\"text_1\">\n      <!-- 0 -->\n      <defs>\n       <path d=\"M 31.78125 66.40625 \nQ 24.171875 66.40625 20.328125 58.90625 \nQ 16.5 51.421875 16.5 36.375 \nQ 16.5 21.390625 20.328125 13.890625 \nQ 24.171875 6.390625 31.78125 6.390625 \nQ 39.453125 6.390625 43.28125 13.890625 \nQ 47.125 21.390625 47.125 36.375 \nQ 47.125 51.421875 43.28125 58.90625 \nQ 39.453125 66.40625 31.78125 66.40625 \nz\nM 31.78125 74.21875 \nQ 44.046875 74.21875 50.515625 64.515625 \nQ 56.984375 54.828125 56.984375 36.375 \nQ 56.984375 17.96875 50.515625 8.265625 \nQ 44.046875 -1.421875 31.78125 -1.421875 \nQ 19.53125 -1.421875 13.0625 8.265625 \nQ 6.59375 17.96875 6.59375 36.375 \nQ 6.59375 54.828125 13.0625 64.515625 \nQ 19.53125 74.21875 31.78125 74.21875 \nz\n\" id=\"DejaVuSans-48\"/>\n      </defs>\n      <g transform=\"translate(25.502153 122.309841)scale(0.1 -0.1)\">\n       <use xlink:href=\"#DejaVuSans-48\"/>\n      </g>\n     </g>\n    </g>\n    <g id=\"xtick_2\">\n     <g id=\"line2d_2\">\n      <g>\n       <use style=\"stroke:#000000;stroke-width:0.8;\" x=\"63.851471\" xlink:href=\"#mfb597d73ea\" y=\"107.711404\"/>\n      </g>\n     </g>\n     <g id=\"text_2\">\n      <!-- 10 -->\n      <defs>\n       <path d=\"M 12.40625 8.296875 \nL 28.515625 8.296875 \nL 28.515625 63.921875 \nL 10.984375 60.40625 \nL 10.984375 69.390625 \nL 28.421875 72.90625 \nL 38.28125 72.90625 \nL 38.28125 8.296875 \nL 54.390625 8.296875 \nL 54.390625 0 \nL 12.40625 0 \nz\n\" id=\"DejaVuSans-49\"/>\n      </defs>\n      <g transform=\"translate(57.488971 122.309841)scale(0.1 -0.1)\">\n       <use xlink:href=\"#DejaVuSans-49\"/>\n       <use x=\"63.623047\" xlink:href=\"#DejaVuSans-48\"/>\n      </g>\n     </g>\n    </g>\n    <g id=\"xtick_3\">\n     <g id=\"line2d_3\">\n      <g>\n       <use style=\"stroke:#000000;stroke-width:0.8;\" x=\"99.019538\" xlink:href=\"#mfb597d73ea\" y=\"107.711404\"/>\n      </g>\n     </g>\n     <g id=\"text_3\">\n      <!-- 20 -->\n      <defs>\n       <path d=\"M 19.1875 8.296875 \nL 53.609375 8.296875 \nL 53.609375 0 \nL 7.328125 0 \nL 7.328125 8.296875 \nQ 12.9375 14.109375 22.625 23.890625 \nQ 32.328125 33.6875 34.8125 36.53125 \nQ 39.546875 41.84375 41.421875 45.53125 \nQ 43.3125 49.21875 43.3125 52.78125 \nQ 43.3125 58.59375 39.234375 62.25 \nQ 35.15625 65.921875 28.609375 65.921875 \nQ 23.96875 65.921875 18.8125 64.3125 \nQ 13.671875 62.703125 7.8125 59.421875 \nL 7.8125 69.390625 \nQ 13.765625 71.78125 18.9375 73 \nQ 24.125 74.21875 28.421875 74.21875 \nQ 39.75 74.21875 46.484375 68.546875 \nQ 53.21875 62.890625 53.21875 53.421875 \nQ 53.21875 48.921875 51.53125 44.890625 \nQ 49.859375 40.875 45.40625 35.40625 \nQ 44.1875 33.984375 37.640625 27.21875 \nQ 31.109375 20.453125 19.1875 8.296875 \nz\n\" id=\"DejaVuSans-50\"/>\n      </defs>\n      <g transform=\"translate(92.657038 122.309841)scale(0.1 -0.1)\">\n       <use xlink:href=\"#DejaVuSans-50\"/>\n       <use x=\"63.623047\" xlink:href=\"#DejaVuSans-48\"/>\n      </g>\n     </g>\n    </g>\n   </g>\n   <g id=\"matplotlib.axis_2\">\n    <g id=\"ytick_1\">\n     <g id=\"line2d_4\">\n      <defs>\n       <path d=\"M 0 0 \nL -3.5 0 \n\" id=\"m4a037ef122\" style=\"stroke:#000000;stroke-width:0.8;\"/>\n      </defs>\n      <g>\n       <use style=\"stroke:#000000;stroke-width:0.8;\" x=\"26.925\" xlink:href=\"#m4a037ef122\" y=\"10.999219\"/>\n      </g>\n     </g>\n     <g id=\"text_4\">\n      <!-- 0 -->\n      <g transform=\"translate(13.5625 14.798438)scale(0.1 -0.1)\">\n       <use xlink:href=\"#DejaVuSans-48\"/>\n      </g>\n     </g>\n    </g>\n    <g id=\"ytick_2\">\n     <g id=\"line2d_5\">\n      <g>\n       <use style=\"stroke:#000000;stroke-width:0.8;\" x=\"26.925\" xlink:href=\"#m4a037ef122\" y=\"46.167286\"/>\n      </g>\n     </g>\n     <g id=\"text_5\">\n      <!-- 10 -->\n      <g transform=\"translate(7.2 49.966505)scale(0.1 -0.1)\">\n       <use xlink:href=\"#DejaVuSans-49\"/>\n       <use x=\"63.623047\" xlink:href=\"#DejaVuSans-48\"/>\n      </g>\n     </g>\n    </g>\n    <g id=\"ytick_3\">\n     <g id=\"line2d_6\">\n      <g>\n       <use style=\"stroke:#000000;stroke-width:0.8;\" x=\"26.925\" xlink:href=\"#m4a037ef122\" y=\"81.335353\"/>\n      </g>\n     </g>\n     <g id=\"text_6\">\n      <!-- 20 -->\n      <g transform=\"translate(7.2 85.134572)scale(0.1 -0.1)\">\n       <use xlink:href=\"#DejaVuSans-50\"/>\n       <use x=\"63.623047\" xlink:href=\"#DejaVuSans-48\"/>\n      </g>\n     </g>\n    </g>\n   </g>\n   <g id=\"patch_3\">\n    <path d=\"M 26.925 107.711404 \nL 26.925 9.240815 \n\" style=\"fill:none;stroke:#000000;stroke-linecap:square;stroke-linejoin:miter;stroke-width:0.8;\"/>\n   </g>\n   <g id=\"patch_4\">\n    <path d=\"M 125.395588 107.711404 \nL 125.395588 9.240815 \n\" style=\"fill:none;stroke:#000000;stroke-linecap:square;stroke-linejoin:miter;stroke-width:0.8;\"/>\n   </g>\n   <g id=\"patch_5\">\n    <path d=\"M 26.925 107.711404 \nL 125.395588 107.711404 \n\" style=\"fill:none;stroke:#000000;stroke-linecap:square;stroke-linejoin:miter;stroke-width:0.8;\"/>\n   </g>\n   <g id=\"patch_6\">\n    <path d=\"M 26.925 9.240815 \nL 125.395588 9.240815 \n\" style=\"fill:none;stroke:#000000;stroke-linecap:square;stroke-linejoin:miter;stroke-width:0.8;\"/>\n   </g>\n  </g>\n </g>\n <defs>\n  <clipPath id=\"p2b67c26111\">\n   <rect height=\"98.470588\" width=\"98.470588\" x=\"26.925\" y=\"9.240815\"/>\n  </clipPath>\n </defs>\n</svg>\n",
                        "image/png": "[encoded data removed]"
                    },
                    "metadata": {
                        "needs_background": "light"
                    }
                }
            ],
            "metadata": {}
        },
        {
            "cell_type": "markdown",
            "source": [
                "  #Random note : The good qualities for Activation functions are non linearity and diffirentiability\n",
                "\n",
                "    ReLU - Rectified Liear Activation Function:\n",
                "        - It's fast, non-linear, diffirentiable, NO VANISHING GRADIENT ISSUE\n",
                "        - Can't deal with negative inputs (won't support back propogation), neurons die.\n",
                "\n",
                "    Leaky ReLU - Variation of ReaLU that deals with the dying neurons\n",
                "        - Derivative is not zero, just a very small fraction. So neurons won't stop learning during back propogation\n",
                "    \n",
                "    Sigmoid - Output range b/w 0 and 1\n",
                "        - non-linear, diffirentiable, good for binary classification properties\n",
                "        - VANISHING GRADIENT PROBLEM, Slow computation\n",
                "    \n",
                "    Tanh - Output Range b/w +1 to -1\n",
                "        - non linear and diffirentiable \n",
                "        - can be used to transform outputs to a negative value\n",
                "        - VANISHING GRADIENT ISSUE\n",
                "    \n",
                "    SoftMax - Produce Probability distribution as a vector ranging b/w 0 and 1\n",
                "        - Good for Multiclass classification\n"
            ],
            "metadata": {}
        },
        {
            "cell_type": "code",
            "execution_count": 28,
            "source": [
                "#Creating the Neural Net :  \n",
                "#Selectig the activation function:\n",
                "\n",
                "#To implement a FNN - we require linear and non linear layers\n",
                "class NeuralNet(nn.Module):\n",
                "    def __init__(self, inputSize, hiddenSize, outputSize):\n",
                "\n",
                "        super(NeuralNet, self).__init__()\n",
                "        #The linear function\n",
                "        self.LinFunc1 = nn.Linear(inputSize, hiddenSize)\n",
                "        #The non linear function\n",
                "        self.sigFunc = torch.nn.Sigmoid()\n",
                "        #The Linear readout\n",
                "        self.LinFunc2 = nn.Linear(hiddenSize, outputSize)\n",
                "\n",
                "    def feedForward(self, x):\n",
                "        \n",
                "        #Output from Linear function\n",
                "        output = self.LinFunc1(x)\n",
                "        #Send this output to non linear function\n",
                "        output = self.sigFunc(output)\n",
                "        #To the read out linear layer\n",
                "        output = self.LinFunc2(output)\n",
                "\n",
                "        return output\n",
                "\n",
                "        "
            ],
            "outputs": [],
            "metadata": {}
        },
        {
            "cell_type": "code",
            "execution_count": 29,
            "source": [
                "#Instantiate the model class\n",
                "model = NeuralNet(input_size, hidden_size, output_size)"
            ],
            "outputs": [],
            "metadata": {}
        },
        {
            "cell_type": "markdown",
            "source": [
                "The Loss Function : As a part of training a deep learning model, we require to choose an error function that caan be used to estimate an error value, in order to update the model for reduction of over all errors\n",
                "\n",
                "(Specific to Regression Loss Functions)\n",
                "\n",
                "-> Mean Squared Error Loss (MSE)\n",
                "\n",
                "-> Mean Squared logarithimic loss\n",
                "\n",
                "-> Mean Absolute Error Loss\n",
                "\n",
                "(Specific to Binary Classifications)\n",
                "\n",
                "-> Cross-Entropy\n",
                "\n",
                "-> Hinge Loss\n",
                "\n",
                "-> Squared Hinge Loss\n",
                "\n",
                "(Specific to Multi-Class Classification Loss Functions)\n",
                "\n",
                "-> Multi-Class Cross-Entropy Loss\n",
                "\n",
                "-> Sparse Multiclass Cross-Entropy Loss\n",
                "\n",
                "-> Kullback Leibler Divergence Loss\n"
            ],
            "metadata": {}
        },
        {
            "cell_type": "code",
            "execution_count": 30,
            "source": [
                "#Initializing the Loss Class\n",
                "'''Multiclass classification - going for the CrossEntropyLoss\n",
                "It does 2 things at the same time.\n",
                "1. Computes softmax (logistic/softmax function)\n",
                "2. Computes cross entropy\n",
                "\n",
                "Cross-entropy will calculate a score that summarizes the average difference between the actual and predicted probability distributions for all classes in the problem. The score is minimized and a perfect cross-entropy value is 0.''' \n",
                "\n",
                "lossFunction = nn.CrossEntropyLoss()"
            ],
            "outputs": [],
            "metadata": {}
        },
        {
            "cell_type": "markdown",
            "source": [
                "How do I MANUALLY optimize the weights of my neural network?\n",
                "\n",
                "Stochastic gradient descent optimization algorithm\n",
                "    -> Errors are assigned proportionally based on network weights (backpropogation algorithm)\n"
            ],
            "metadata": {}
        },
        {
            "cell_type": "code",
            "execution_count": 31,
            "source": [
                "#We will stick to the Stochastic Gradient Decent(SGD)\n",
                "#parameters = parameters - learning_rate * parameters_gradients\n",
                "optimizationFunction = torch.optim.SGD(model.parameters(), lr=learning_rate)"
            ],
            "outputs": [],
            "metadata": {}
        },
        {
            "cell_type": "markdown",
            "source": [
                "How does Softmax WORK?\n",
                "\n",
                "    -> Find the dot parameters and Datapoints\n",
                "    -> Exponentiate values to remove negative dot products\n",
                "    -> Normalize it to get the Probability Distribution\n",
                "\n"
            ],
            "metadata": {}
        },
        {
            "cell_type": "markdown",
            "source": [
                "NOTE : Non-linear layers have no parameters to update. They are merely mathematical functions performed on Y, the output of our linear layers."
            ],
            "metadata": {}
        },
        {
            "cell_type": "code",
            "execution_count": 32,
            "source": [
                "print(model.parameters()) #returns generator object, \n",
                "#so we'll need a list\n",
                "print(len(list(model.parameters())))\n",
                "\n",
                "#So we have 4 parameters\n",
                "print(list(model.parameters())[0].size())\n",
                "print(list(model.parameters())[1].size())\n",
                "#LAYER 1: A1 - linear layer parameters\n",
                "#LAYER 2: B1 - linear layer bias parameters\n",
                "#Output of First Linear Function : A1.X1 + B1\n",
                "print(list(model.parameters())[2].size())\n",
                "print(list(model.parameters())[3].size())\n",
                "#LAYER 3: A2 - readout layer parameters\n",
                "#LAYER 4: B2 - readout layer bias parameters\n",
                "#Output of Hidden Layer : A2.X2 + B2"
            ],
            "outputs": [
                {
                    "output_type": "stream",
                    "name": "stdout",
                    "text": [
                        "<generator object Module.parameters at 0x7fd9f43d3e50>\n",
                        "4\n",
                        "torch.Size([100, 784])\n",
                        "torch.Size([100])\n",
                        "torch.Size([10, 100])\n",
                        "torch.Size([10])\n"
                    ]
                }
            ],
            "metadata": {}
        },
        {
            "cell_type": "markdown",
            "source": [
                "Steps involved in Training the Model:\n",
                "\n",
                "    For each Epoch:\n",
                "\n",
                "        For each i in load_trainData:\n",
                "\n",
                "            1) Convert inputs to Tensors capable of gradient accumilation\n",
                "            2) Clear Gradient Buffers\n",
                "            3) Get outputs\n",
                "            4) Get Loss functions\n",
                "            5) Get gradients with respect to parameters\n",
                "            6) Update parameters using gradients\n"
            ],
            "metadata": {}
        },
        {
            "cell_type": "code",
            "execution_count": 33,
            "source": [
                "itter = 0\n",
                "for epoch in range(epochs):\n",
                "    for i, (images, labels) in enumerate(load_trainData):\n",
                "\n",
                "        #Load Image\n",
                "        images = images.view(-1, 28*28).requires_grad_()\n",
                "        labels = labels\n",
                "        #Make image capable of gradient accumilation? -> set required_grad() flag to true\n",
                "        '''\n",
                "        Gradient Accumilation - mechanism to split a batch of samples into mini batches(sequentially executed)\n",
                "        It's a logical split. You basically allow a configured number of calculations to take place without value updation. \n",
                "        The values are finally updated through a gradient that is calculated for each input. \n",
                "        '''\n",
                "\n",
                "        #Clear gradients w.r.t parameters:\n",
                "        optimizationFunction.zero_grad()\n",
                "\n",
                "        #Pass image to model\n",
                "        outputs = model(images)\n",
                "\n",
                "        #Loss Calculation\n",
                "        loss = lossFunction(outputs, labels)\n",
                "\n",
                "        #Get Gradients for each \n",
                "        loss.backward()\n",
                "\n",
                "        #updating parameters\n",
                "        optimizationFunction.step()\n",
                "\n",
                "        iter += 1\n",
                "\n",
                "\n",
                "        #ACCURACY CALCULATION\n",
                "        if iter % 500 == 0:\n",
                "            correct = 0\n",
                "            total = 0\n",
                "\n",
                "        # Iterate through TEST dataset\n",
                "            for testimages, labels in load_testData:\n",
                "\n",
                "                # Load images with gradient accumulation capabilities\n",
                "                testimages = testimages.view(-1, 28*28).requires_grad_()\n",
                "\n",
                "                # Forward pass only to get logits/output\n",
                "                outputs = model(testimages)\n",
                "\n",
                "                # Get predictions from the maximum value\n",
                "                _, predicted = torch.max(outputs.data, 1)\n",
                "\n",
                "                # Total number of labels\n",
                "                total += labels.size(0)\n",
                "\n",
                "                # Total correct predictions\n",
                "                correct += (predicted == labels).sum()\n",
                "\n",
                "            accuracy = 100 * correct / total\n",
                "\n",
                "            # Print Loss\n",
                "            print('Iteration: {}. Loss: {}. Accuracy: {}'.format(iter, loss.item(), accuracy))\n"
            ],
            "outputs": [
                {
                    "output_type": "error",
                    "ename": "NotImplementedError",
                    "evalue": "",
                    "traceback": [
                        "\u001b[0;31m---------------------------------------------------------------------------\u001b[0m",
                        "\u001b[0;31mNotImplementedError\u001b[0m                       Traceback (most recent call last)",
                        "\u001b[0;32m<ipython-input-33-0272888e9fd6>\u001b[0m in \u001b[0;36m<module>\u001b[0;34m\u001b[0m\n\u001b[1;32m     17\u001b[0m \u001b[0;34m\u001b[0m\u001b[0m\n\u001b[1;32m     18\u001b[0m         \u001b[0;31m#Pass image to model\u001b[0m\u001b[0;34m\u001b[0m\u001b[0;34m\u001b[0m\u001b[0;34m\u001b[0m\u001b[0m\n\u001b[0;32m---> 19\u001b[0;31m         \u001b[0moutput\u001b[0m \u001b[0;34m=\u001b[0m \u001b[0mmodel\u001b[0m\u001b[0;34m(\u001b[0m\u001b[0mimages\u001b[0m\u001b[0;34m)\u001b[0m\u001b[0;34m\u001b[0m\u001b[0;34m\u001b[0m\u001b[0m\n\u001b[0m\u001b[1;32m     20\u001b[0m \u001b[0;34m\u001b[0m\u001b[0m\n\u001b[1;32m     21\u001b[0m         \u001b[0;31m#Loss Calculation\u001b[0m\u001b[0;34m\u001b[0m\u001b[0;34m\u001b[0m\u001b[0;34m\u001b[0m\u001b[0m\n",
                        "\u001b[0;32m~/anaconda3/lib/python3.7/site-packages/torch/nn/modules/module.py\u001b[0m in \u001b[0;36m_call_impl\u001b[0;34m(self, *input, **kwargs)\u001b[0m\n\u001b[1;32m   1100\u001b[0m         if not (self._backward_hooks or self._forward_hooks or self._forward_pre_hooks or _global_backward_hooks\n\u001b[1;32m   1101\u001b[0m                 or _global_forward_hooks or _global_forward_pre_hooks):\n\u001b[0;32m-> 1102\u001b[0;31m             \u001b[0;32mreturn\u001b[0m \u001b[0mforward_call\u001b[0m\u001b[0;34m(\u001b[0m\u001b[0;34m*\u001b[0m\u001b[0minput\u001b[0m\u001b[0;34m,\u001b[0m \u001b[0;34m**\u001b[0m\u001b[0mkwargs\u001b[0m\u001b[0;34m)\u001b[0m\u001b[0;34m\u001b[0m\u001b[0;34m\u001b[0m\u001b[0m\n\u001b[0m\u001b[1;32m   1103\u001b[0m         \u001b[0;31m# Do not call functions when jit is used\u001b[0m\u001b[0;34m\u001b[0m\u001b[0;34m\u001b[0m\u001b[0;34m\u001b[0m\u001b[0m\n\u001b[1;32m   1104\u001b[0m         \u001b[0mfull_backward_hooks\u001b[0m\u001b[0;34m,\u001b[0m \u001b[0mnon_full_backward_hooks\u001b[0m \u001b[0;34m=\u001b[0m \u001b[0;34m[\u001b[0m\u001b[0;34m]\u001b[0m\u001b[0;34m,\u001b[0m \u001b[0;34m[\u001b[0m\u001b[0;34m]\u001b[0m\u001b[0;34m\u001b[0m\u001b[0;34m\u001b[0m\u001b[0m\n",
                        "\u001b[0;32m~/anaconda3/lib/python3.7/site-packages/torch/nn/modules/module.py\u001b[0m in \u001b[0;36m_forward_unimplemented\u001b[0;34m(self, *input)\u001b[0m\n\u001b[1;32m    199\u001b[0m         \u001b[0mregistered\u001b[0m \u001b[0mhooks\u001b[0m \u001b[0;32mwhile\u001b[0m \u001b[0mthe\u001b[0m \u001b[0mlatter\u001b[0m \u001b[0msilently\u001b[0m \u001b[0mignores\u001b[0m \u001b[0mthem\u001b[0m\u001b[0;34m.\u001b[0m\u001b[0;34m\u001b[0m\u001b[0;34m\u001b[0m\u001b[0m\n\u001b[1;32m    200\u001b[0m     \"\"\"\n\u001b[0;32m--> 201\u001b[0;31m     \u001b[0;32mraise\u001b[0m \u001b[0mNotImplementedError\u001b[0m\u001b[0;34m\u001b[0m\u001b[0;34m\u001b[0m\u001b[0m\n\u001b[0m\u001b[1;32m    202\u001b[0m \u001b[0;34m\u001b[0m\u001b[0m\n\u001b[1;32m    203\u001b[0m \u001b[0;34m\u001b[0m\u001b[0m\n",
                        "\u001b[0;31mNotImplementedError\u001b[0m: "
                    ]
                }
            ],
            "metadata": {}
        }
    ],
    "metadata": {
        "orig_nbformat": 4,
        "language_info": {
            "name": "python",
            "version": "3.7.6",
            "mimetype": "text/x-python",
            "codemirror_mode": {
                "name": "ipython",
                "version": 3
            },
            "pygments_lexer": "ipython3",
            "nbconvert_exporter": "python",
            "file_extension": ".py"
        },
        "kernelspec": {
            "name": "python3",
            "display_name": "Python 3.7.6 64-bit ('base': conda)"
        },
        "interpreter": {
            "hash": "086be1427ca05b2af312932b7165838409742844383f947360d93b21591334d7"
        }
    },
    "nbformat": 4,
    "nbformat_minor": 2
}