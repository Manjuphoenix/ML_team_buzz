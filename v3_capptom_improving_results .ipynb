{
  "metadata": {
    "kernelspec": {
      "language": "python",
      "display_name": "Python 3",
      "name": "python3"
    },
    "language_info": {
      "name": "python",
      "version": "3.7.12",
      "mimetype": "text/x-python",
      "codemirror_mode": {
        "name": "ipython",
        "version": 3
      },
      "pygments_lexer": "ipython3",
      "nbconvert_exporter": "python",
      "file_extension": ".py"
    },
    "colab": {
      "name": "V1_omato-dataset-improved accuracy.ipynb",
      "provenance": [],
      "machine_shape": "hm",
      "collapsed_sections": [],
      "include_colab_link": true
    },
    "accelerator": "GPU",
    "gpuClass": "premium"
  },
  "nbformat_minor": 0,
  "nbformat": 4,
  "cells": [
    {
      "cell_type": "markdown",
      "metadata": {
        "id": "view-in-github",
        "colab_type": "text"
      },
      "source": [
        "<a href=\"https://colab.research.google.com/github/Manjuphoenix/ML_team_buzz/blob/michelle/%20v3_capptom_improving_results%20.ipynb\" target=\"_parent\"><img src=\"https://colab.research.google.com/assets/colab-badge.svg\" alt=\"Open In Colab\"/></a>"
      ]
    },
    {
      "cell_type": "code",
      "source": [
        "import os\n",
        "import shutil\n",
        "import numpy as np\n",
        "import pandas as pd\n",
        "import matplotlib.pyplot as plt\n",
        "from matplotlib.image import imread\n",
        "from collections import Counter\n",
        "\n",
        "from PIL import Image\n",
        "\n",
        "import torch\n",
        "import torchvision\n",
        "from torch import utils\n",
        "import torch.nn as nn\n",
        "import torch.optim as optim\n",
        "from torch.optim import lr_scheduler\n",
        "from torchvision import datasets, transforms\n",
        "import torchvision.models as models\n",
        "import torch.nn.functional as F\n",
        "from torchvision.datasets import ImageFolder\n",
        "from torch.utils.data import Dataset, DataLoader, random_split, WeightedRandomSampler, ConcatDataset\n",
        "\n",
        "\n",
        "\n",
        "from sklearn.model_selection import train_test_split\n",
        "from tqdm import tqdm\n",
        "\n",
        "\n",
        "torch.cuda.empty_cache()"
      ],
      "metadata": {
        "_uuid": "8f2839f25d086af736a60e9eeb907d3b93b6e0e5",
        "_cell_guid": "b1076dfc-b9ad-4769-8c92-a6c4dae69d19",
        "execution": {
          "iopub.status.busy": "2022-06-08T09:57:22.352057Z",
          "iopub.execute_input": "2022-06-08T09:57:22.352785Z",
          "iopub.status.idle": "2022-06-08T09:57:26.046673Z",
          "shell.execute_reply.started": "2022-06-08T09:57:22.352651Z",
          "shell.execute_reply": "2022-06-08T09:57:26.045582Z"
        },
        "trusted": true,
        "id": "s0YaW2L5ZCAb"
      },
      "execution_count": 1,
      "outputs": []
    },
    {
      "cell_type": "code",
      "source": [
        "from google.colab import drive\n",
        "drive.mount('/content/gdrive')"
      ],
      "metadata": {
        "colab": {
          "base_uri": "https://localhost:8080/"
        },
        "id": "ots8x-sjGSO-",
        "outputId": "fd573425-3796-496b-96a1-64c0bddc2feb"
      },
      "execution_count": 2,
      "outputs": [
        {
          "output_type": "stream",
          "name": "stdout",
          "text": [
            "Mounted at /content/gdrive\n"
          ]
        }
      ]
    },
    {
      "cell_type": "code",
      "source": [
        "#train_x_orig, train_y, test_x_orig, test_y, classes = load_data()\n",
        "\n",
        "!pip install kaggle\n",
        "\n",
        "from google.colab import files \n",
        "files.upload()\n",
        "\n",
        "#Make a directory named kaggle and copy the kaggle.json file there; and change its permissions\n",
        "!mkdir -p ~/.kaggle\n",
        "!cp kaggle.json ~/.kaggle/\n",
        "!chmod 600 ~/.kaggle/kaggle.json\n",
        "\n",
        "#imagenet_data = torchvision.datasets.ImageNet('https://kaggle.com/saroz014/plant-diseases')\n",
        "#data_loader = torch.utils.data.DataLoader(imagenet_data, batch_size=4, shuffle=True, num_workers=args.nThreads)\n"
      ],
      "metadata": {
        "id": "IWG1CPPsbri4",
        "outputId": "d38a0a87-266d-4b0f-8597-d2e0e3c1ce12",
        "colab": {
          "base_uri": "https://localhost:8080/",
          "height": 312
        }
      },
      "execution_count": 3,
      "outputs": [
        {
          "output_type": "stream",
          "name": "stdout",
          "text": [
            "Looking in indexes: https://pypi.org/simple, https://us-python.pkg.dev/colab-wheels/public/simple/\n",
            "Requirement already satisfied: kaggle in /usr/local/lib/python3.7/dist-packages (1.5.12)\n",
            "Requirement already satisfied: python-slugify in /usr/local/lib/python3.7/dist-packages (from kaggle) (6.1.2)\n",
            "Requirement already satisfied: certifi in /usr/local/lib/python3.7/dist-packages (from kaggle) (2022.9.24)\n",
            "Requirement already satisfied: urllib3 in /usr/local/lib/python3.7/dist-packages (from kaggle) (1.24.3)\n",
            "Requirement already satisfied: six>=1.10 in /usr/local/lib/python3.7/dist-packages (from kaggle) (1.15.0)\n",
            "Requirement already satisfied: tqdm in /usr/local/lib/python3.7/dist-packages (from kaggle) (4.64.1)\n",
            "Requirement already satisfied: requests in /usr/local/lib/python3.7/dist-packages (from kaggle) (2.23.0)\n",
            "Requirement already satisfied: python-dateutil in /usr/local/lib/python3.7/dist-packages (from kaggle) (2.8.2)\n",
            "Requirement already satisfied: text-unidecode>=1.3 in /usr/local/lib/python3.7/dist-packages (from python-slugify->kaggle) (1.3)\n",
            "Requirement already satisfied: chardet<4,>=3.0.2 in /usr/local/lib/python3.7/dist-packages (from requests->kaggle) (3.0.4)\n",
            "Requirement already satisfied: idna<3,>=2.5 in /usr/local/lib/python3.7/dist-packages (from requests->kaggle) (2.10)\n"
          ]
        },
        {
          "output_type": "display_data",
          "data": {
            "text/plain": [
              "<IPython.core.display.HTML object>"
            ],
            "text/html": [
              "\n",
              "     <input type=\"file\" id=\"files-d207e46b-e2d8-43d8-b337-067df27851fd\" name=\"files[]\" multiple disabled\n",
              "        style=\"border:none\" />\n",
              "     <output id=\"result-d207e46b-e2d8-43d8-b337-067df27851fd\">\n",
              "      Upload widget is only available when the cell has been executed in the\n",
              "      current browser session. Please rerun this cell to enable.\n",
              "      </output>\n",
              "      <script>// Copyright 2017 Google LLC\n",
              "//\n",
              "// Licensed under the Apache License, Version 2.0 (the \"License\");\n",
              "// you may not use this file except in compliance with the License.\n",
              "// You may obtain a copy of the License at\n",
              "//\n",
              "//      http://www.apache.org/licenses/LICENSE-2.0\n",
              "//\n",
              "// Unless required by applicable law or agreed to in writing, software\n",
              "// distributed under the License is distributed on an \"AS IS\" BASIS,\n",
              "// WITHOUT WARRANTIES OR CONDITIONS OF ANY KIND, either express or implied.\n",
              "// See the License for the specific language governing permissions and\n",
              "// limitations under the License.\n",
              "\n",
              "/**\n",
              " * @fileoverview Helpers for google.colab Python module.\n",
              " */\n",
              "(function(scope) {\n",
              "function span(text, styleAttributes = {}) {\n",
              "  const element = document.createElement('span');\n",
              "  element.textContent = text;\n",
              "  for (const key of Object.keys(styleAttributes)) {\n",
              "    element.style[key] = styleAttributes[key];\n",
              "  }\n",
              "  return element;\n",
              "}\n",
              "\n",
              "// Max number of bytes which will be uploaded at a time.\n",
              "const MAX_PAYLOAD_SIZE = 100 * 1024;\n",
              "\n",
              "function _uploadFiles(inputId, outputId) {\n",
              "  const steps = uploadFilesStep(inputId, outputId);\n",
              "  const outputElement = document.getElementById(outputId);\n",
              "  // Cache steps on the outputElement to make it available for the next call\n",
              "  // to uploadFilesContinue from Python.\n",
              "  outputElement.steps = steps;\n",
              "\n",
              "  return _uploadFilesContinue(outputId);\n",
              "}\n",
              "\n",
              "// This is roughly an async generator (not supported in the browser yet),\n",
              "// where there are multiple asynchronous steps and the Python side is going\n",
              "// to poll for completion of each step.\n",
              "// This uses a Promise to block the python side on completion of each step,\n",
              "// then passes the result of the previous step as the input to the next step.\n",
              "function _uploadFilesContinue(outputId) {\n",
              "  const outputElement = document.getElementById(outputId);\n",
              "  const steps = outputElement.steps;\n",
              "\n",
              "  const next = steps.next(outputElement.lastPromiseValue);\n",
              "  return Promise.resolve(next.value.promise).then((value) => {\n",
              "    // Cache the last promise value to make it available to the next\n",
              "    // step of the generator.\n",
              "    outputElement.lastPromiseValue = value;\n",
              "    return next.value.response;\n",
              "  });\n",
              "}\n",
              "\n",
              "/**\n",
              " * Generator function which is called between each async step of the upload\n",
              " * process.\n",
              " * @param {string} inputId Element ID of the input file picker element.\n",
              " * @param {string} outputId Element ID of the output display.\n",
              " * @return {!Iterable<!Object>} Iterable of next steps.\n",
              " */\n",
              "function* uploadFilesStep(inputId, outputId) {\n",
              "  const inputElement = document.getElementById(inputId);\n",
              "  inputElement.disabled = false;\n",
              "\n",
              "  const outputElement = document.getElementById(outputId);\n",
              "  outputElement.innerHTML = '';\n",
              "\n",
              "  const pickedPromise = new Promise((resolve) => {\n",
              "    inputElement.addEventListener('change', (e) => {\n",
              "      resolve(e.target.files);\n",
              "    });\n",
              "  });\n",
              "\n",
              "  const cancel = document.createElement('button');\n",
              "  inputElement.parentElement.appendChild(cancel);\n",
              "  cancel.textContent = 'Cancel upload';\n",
              "  const cancelPromise = new Promise((resolve) => {\n",
              "    cancel.onclick = () => {\n",
              "      resolve(null);\n",
              "    };\n",
              "  });\n",
              "\n",
              "  // Wait for the user to pick the files.\n",
              "  const files = yield {\n",
              "    promise: Promise.race([pickedPromise, cancelPromise]),\n",
              "    response: {\n",
              "      action: 'starting',\n",
              "    }\n",
              "  };\n",
              "\n",
              "  cancel.remove();\n",
              "\n",
              "  // Disable the input element since further picks are not allowed.\n",
              "  inputElement.disabled = true;\n",
              "\n",
              "  if (!files) {\n",
              "    return {\n",
              "      response: {\n",
              "        action: 'complete',\n",
              "      }\n",
              "    };\n",
              "  }\n",
              "\n",
              "  for (const file of files) {\n",
              "    const li = document.createElement('li');\n",
              "    li.append(span(file.name, {fontWeight: 'bold'}));\n",
              "    li.append(span(\n",
              "        `(${file.type || 'n/a'}) - ${file.size} bytes, ` +\n",
              "        `last modified: ${\n",
              "            file.lastModifiedDate ? file.lastModifiedDate.toLocaleDateString() :\n",
              "                                    'n/a'} - `));\n",
              "    const percent = span('0% done');\n",
              "    li.appendChild(percent);\n",
              "\n",
              "    outputElement.appendChild(li);\n",
              "\n",
              "    const fileDataPromise = new Promise((resolve) => {\n",
              "      const reader = new FileReader();\n",
              "      reader.onload = (e) => {\n",
              "        resolve(e.target.result);\n",
              "      };\n",
              "      reader.readAsArrayBuffer(file);\n",
              "    });\n",
              "    // Wait for the data to be ready.\n",
              "    let fileData = yield {\n",
              "      promise: fileDataPromise,\n",
              "      response: {\n",
              "        action: 'continue',\n",
              "      }\n",
              "    };\n",
              "\n",
              "    // Use a chunked sending to avoid message size limits. See b/62115660.\n",
              "    let position = 0;\n",
              "    do {\n",
              "      const length = Math.min(fileData.byteLength - position, MAX_PAYLOAD_SIZE);\n",
              "      const chunk = new Uint8Array(fileData, position, length);\n",
              "      position += length;\n",
              "\n",
              "      const base64 = btoa(String.fromCharCode.apply(null, chunk));\n",
              "      yield {\n",
              "        response: {\n",
              "          action: 'append',\n",
              "          file: file.name,\n",
              "          data: base64,\n",
              "        },\n",
              "      };\n",
              "\n",
              "      let percentDone = fileData.byteLength === 0 ?\n",
              "          100 :\n",
              "          Math.round((position / fileData.byteLength) * 100);\n",
              "      percent.textContent = `${percentDone}% done`;\n",
              "\n",
              "    } while (position < fileData.byteLength);\n",
              "  }\n",
              "\n",
              "  // All done.\n",
              "  yield {\n",
              "    response: {\n",
              "      action: 'complete',\n",
              "    }\n",
              "  };\n",
              "}\n",
              "\n",
              "scope.google = scope.google || {};\n",
              "scope.google.colab = scope.google.colab || {};\n",
              "scope.google.colab._files = {\n",
              "  _uploadFiles,\n",
              "  _uploadFilesContinue,\n",
              "};\n",
              "})(self);\n",
              "</script> "
            ]
          },
          "metadata": {}
        },
        {
          "output_type": "stream",
          "name": "stdout",
          "text": [
            "Saving kaggle.json to kaggle.json\n"
          ]
        }
      ]
    },
    {
      "cell_type": "code",
      "source": [
        "!kaggle datasets download -d manjuphoenix/tomatodataset\n",
        "!kaggle datasets download -d manjuphoenix/appledataset\n",
        "!kaggle datasets download -d manjuphoenix/cherrydataset",
      ],
      "metadata": {
        "id": "wie11ExiccN4",
        "outputId": "f0f23198-f8ca-4c79-8c72-513e5d66d92d",
        "colab": {
          "base_uri": "https://localhost:8080/"
        }
      },
      "execution_count": 4,
      "outputs": [
        {
          "output_type": "stream",
          "name": "stdout",
          "text": [
            "Downloading tomatodataset.zip to /content\n",
            "100% 923M/923M [00:03<00:00, 283MB/s]\n",
            "100% 923M/923M [00:03<00:00, 253MB/s]\n",
            "Downloading appledataset.zip to /content\n",
            " 93% 311M/333M [00:01<00:00, 279MB/s]\n",
            "100% 333M/333M [00:01<00:00, 259MB/s]\n",
            "Downloading cherrydataset.zip to /content\n",
            " 86% 84.0M/98.0M [00:00<00:00, 174MB/s]\n",
            "100% 98.0M/98.0M [00:00<00:00, 150MB/s]\n"
          ]
        }
      ]
    },
    {
      "cell_type": "code",
      "source": [
        "from zipfile import ZipFile\n",
        "file_name = 'tomatodataset.zip' #the file is your dataset exact name\n",
        "with ZipFile(file_name, 'r') as zip:\n",
        "  #zip.printdir()\n",
        "  print(zip.extractall())\n",
        "  #zip.close()\n",
        "  print('Done')"
      ],
      "metadata": {
        "id": "9x_Q6_vxbtl_",
        "outputId": "bd7c451b-324a-4628-b84a-494d1848bfb7",
        "colab": {
          "base_uri": "https://localhost:8080/"
        }
      },
      "execution_count": 5,
      "outputs": [
        {
          "output_type": "stream",
          "name": "stdout",
          "text": [
            "None\n",
            "Done\n"
          ]
        }
      ]
    },
    {
      "cell_type": "code",
      "source": [
        "from zipfile import ZipFile\n",
        "file_name = 'appledataset.zip' #the file is your dataset exact name\n",
        "with ZipFile(file_name, 'r') as zip:\n",
        "  #zip.printdir()\n",
        "  print(zip.extractall())\n",
        "  #zip.close()\n",
        "  print('Done')"
      ],
      "metadata": {
        "colab": {
          "base_uri": "https://localhost:8080/"
        },
        "id": "S62fGiquR5Sd",
        "outputId": "53519d04-49b3-44e4-c48c-5588da27e09f"
      },
      "execution_count": 6,
      "outputs": [
        {
          "output_type": "stream",
          "name": "stdout",
          "text": [
            "None\n",
            "Done\n"
          ]
        }
      ]
    },
    {
      "cell_type": "code",
      "source": [
        "from zipfile import ZipFile\n",
        "file_name = 'cherrydataset.zip' #the file is your dataset exact name\n",
        "with ZipFile(file_name, 'r') as zip:\n",
        "  #zip.printdir()\n",
        "  print(zip.extractall())\n",
        "  #zip.close()\n",
        "  print('Done')"
      ],
      "metadata": {
        "id": "8yftwoii0fM0",
        "outputId": "79650c0e-eec8-4667-a042-6398e41ebf46",
        "colab": {
          "base_uri": "https://localhost:8080/"
        }
      },
      "execution_count": 7,
      "outputs": [
        {
          "output_type": "stream",
          "name": "stdout",
          "text": [
            "None\n",
            "Done\n"
          ]
        }
      ]
    },
    {
      "cell_type": "code",
      "source": [
        "!mkdir /content/dataset\n",
        "!sudo cp -rf /content/Apple/* /content/dataset\n",
        "!sudo cp -rf /content/Tomato/* /content/dataset\n",
        "!sudo cp -rf /content/cherry/* /content/dataset"
      ],
      "metadata": {
        "id": "dUzr5DzcNzYC"
      },
      "execution_count": 10,
      "outputs": []
    },
    {
      "cell_type": "code",
      "source": [
        "transform = transforms.Compose([\n",
        "    transforms.ToTensor(),\n",
        "    transforms.RandomGrayscale(),\n",
        "    transforms.RandomHorizontalFlip(),\n",
        "    transforms.RandomRotation(30),\n",
        "])\n",
        "\n",
        "\n",
        "device = torch.device(\"cuda:0\" if torch.cuda.is_available() else \"cpu\")\n",
        "print(device)\n",
        "# Uncomment the below line based on where you train the model----------------------------------------\n",
        "# !mkdir /kaggle/working/Tomato\n",
        "\n",
        "# device = torch.device(\"cuda:0\" if torch.cuda.is_available() else \"cpu\")\n",
        "\n",
        "# !cp -r /kaggle/input/plant-diseases/dataset_itr2/dataset_itr2/test/Tomato* /kaggle/working/Tomato\n",
        "# !cp -r /kaggle/input/plant-diseases/dataset_itr2/dataset_itr2/train/Tomato* /kaggle/working/Tomato\n",
        "\n",
        "# !rm -rf /kaggle/working/Tomato/Tomato___Leaf_Mold\n",
        "# !rm -rf /kaggle/working/Tomato/Tomato___Tomato_mosaic_virus \n",
        "\n",
        "# Uncomment this for training on kaggle\n",
        "# data = datasets.ImageFolder('/kaggle/working/Tomato', transform=transform)----------------------------\n",
        "\n",
        "\n",
        "# This is for training on Local Machine\n",
        "data = datasets.ImageFolder('/content/dataset', transform=transform)\n",
        "\n",
        "\n",
        "# Split into train/test sets:\n",
        "train_len = int(len(data)*0.7)\n",
        "train_set, test_set = random_split(data, [train_len, len(data) - train_len])\n",
        "\n",
        "# Extract classes:\n",
        "train_classes = [train_set.dataset.targets[i] for i in train_set.indices]\n",
        "# Calculate support:\n",
        "class_count = Counter(train_classes)\n",
        "# Calculate class weights:\n",
        "class_weights = torch.DoubleTensor([len(train_classes)/c for c in pd.Series(class_count).sort_index().values]) \n",
        "# Sampler needs the respective class weight supplied for each image in the dataset:\n",
        "sample_weights = [class_weights[train_set.dataset.targets[i]] for i in train_set.indices]\n",
        "\n",
        "sampler = WeightedRandomSampler(weights=sample_weights, num_samples=int(len(train_set)*2), replacement=True)\n",
        "\n",
        "batch_size=32\n",
        "\n",
        "# Create torch dataloaders:\n",
        "\n",
        "dataloaders = DataLoader(data, batch_size=batch_size, sampler=sampler, num_workers=min([os.cpu_count(), batch_size if batch_size > 1 else 0, 8]))\n",
        "print(\"The total number of images is:\", len(dataloaders))\n",
        "\n",
        "train_loader = DataLoader(train_set, batch_size=batch_size, sampler=sampler, num_workers=min([os.cpu_count(), batch_size if batch_size > 1 else 0, 8]))\n",
        "print(\"The number of images in a training set is:\", len(train_loader)*batch_size)\n",
        "\n",
        "val_loader = DataLoader(test_set, batch_size=batch_size, shuffle=False, num_workers=min([os.cpu_count(), batch_size if batch_size > 1 else 0, 8]))\n",
        "print(\"The number of images in a test set is:\", len(val_loader)*batch_size)\n",
        "print(dataloaders.dataset)\n",
        "\n",
        "print(data.classes)\n",
        "# x, y = next(iter(dataloaders[0]))"
      ],
      "metadata": {
        "id": "jW4Qom0WbtUq",
        "outputId": "73397f46-998b-4d57-c404-377ec9e01c3b",
        "colab": {
          "base_uri": "https://localhost:8080/"
        }
      },
      "execution_count": 11,
      "outputs": [
        {
          "output_type": "stream",
          "name": "stdout",
          "text": [
            "cuda:0\n",
            "The total number of images is: 4326\n",
            "The number of images in a training set is: 138432\n",
            "The number of images in a test set is: 29664\n",
            "Dataset ImageFolder\n",
            "    Number of datapoints: 98880\n",
            "    Root location: /content/dataset\n",
            "    StandardTransform\n",
            "Transform: Compose(\n",
            "               ToTensor()\n",
            "               RandomGrayscale(p=0.1)\n",
            "               RandomHorizontalFlip(p=0.5)\n",
            "               RandomRotation(degrees=[-30.0, 30.0], interpolation=nearest, expand=False, fill=0)\n",
            "           )\n",
            "['Apple___healthy', 'Apple_scab', 'Black_rot', 'Cedar_apple_rust', 'Cherry__Powdery_mildew', 'Cherry__healthy', 'Tomato_Target_spot', 'Tomato__Late_blight', 'Tomato__Septoria_leaf_spot', 'Tomato__Spider_mites', 'Tomato___Bacterial_spot', 'Tomato___Tomato_Yellow_Leaf_Curl_Virus', 'Tomato__early_blight', 'Tomato__healthy']\n"
          ]
        }
      ]
    },
    {
      "cell_type": "code",
      "source": [
        "import torch\n",
        "from torchvision.transforms import transforms\n",
        "from PIL import Image\n",
        "from pathlib import Path\n",
        "\n",
        "\n",
        "# # To get the weights from the .pth file!\n",
        "class NeuralNetwork(nn.Module):\n",
        "    def __init__(self):\n",
        "        super(NeuralNetwork, self).__init__()\n",
        "        self.cnn = nn.Conv2d(in_channels=3, out_channels=16, kernel_size=5, stride=1, padding=2)\n",
        "        self.relu = nn.LeakyReLU()\n",
        "        self.maxpool = nn.MaxPool2d(kernel_size=2)\n",
        "        self.cnn2 = nn.Conv2d(in_channels=16, out_channels=32, kernel_size=3, stride=1, padding=2)\n",
        "        self.relu2 = nn.LeakyReLU()\n",
        "        self.maxpool2 = nn.MaxPool2d(kernel_size=2)\n",
        "        self.fc1 = nn.Linear(32*65*65, 1000)\n",
        "        self.fc2 = nn.Linear(1000, 12)\n",
        "        \n",
        "        \n",
        "    def forward(self, x):\n",
        "        out = self.cnn(x)\n",
        "        out = self.relu(out)\n",
        "        out = self.maxpool(out)\n",
        "        out = self.cnn2(out)\n",
        "        out = self.relu2(out)\n",
        "        out = self.maxpool2(out)\n",
        "        out = out.view(out.size(0), -1)\n",
        "        out = self.fc1(out)\n",
        "        out = self.fc2(out)\n",
        "        return out\n",
        "\n",
        "model = NeuralNetwork()\n",
        "checkpoint = torch.load(Path('/content/gdrive/MyDrive/v2_apptom.pk1'))\n",
        "model.load_state_dict(checkpoint)\n",
        "\n",
        "# # Preprocess any image before passing it to the model\n",
        "# test_transform = transforms.Compose([\n",
        "#     transforms.ToTensor(),\n",
        "#     transforms.CenterCrop(256),\n",
        "#     transforms.RandomGrayscale(),\n",
        "#     transforms.RandomHorizontalFlip(),\n",
        "#     transforms.RandomInvert(),\n",
        "#     transforms.RandomRotation(30),\n",
        "# ])\n",
        "\n",
        "\n",
        "# image = Image.open(Path('/content/gdrive/MyDrive/Tomato_dataset/tHealthy.JPG'))\n",
        "\n",
        "# input = test_transform(image)\n",
        "\n",
        "# input = input.view(1, 3, 256,256)\n",
        "\n",
        "model = model.to(device)\n",
        "\n",
        "# output = model(input)\n",
        "# print(output)\n",
        "\n",
        "# prediction = int(torch.max(output.data, 1)[1].numpy())\n",
        "# print(prediction)\n",
        "\n",
        "# if (prediction == 0):\n",
        "#     print ('Bacterial_spot')\n",
        "# if (prediction == 1):\n",
        "#     print ('Early_blight')\n",
        "# if (prediction == 2):\n",
        "#     print ('Late_blight')\n",
        "# if (prediction == 3):\n",
        "#     print ('Septoria_leaf_spot')\n",
        "# if (prediction == 4):\n",
        "#     print ('Two-spotted_spider_mite')\n",
        "# if (prediction == 5):\n",
        "#     print ('Target_Spot')\n",
        "# if (prediction == 6):\n",
        "#     print ('Tomato_Yellow_Leaf_Curl_Virus')\n",
        "# if (prediction == 7):\n",
        "#     print ('Tomato___healthy')"
      ],
      "metadata": {
        "id": "l-CLNyip8vsJ"
      },
      "execution_count": 12,
      "outputs": []
    },
    {
      "cell_type": "code",
      "source": [
        "model.eval()"
      ],
      "metadata": {
        "colab": {
          "base_uri": "https://localhost:8080/"
        },
        "id": "jP45lmmNJyjI",
        "outputId": "79c3db01-32f1-42ef-e6e8-6c9e73bea928"
      },
      "execution_count": null,
      "outputs": [
        {
          "output_type": "execute_result",
          "data": {
            "text/plain": [
              "NeuralNetwork(\n",
              "  (cnn): Conv2d(3, 16, kernel_size=(5, 5), stride=(1, 1), padding=(2, 2))\n",
              "  (relu): LeakyReLU(negative_slope=0.01)\n",
              "  (maxpool): MaxPool2d(kernel_size=2, stride=2, padding=0, dilation=1, ceil_mode=False)\n",
              "  (cnn2): Conv2d(16, 32, kernel_size=(3, 3), stride=(1, 1), padding=(2, 2))\n",
              "  (relu2): LeakyReLU(negative_slope=0.01)\n",
              "  (maxpool2): MaxPool2d(kernel_size=2, stride=2, padding=0, dilation=1, ceil_mode=False)\n",
              "  (fc1): Linear(in_features=135200, out_features=1000, bias=True)\n",
              "  (fc2): Linear(in_features=1000, out_features=8, bias=True)\n",
              ")"
            ]
          },
          "metadata": {},
          "execution_count": 20
        }
      ]
    },
    {
      "cell_type": "code",
      "source": [
        "model.fc2 = nn.Linear(1000,14)"
      ],
      "metadata": {
        "id": "26Rge8S-JyeB"
      },
      "execution_count": 13,
      "outputs": []
    },
    {
      "cell_type": "code",
      "source": [
        "def train(model,loss_fn,dataloader,optimizer,epoch):\n",
        "  print('\\nEpoch : %d'%epoch)\n",
        "  \n",
        "  total_loss=0    \n",
        "  correct=0\n",
        "  total=0\n",
        "\n",
        "  model.train()\n",
        "\n",
        "  for data in tqdm(dataloader):\n",
        "    \n",
        "    inputs,labels=data[0].to(device),data[1].to(device)\n",
        "    \n",
        "    outputs=model(inputs)\n",
        "    \n",
        "    loss=loss_fn(outputs,labels)\n",
        "    \n",
        "    optimizer.zero_grad()\n",
        "    loss.backward()\n",
        "    optimizer.step()\n",
        "\n",
        "    total_loss += loss.item()\n",
        "    \n",
        "    _, predicted = outputs.max(1)\n",
        "    total += labels.size(0)\n",
        "    correct += predicted.eq(labels).sum().item()\n",
        "      \n",
        "  loss=total_loss/len(dataloader)\n",
        "  accuracy=100.*correct/total\n",
        "  \n",
        "  if accuracy >= 95.:\n",
        "    print('Model trained to 95% accuracy!')\n",
        "  else:\n",
        "    accuracies['train'].append(accuracy)\n",
        "    losses['train'].append(loss)\n",
        "    print('Train Loss: %.3f | Accuracy: %.3f'%(loss,accuracy))"
      ],
      "metadata": {
        "id": "EJ-7d967Q5Jh"
      },
      "execution_count": 14,
      "outputs": []
    },
    {
      "cell_type": "code",
      "source": [
        "def test(model,loss_fn,dataloader,epoch):\n",
        "#   model.eval()\n",
        "\n",
        "  total_loss=0\n",
        "  correct=0\n",
        "  total=0\n",
        "\n",
        "  with torch.no_grad():\n",
        "    for data in tqdm(dataloader):\n",
        "      images,labels=data[0].to(device),data[1].to(device)\n",
        "      \n",
        "      outputs=model(images)\n",
        "\n",
        "      loss= loss_fn(outputs,labels)\n",
        "      total_loss+=loss.item()\n",
        "      \n",
        "      _, predicted = outputs.max(1)\n",
        "      total += labels.size(0)\n",
        "      correct += predicted.eq(labels).sum().item()\n",
        "  \n",
        "  loss=total_loss/len(dataloader)\n",
        "  accuracy=100.*correct/total\n",
        "\n",
        "  losses['val'].append(loss)\n",
        "  accuracies['val'].append(accuracy)\n",
        "\n",
        "  print('Test Loss: %.3f | Accuracy: %.3f'%(loss,accuracy)) "
      ],
      "metadata": {
        "id": "2wSIhE8QRreb"
      },
      "execution_count": 15,
      "outputs": []
    },
    {
      "cell_type": "code",
      "source": [
        "model = model.to(device)\n",
        "\n",
        "loss_fn = nn.CrossEntropyLoss()\n",
        "\n",
        "optimizer_ft = torch.optim.SGD(model.parameters(), lr=0.0003, weight_decay=1e-5, momentum=0.6)"
      ],
      "metadata": {
        "id": "12D9eq_5RrTO"
      },
      "execution_count": 16,
      "outputs": []
    },
    {
      "cell_type": "code",
      "source": [
        "losses = {'train':[], 'val':[]}\n",
        "accuracies = {'train':[], 'val':[]}\n",
        "epochs=20\n",
        "for epoch in range(1,int(epochs)):\n",
        "  train(model,loss_fn,train_loader,optimizer_ft,epoch)\n",
        "  test(model,loss_fn,val_loader,epoch)\n",
        "  "
      ],
      "metadata": {
        "colab": {
          "base_uri": "https://localhost:8080/"
        },
        "id": "_xUNuDUYQ5GE",
        "outputId": "3cc9920b-84fb-42d1-d5fe-4742a2179e16"
      },
      "execution_count": 17,
      "outputs": [
        {
          "metadata": {
            "tags": null
          },
          "name": "stdout",
          "output_type": "stream",
          "text": [
            "\n",
            "Epoch : 1\n"
          ]
        },
        {
          "metadata": {
            "tags": null
          },
          "name": "stderr",
          "output_type": "stream",
          "text": [
            "100%|██████████| 4326/4326 [03:14<00:00, 22.29it/s]\n"
          ]
        },
        {
          "metadata": {
            "tags": null
          },
          "name": "stdout",
          "output_type": "stream",
          "text": [
            "Train Loss: 0.793 | Accuracy: 74.725\n"
          ]
        },
        {
          "metadata": {
            "tags": null
          },
          "name": "stderr",
          "output_type": "stream",
          "text": [
            "100%|██████████| 927/927 [00:33<00:00, 27.69it/s]\n"
          ]
        },
        {
          "metadata": {
            "tags": null
          },
          "name": "stdout",
          "output_type": "stream",
          "text": [
            "Test Loss: 0.675 | Accuracy: 77.346\n",
            "\n",
            "Epoch : 2\n"
          ]
        },
        {
          "metadata": {
            "tags": null
          },
          "name": "stderr",
          "output_type": "stream",
          "text": [
            "100%|██████████| 4326/4326 [02:35<00:00, 27.88it/s]\n"
          ]
        },
        {
          "metadata": {
            "tags": null
          },
          "name": "stdout",
          "output_type": "stream",
          "text": [
            "Train Loss: 0.600 | Accuracy: 80.163\n"
          ]
        },
        {
          "metadata": {
            "tags": null
          },
          "name": "stderr",
          "output_type": "stream",
          "text": [
            "100%|██████████| 927/927 [00:33<00:00, 28.03it/s]\n"
          ]
        },
        {
          "metadata": {
            "tags": null
          },
          "name": "stdout",
          "output_type": "stream",
          "text": [
            "Test Loss: 0.583 | Accuracy: 80.701\n",
            "\n",
            "Epoch : 3\n"
          ]
        },
        {
          "metadata": {
            "tags": null
          },
          "name": "stderr",
          "output_type": "stream",
          "text": [
            "100%|██████████| 4326/4326 [02:36<00:00, 27.56it/s]\n"
          ]
        },
        {
          "metadata": {
            "tags": null
          },
          "name": "stdout",
          "output_type": "stream",
          "text": [
            "Train Loss: 0.559 | Accuracy: 81.351\n"
          ]
        },
        {
          "metadata": {
            "tags": null
          },
          "name": "stderr",
          "output_type": "stream",
          "text": [
            "100%|██████████| 927/927 [00:33<00:00, 27.68it/s]\n"
          ]
        },
        {
          "metadata": {
            "tags": null
          },
          "name": "stdout",
          "output_type": "stream",
          "text": [
            "Test Loss: 0.555 | Accuracy: 81.355\n",
            "\n",
            "Epoch : 4\n"
          ]
        },
        {
          "metadata": {
            "tags": null
          },
          "name": "stderr",
          "output_type": "stream",
          "text": [
            "100%|██████████| 4326/4326 [02:37<00:00, 27.46it/s]\n"
          ]
        },
        {
          "metadata": {
            "tags": null
          },
          "name": "stdout",
          "output_type": "stream",
          "text": [
            "Train Loss: 0.538 | Accuracy: 82.028\n"
          ]
        },
        {
          "metadata": {
            "tags": null
          },
          "name": "stderr",
          "output_type": "stream",
          "text": [
            "100%|██████████| 927/927 [00:33<00:00, 27.75it/s]\n"
          ]
        },
        {
          "metadata": {
            "tags": null
          },
          "name": "stdout",
          "output_type": "stream",
          "text": [
            "Test Loss: 0.541 | Accuracy: 81.499\n",
            "\n",
            "Epoch : 5\n"
          ]
        },
        {
          "metadata": {
            "tags": null
          },
          "name": "stderr",
          "output_type": "stream",
          "text": [
            "100%|██████████| 4326/4326 [02:37<00:00, 27.40it/s]\n"
          ]
        },
        {
          "metadata": {
            "tags": null
          },
          "name": "stdout",
          "output_type": "stream",
          "text": [
            "Train Loss: 0.516 | Accuracy: 82.804\n"
          ]
        },
        {
          "metadata": {
            "tags": null
          },
          "name": "stderr",
          "output_type": "stream",
          "text": [
            "100%|██████████| 927/927 [00:34<00:00, 27.20it/s]\n"
          ]
        },
        {
          "metadata": {
            "tags": null
          },
          "name": "stdout",
          "output_type": "stream",
          "text": [
            "Test Loss: 0.540 | Accuracy: 82.012\n",
            "\n",
            "Epoch : 6\n"
          ]
        },
        {
          "metadata": {
            "tags": null
          },
          "name": "stderr",
          "output_type": "stream",
          "text": [
            "100%|██████████| 4326/4326 [02:37<00:00, 27.50it/s]\n"
          ]
        },
        {
          "metadata": {
            "tags": null
          },
          "name": "stdout",
          "output_type": "stream",
          "text": [
            "Train Loss: 0.499 | Accuracy: 83.221\n"
          ]
        },
        {
          "metadata": {
            "tags": null
          },
          "name": "stderr",
          "output_type": "stream",
          "text": [
            "100%|██████████| 927/927 [00:34<00:00, 27.21it/s]\n"
          ]
        },
        {
          "metadata": {
            "tags": null
          },
          "name": "stdout",
          "output_type": "stream",
          "text": [
            "Test Loss: 0.532 | Accuracy: 81.621\n",
            "\n",
            "Epoch : 7\n"
          ]
        },
        {
          "metadata": {
            "tags": null
          },
          "name": "stderr",
          "output_type": "stream",
          "text": [
            "100%|██████████| 4326/4326 [02:37<00:00, 27.52it/s]\n"
          ]
        },
        {
          "metadata": {
            "tags": null
          },
          "name": "stdout",
          "output_type": "stream",
          "text": [
            "Train Loss: 0.486 | Accuracy: 83.762\n"
          ]
        },
        {
          "metadata": {
            "tags": null
          },
          "name": "stderr",
          "output_type": "stream",
          "text": [
            "100%|██████████| 927/927 [00:33<00:00, 27.86it/s]\n"
          ]
        },
        {
          "metadata": {
            "tags": null
          },
          "name": "stdout",
          "output_type": "stream",
          "text": [
            "Test Loss: 0.529 | Accuracy: 81.725\n",
            "\n",
            "Epoch : 8\n"
          ]
        },
        {
          "metadata": {
            "tags": null
          },
          "name": "stderr",
          "output_type": "stream",
          "text": [
            "100%|██████████| 4326/4326 [02:37<00:00, 27.43it/s]\n"
          ]
        },
        {
          "metadata": {
            "tags": null
          },
          "name": "stdout",
          "output_type": "stream",
          "text": [
            "Train Loss: 0.465 | Accuracy: 84.388\n"
          ]
        },
        {
          "metadata": {
            "tags": null
          },
          "name": "stderr",
          "output_type": "stream",
          "text": [
            "100%|██████████| 927/927 [00:33<00:00, 27.92it/s]\n"
          ]
        },
        {
          "metadata": {
            "tags": null
          },
          "name": "stdout",
          "output_type": "stream",
          "text": [
            "Test Loss: 0.497 | Accuracy: 83.431\n",
            "\n",
            "Epoch : 9\n"
          ]
        },
        {
          "metadata": {
            "tags": null
          },
          "name": "stderr",
          "output_type": "stream",
          "text": [
            "100%|██████████| 4326/4326 [02:36<00:00, 27.70it/s]\n"
          ]
        },
        {
          "metadata": {
            "tags": null
          },
          "name": "stdout",
          "output_type": "stream",
          "text": [
            "Train Loss: 0.461 | Accuracy: 84.499\n"
          ]
        },
        {
          "metadata": {
            "tags": null
          },
          "name": "stderr",
          "output_type": "stream",
          "text": [
            "100%|██████████| 927/927 [00:33<00:00, 27.71it/s]\n"
          ]
        },
        {
          "metadata": {
            "tags": null
          },
          "name": "stdout",
          "output_type": "stream",
          "text": [
            "Test Loss: 0.500 | Accuracy: 82.501\n",
            "\n",
            "Epoch : 10\n"
          ]
        },
        {
          "metadata": {
            "tags": null
          },
          "name": "stderr",
          "output_type": "stream",
          "text": [
            "100%|██████████| 4326/4326 [02:37<00:00, 27.46it/s]\n"
          ]
        },
        {
          "metadata": {
            "tags": null
          },
          "name": "stdout",
          "output_type": "stream",
          "text": [
            "Train Loss: 0.449 | Accuracy: 84.885\n"
          ]
        },
        {
          "metadata": {
            "tags": null
          },
          "name": "stderr",
          "output_type": "stream",
          "text": [
            "100%|██████████| 927/927 [00:33<00:00, 27.95it/s]\n"
          ]
        },
        {
          "metadata": {
            "tags": null
          },
          "name": "stdout",
          "output_type": "stream",
          "text": [
            "Test Loss: 0.546 | Accuracy: 81.361\n",
            "\n",
            "Epoch : 11\n"
          ]
        },
        {
          "metadata": {
            "tags": null
          },
          "name": "stderr",
          "output_type": "stream",
          "text": [
            "100%|██████████| 4326/4326 [02:37<00:00, 27.55it/s]\n"
          ]
        },
        {
          "metadata": {
            "tags": null
          },
          "name": "stdout",
          "output_type": "stream",
          "text": [
            "Train Loss: 0.441 | Accuracy: 85.063\n"
          ]
        },
        {
          "metadata": {
            "tags": null
          },
          "name": "stderr",
          "output_type": "stream",
          "text": [
            "100%|██████████| 927/927 [00:33<00:00, 27.54it/s]\n"
          ]
        },
        {
          "metadata": {
            "tags": null
          },
          "name": "stdout",
          "output_type": "stream",
          "text": [
            "Test Loss: 0.477 | Accuracy: 83.630\n",
            "\n",
            "Epoch : 12\n"
          ]
        },
        {
          "metadata": {
            "tags": null
          },
          "name": "stderr",
          "output_type": "stream",
          "text": [
            "100%|██████████| 4326/4326 [02:37<00:00, 27.50it/s]\n"
          ]
        },
        {
          "metadata": {
            "tags": null
          },
          "name": "stdout",
          "output_type": "stream",
          "text": [
            "Train Loss: 0.432 | Accuracy: 85.455\n"
          ]
        },
        {
          "metadata": {
            "tags": null
          },
          "name": "stderr",
          "output_type": "stream",
          "text": [
            "100%|██████████| 927/927 [00:33<00:00, 27.73it/s]\n"
          ]
        },
        {
          "metadata": {
            "tags": null
          },
          "name": "stdout",
          "output_type": "stream",
          "text": [
            "Test Loss: 0.448 | Accuracy: 85.049\n",
            "\n",
            "Epoch : 13\n"
          ]
        },
        {
          "metadata": {
            "tags": null
          },
          "name": "stderr",
          "output_type": "stream",
          "text": [
            "100%|██████████| 4326/4326 [02:37<00:00, 27.49it/s]\n"
          ]
        },
        {
          "metadata": {
            "tags": null
          },
          "name": "stdout",
          "output_type": "stream",
          "text": [
            "Train Loss: 0.421 | Accuracy: 85.761\n"
          ]
        },
        {
          "metadata": {
            "tags": null
          },
          "name": "stderr",
          "output_type": "stream",
          "text": [
            "100%|██████████| 927/927 [00:33<00:00, 27.81it/s]\n"
          ]
        },
        {
          "metadata": {
            "tags": null
          },
          "name": "stdout",
          "output_type": "stream",
          "text": [
            "Test Loss: 0.454 | Accuracy: 84.567\n",
            "\n",
            "Epoch : 14\n"
          ]
        },
        {
          "metadata": {
            "tags": null
          },
          "name": "stderr",
          "output_type": "stream",
          "text": [
            "100%|██████████| 4326/4326 [02:38<00:00, 27.36it/s]\n"
          ]
        },
        {
          "metadata": {
            "tags": null
          },
          "name": "stdout",
          "output_type": "stream",
          "text": [
            "Train Loss: 0.411 | Accuracy: 86.056\n"
          ]
        },
        {
          "metadata": {
            "tags": null
          },
          "name": "stderr",
          "output_type": "stream",
          "text": [
            "100%|██████████| 927/927 [00:33<00:00, 27.88it/s]\n"
          ]
        },
        {
          "metadata": {
            "tags": null
          },
          "name": "stdout",
          "output_type": "stream",
          "text": [
            "Test Loss: 0.445 | Accuracy: 84.675\n",
            "\n",
            "Epoch : 15\n"
          ]
        },
        {
          "metadata": {
            "tags": null
          },
          "name": "stderr",
          "output_type": "stream",
          "text": [
            "100%|██████████| 4326/4326 [02:36<00:00, 27.56it/s]\n"
          ]
        },
        {
          "metadata": {
            "tags": null
          },
          "name": "stdout",
          "output_type": "stream",
          "text": [
            "Train Loss: 0.410 | Accuracy: 86.149\n"
          ]
        },
        {
          "metadata": {
            "tags": null
          },
          "name": "stderr",
          "output_type": "stream",
          "text": [
            "100%|██████████| 927/927 [00:33<00:00, 28.01it/s]\n"
          ]
        },
        {
          "metadata": {
            "tags": null
          },
          "name": "stdout",
          "output_type": "stream",
          "text": [
            "Test Loss: 0.466 | Accuracy: 83.886\n",
            "\n",
            "Epoch : 16\n"
          ]
        },
        {
          "output_type": "stream",
          "name": "stderr",
          "text": [
            "100%|██████████| 4326/4326 [02:36<00:00, 27.56it/s]\n"
          ]
        },
        {
          "output_type": "stream",
          "name": "stdout",
          "text": [
            "Train Loss: 0.398 | Accuracy: 86.591\n"
          ]
        },
        {
          "output_type": "stream",
          "name": "stderr",
          "text": [
            "100%|██████████| 927/927 [00:33<00:00, 27.69it/s]\n"
          ]
        },
        {
          "output_type": "stream",
          "name": "stdout",
          "text": [
            "Test Loss: 0.447 | Accuracy: 84.732\n",
            "\n",
            "Epoch : 17\n"
          ]
        },
        {
          "output_type": "stream",
          "name": "stderr",
          "text": [
            "100%|██████████| 4326/4326 [02:37<00:00, 27.51it/s]\n"
          ]
        },
        {
          "output_type": "stream",
          "name": "stdout",
          "text": [
            "Train Loss: 0.393 | Accuracy: 86.699\n"
          ]
        },
        {
          "output_type": "stream",
          "name": "stderr",
          "text": [
            "100%|██████████| 927/927 [00:33<00:00, 27.80it/s]\n"
          ]
        },
        {
          "output_type": "stream",
          "name": "stdout",
          "text": [
            "Test Loss: 0.427 | Accuracy: 85.531\n",
            "\n",
            "Epoch : 18\n"
          ]
        },
        {
          "output_type": "stream",
          "name": "stderr",
          "text": [
            "100%|██████████| 4326/4326 [02:36<00:00, 27.58it/s]\n"
          ]
        },
        {
          "output_type": "stream",
          "name": "stdout",
          "text": [
            "Train Loss: 0.387 | Accuracy: 86.878\n"
          ]
        },
        {
          "output_type": "stream",
          "name": "stderr",
          "text": [
            "100%|██████████| 927/927 [00:33<00:00, 27.43it/s]\n"
          ]
        },
        {
          "output_type": "stream",
          "name": "stdout",
          "text": [
            "Test Loss: 0.459 | Accuracy: 84.500\n",
            "\n",
            "Epoch : 19\n"
          ]
        },
        {
          "output_type": "stream",
          "name": "stderr",
          "text": [
            "100%|██████████| 4326/4326 [02:37<00:00, 27.44it/s]\n"
          ]
        },
        {
          "output_type": "stream",
          "name": "stdout",
          "text": [
            "Train Loss: 0.384 | Accuracy: 87.069\n"
          ]
        },
        {
          "output_type": "stream",
          "name": "stderr",
          "text": [
            "100%|██████████| 927/927 [00:33<00:00, 27.71it/s]"
          ]
        },
        {
          "output_type": "stream",
          "name": "stdout",
          "text": [
            "Test Loss: 0.430 | Accuracy: 85.575\n"
          ]
        },
        {
          "output_type": "stream",
          "name": "stderr",
          "text": [
            "\n"
          ]
        }
      ]
    },
    {
      "cell_type": "code",
      "source": [
        "from sklearn.metrics import confusion_matrix\n",
        "\n",
        "nb_classes = 14\n",
        "\n",
        "# Initialize the prediction and label lists(tensors)\n",
        "predlist=torch.zeros(0,dtype=torch.long, device='cpu')\n",
        "lbllist=torch.zeros(0,dtype=torch.long, device='cpu')\n",
        "\n",
        "with torch.no_grad():\n",
        "    for i, (inputs, classes) in enumerate(val_loader):\n",
        "        inputs = inputs.to(device)\n",
        "        classes = classes.to(device)\n",
        "        outputs = model(inputs)\n",
        "        _, preds = torch.max(outputs, 1)\n",
        "\n",
        "        # Append batch prediction results\n",
        "        predlist=torch.cat([predlist,preds.view(-1).cpu()])\n",
        "        lbllist=torch.cat([lbllist,classes.view(-1).cpu()])\n",
        "\n",
        "# Confusion matrix\n",
        "conf_mat=confusion_matrix(lbllist.numpy(), predlist.numpy())\n",
        "print(conf_mat)\n",
        "\n",
        "# Per-class accuracy\n",
        "class_accuracy=100*conf_mat.diagonal()/conf_mat.sum(1)\n",
        "print(class_accuracy)\n",
        "\n",
        "from sklearn.metrics import confusion_matrix\n",
        "import seaborn as sns\n",
        "\n",
        "matrix_confusion = confusion_matrix(predlist, lbllist)\n",
        "sns.heatmap(matrix_confusion, square=True, annot=True, xticklabels=data.classes, yticklabels=data.classes, cmap='Blues', fmt='d', cbar=False)"
      ],
      "metadata": {
        "colab": {
          "base_uri": "https://localhost:8080/",
          "height": 786
        },
        "id": "o0xHai5AXKMA",
        "outputId": "b5ba13b6-f9a8-48f9-d76a-2bdb08e427fb"
      },
      "execution_count": 18,
      "outputs": [
        {
          "output_type": "stream",
          "name": "stdout",
          "text": [
            "[[2001    3    0    6    7    3    5    1    2    0    8    0    6    1]\n",
            " [  43 1537   68  111   20    0   13   52   51    5    6    0   50   16]\n",
            " [  16   39 1689    9    3   22   38   18   75   22    0    0   21   16]\n",
            " [   7   21    3 1934   10    0    0   10    8    0    1    1    8    3]\n",
            " [   4    2    0   66 1171    0   10    5    0    1    1    2    1    0]\n",
            " [  22    0    2    0    3  941    1    0    0    0    0    0    2    3]\n",
            " [   6    5   11    1    9    1 2030   11   70  164    7    2   67   55]\n",
            " [  23   38   18  116   54    3   38 1678   73   27   11    6  304   21]\n",
            " [  27   27   19   50   21    9   77   83 1837   32    6    5  130   50]\n",
            " [   6    9    4    0   10    0  310    9   67 1855    5   20   90   10]\n",
            " [  53    1    0   24   49    0    6   18    2    0 2362   25   19    1]\n",
            " [   9    0    0   22   90    3    3    7    0   30   72 2244   18    0]\n",
            " [  15   22   12   13   17    0  113  195   98   52   19   13 1854    5]\n",
            " [   1    6   12    6    2    0   37    2    6    3    0    0    0 2260]]\n",
            "[97.94419971 77.94117647 85.82317073 96.4107677  92.71575614 96.61190965\n",
            " 83.23083231 69.62655602 77.41255794 77.45302714 92.265625   89.83186549\n",
            " 76.35914333 96.78800857]\n"
          ]
        },
        {
          "output_type": "execute_result",
          "data": {
            "text/plain": [
              "<matplotlib.axes._subplots.AxesSubplot at 0x7fabc424cf90>"
            ]
          },
          "metadata": {},
          "execution_count": 18
        },
        {
          "output_type": "display_data",
          "data": {
            "text/plain": [
              "<Figure size 432x288 with 1 Axes>"
            ],
            "image/png": "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\n"
          },
          "metadata": {
            "needs_background": "light"
          }
        }
      ]
    },
    {
      "cell_type": "code",
      "source": [
        "plt.figure(figsize=(8, 8))\n",
        "plt.subplot(2, 1, 1)\n",
        "plt.plot(accuracies['train'], label='Training Accuracy')\n",
        "plt.plot(accuracies['val'], label='Validation Accuracy')\n",
        "plt.legend(loc='lower right')\n",
        "plt.ylabel('Accuracy')\n",
        "# plt.ylim([min(plt.ylim()),1])\n",
        "plt.title('Training and Validation Accuracy')\n",
        "\n",
        "plt.subplot(2, 1, 2)\n",
        "plt.plot(losses['train'], label='Training Loss')\n",
        "plt.plot(losses['val'], label='Validation Loss')\n",
        "plt.legend(loc='upper right')\n",
        "plt.ylabel('Cross Entropy')\n",
        "plt.ylim([0,1.0])\n",
        "plt.title('Training and Validation Loss')\n",
        "plt.xlabel('epoch')\n",
        "plt.show()"
      ],
      "metadata": {
        "colab": {
          "base_uri": "https://localhost:8080/",
          "height": 513
        },
        "id": "12WiLg_mXY1l",
        "outputId": "0a3e3f90-3343-467d-b032-1b89ec8530ec"
      },
      "execution_count": 19,
      "outputs": [
        {
          "output_type": "display_data",
          "data": {
            "text/plain": [
              "<Figure size 576x576 with 2 Axes>"
            ],
            "image/png": "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\n"
          },
          "metadata": {
            "needs_background": "light"
          }
        }
      ]
    },
    {
      "cell_type": "code",
      "source": [
        "\n",
        "\n",
        "#Testing classification accuracy for individual classes.\n",
        "classes = ['Apple___healthy', 'Apple_scab', 'Black_rot', 'Cedar_apple_rust', 'Cherry__Powdery_mildew', 'Cherry__healthy', 'Tomato_Target_spot', 'Tomato__Late_blight', 'Tomato__Septoria_leaf_spot', 'Tomato__Spider_mites', 'Tomato___Bacterial_spot', 'Tomato___Tomato_Yellow_Leaf_Curl_Virus', 'Tomato__early_blight', 'Tomato__healthy']\n",
        "class_correct = list(0. for i in range(14))\n",
        "class_total = list(0. for i in range(14))\n",
        "c = []\n",
        "with torch.no_grad():\n",
        "    for data in val_loader:\n",
        "        images, labels = data[0].to(device), data[1].to(device)\n",
        "        outputs = model(images)\n",
        "        _, predicted = torch.max(outputs, 1)\n",
        "        c = (predicted==labels).squeeze()\n",
        "        # print(c)\n",
        "        for i in range(14):\n",
        "            label = labels[i]\n",
        "            class_correct[label] += c[i].item()\n",
        "            class_total[label] += 1\n",
        "print(c.type())\n",
        "for i in range(14):\n",
        "    print('Accuracy of %5s : %2d %%' % (\n",
        "        classes[i], 100 * class_correct[i] / class_total[i]))\n",
        "\n"
      ],
      "metadata": {
        "colab": {
          "base_uri": "https://localhost:8080/"
        },
        "id": "HySbXayB6zEh",
        "outputId": "1863ee0a-cfb6-4a7d-c2a4-01a24e072d60"
      },
      "execution_count": 20,
      "outputs": [
        {
          "output_type": "stream",
          "name": "stdout",
          "text": [
            "torch.cuda.BoolTensor\n",
            "Accuracy of Apple___healthy : 98 %\n",
            "Accuracy of Apple_scab : 77 %\n",
            "Accuracy of Black_rot : 86 %\n",
            "Accuracy of Cedar_apple_rust : 96 %\n",
            "Accuracy of Cherry__Powdery_mildew : 92 %\n",
            "Accuracy of Cherry__healthy : 95 %\n",
            "Accuracy of Tomato_Target_spot : 82 %\n",
            "Accuracy of Tomato__Late_blight : 68 %\n",
            "Accuracy of Tomato__Septoria_leaf_spot : 78 %\n",
            "Accuracy of Tomato__Spider_mites : 76 %\n",
            "Accuracy of Tomato___Bacterial_spot : 92 %\n",
            "Accuracy of Tomato___Tomato_Yellow_Leaf_Curl_Virus : 90 %\n",
            "Accuracy of Tomato__early_blight : 76 %\n",
            "Accuracy of Tomato__healthy : 96 %\n"
          ]
        }
      ]
    },
    {
      "cell_type": "code",
      "source": [
        "avg = 0\n",
        "for i in range(14):\n",
        "  temp = (100 * class_correct[i] / class_total[i])\n",
        "  avg = avg + temp\n",
        "avg = avg/14\n",
        "print('Average accuracy = ', avg)"
      ],
      "metadata": {
        "colab": {
          "base_uri": "https://localhost:8080/"
        },
        "id": "X9uf3vLv7LhV",
        "outputId": "48e1cd5f-b747-4852-ce08-de42076a776e"
      },
      "execution_count": 21,
      "outputs": [
        {
          "output_type": "stream",
          "name": "stdout",
          "text": [
            "Average accuracy =  87.14521568335712\n"
          ]
        }
      ]
    },
    {
      "cell_type": "code",
      "source": [
        "torch.save(model.state_dict(), '/content/gdrive/MyDrive/v3_capptom.pk1')\n",
        "model_scripted = torch.jit.script(model) # Export to TorchScript\n",
        "model_scripted.save('/content/gdrive/MyDrive/v3_capptom.pt')"
      ],
      "metadata": {
        "id": "tLN_oln47j71"
      },
      "execution_count": 23,
      "outputs": []
    }
  ]
}
