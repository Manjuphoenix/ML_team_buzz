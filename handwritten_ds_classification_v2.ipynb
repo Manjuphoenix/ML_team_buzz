{
    "cells": [
        {
            "cell_type": "code",
            "execution_count": null,
            "source": [
                "import matplotlib.pyplot as plt\n",
                "import torch\n",
                "import cv2\n",
                "import numpy as np\n",
                "import torch.nn as nn\n",
                "import torchvision.transforms.functional as fn\n",
                "import numpy\n",
                "import torchvision\n",
                "from torch.utils import data\n",
                "from torchvision import transforms"
            ],
            "outputs": [],
            "metadata": {}
        }
    ],
    "metadata": {
        "orig_nbformat": 4,
        "language_info": {
            "name": "python"
        }
    },
    "nbformat": 4,
    "nbformat_minor": 2
}