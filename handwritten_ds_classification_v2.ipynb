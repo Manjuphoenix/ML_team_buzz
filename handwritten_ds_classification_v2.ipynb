{
    "cells": [
        {
            "cell_type": "code",
            "execution_count": 2,
            "source": [
                "import matplotlib.pyplot as plt\n",
                "import torch\n",
                "#import cv2\n",
                "import numpy as np\n",
                "import torch.nn as nn\n",
                "import torchvision.transforms.functional as fn\n",
                "import numpy\n",
                "import torchvision\n",
                "from torch.utils import data\n",
                "from torchvision import transforms\n",
                "\n",
                "\n",
                "device = torch.device(\"cuda\" if torch.cuda.is_available() else \"cpu\")\n",
                "print(device)"
            ],
            "outputs": [
                {
                    "output_type": "stream",
                    "name": "stdout",
                    "text": [
                        "cpu\n"
                    ]
                }
            ],
            "metadata": {}
        },
        {
            "cell_type": "code",
            "execution_count": null,
            "source": [],
            "outputs": [],
            "metadata": {}
        }
    ],
    "metadata": {
        "orig_nbformat": 4,
        "language_info": {
            "name": "python",
            "version": "3.7.6",
            "mimetype": "text/x-python",
            "codemirror_mode": {
                "name": "ipython",
                "version": 3
            },
            "pygments_lexer": "ipython3",
            "nbconvert_exporter": "python",
            "file_extension": ".py"
        },
        "kernelspec": {
            "name": "python3",
            "display_name": "Python 3.7.6 64-bit ('base': conda)"
        },
        "interpreter": {
            "hash": "086be1427ca05b2af312932b7165838409742844383f947360d93b21591334d7"
        }
    },
    "nbformat": 4,
    "nbformat_minor": 2
}